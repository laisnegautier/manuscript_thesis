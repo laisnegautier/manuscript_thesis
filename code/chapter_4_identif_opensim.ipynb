{
 "cells": [
  {
   "cell_type": "code",
   "execution_count": 1,
   "metadata": {},
   "outputs": [
    {
     "name": "stderr",
     "output_type": "stream",
     "text": [
      "c:\\Users\\glaisne\\mambaforge\\envs\\workspace\\Lib\\site-packages\\numba\\core\\decorators.py:262: NumbaDeprecationWarning: \u001b[1mnumba.generated_jit is deprecated. Please see the documentation at: https://numba.readthedocs.io/en/stable/reference/deprecation.html#deprecation-of-generated-jit for more information and advice on a suitable replacement.\u001b[0m\n",
      "  warnings.warn(msg, NumbaDeprecationWarning)\n",
      "c:\\Users\\glaisne\\mambaforge\\envs\\workspace\\Lib\\site-packages\\numba\\core\\decorators.py:262: NumbaDeprecationWarning: \u001b[1mnumba.generated_jit is deprecated. Please see the documentation at: https://numba.readthedocs.io/en/stable/reference/deprecation.html#deprecation-of-generated-jit for more information and advice on a suitable replacement.\u001b[0m\n",
      "  warnings.warn(msg, NumbaDeprecationWarning)\n",
      "c:\\Users\\glaisne\\mambaforge\\envs\\workspace\\Lib\\site-packages\\pyganja\\__init__.py:2: UserWarning: Failed to import cef_gui, cef functions will be unavailable\n",
      "  from .script_api import *\n",
      "c:\\Users\\glaisne\\mambaforge\\envs\\workspace\\Lib\\site-packages\\numba\\core\\decorators.py:262: NumbaDeprecationWarning: \u001b[1mnumba.generated_jit is deprecated. Please see the documentation at: https://numba.readthedocs.io/en/stable/reference/deprecation.html#deprecation-of-generated-jit for more information and advice on a suitable replacement.\u001b[0m\n",
      "  warnings.warn(msg, NumbaDeprecationWarning)\n",
      "c:\\Users\\glaisne\\mambaforge\\envs\\workspace\\Lib\\site-packages\\clifford\\tools\\g3c\\__init__.py:1034: NumbaDeprecationWarning: \u001b[1mThe 'nopython' keyword argument was not supplied to the 'numba.jit' decorator. The implicit default value for this argument is currently False, but it will be changed to True in Numba 0.59.0. See https://numba.readthedocs.io/en/stable/reference/deprecation.html#deprecation-of-object-mode-fall-back-behaviour-when-using-jit for details.\u001b[0m\n",
      "  @numba.jit\n",
      "c:\\Users\\glaisne\\mambaforge\\envs\\workspace\\Lib\\site-packages\\clifford\\tools\\g3c\\__init__.py:1040: NumbaDeprecationWarning: \u001b[1mThe 'nopython' keyword argument was not supplied to the 'numba.jit' decorator. The implicit default value for this argument is currently False, but it will be changed to True in Numba 0.59.0. See https://numba.readthedocs.io/en/stable/reference/deprecation.html#deprecation-of-object-mode-fall-back-behaviour-when-using-jit for details.\u001b[0m\n",
      "  @numba.jit\n",
      "c:\\Users\\glaisne\\mambaforge\\envs\\workspace\\Lib\\site-packages\\numba\\core\\decorators.py:262: NumbaDeprecationWarning: \u001b[1mnumba.generated_jit is deprecated. Please see the documentation at: https://numba.readthedocs.io/en/stable/reference/deprecation.html#deprecation-of-generated-jit for more information and advice on a suitable replacement.\u001b[0m\n",
      "  warnings.warn(msg, NumbaDeprecationWarning)\n"
     ]
    }
   ],
   "source": [
    "import opensim as osim\n",
    "import numpy as np\n",
    "import hyperobjects as ho\n",
    "import common\n",
    "import clifford as cf\n",
    "from clifford import g3c\n",
    "import clifford.tools.g3c as g3c_tools\n",
    "from opensim import Vec3\n",
    "from enum import Enum"
   ]
  },
  {
   "cell_type": "code",
   "execution_count": 2,
   "metadata": {},
   "outputs": [],
   "source": [
    "\n",
    "G3c, blades_g3c, stuff = g3c.layout, g3c.blades, g3c.stuff\n",
    "\n",
    "e1, e2, e3 = g3c.e1, g3c.e2, g3c.e3\n",
    "e12, e13, e23 = g3c.e12, g3c.e13, g3c.e23\n",
    "e31 = -e13\n",
    "Px, Py, Pz = g3c.e23, -g3c.e13, g3c.e12\n",
    "up, down, homo = g3c.up, g3c.down, g3c.homo\n",
    "no, ni = g3c.eo, g3c.einf\n",
    "E0 = g3c.E0\n",
    "I_base = g3c.I_base"
   ]
  },
  {
   "cell_type": "code",
   "execution_count": 3,
   "metadata": {},
   "outputs": [],
   "source": [
    "class MultiVectorType(Enum):\n",
    "    NotBlade = -1\n",
    "    Vector = 0\n",
    "    EuclideanPoint = 1\n",
    "    ConformalPoint = 2\n",
    "    PointPair = 3\n",
    "    Circle = 4\n",
    "    Line = 5\n",
    "    Sphere = 6\n",
    "    Plane = 7\n",
    "\n",
    "def blade_type(mv):\n",
    "    if not isinstance(mv, cf.MultiVector):\n",
    "        return MultiVectorType.NotBlade\n",
    "    \n",
    "    obj = g3c_tools.interpret_multivector_as_object(mv)\n",
    "    if obj == -1:\n",
    "        return MultiVectorType.NotBlade\n",
    "    elif obj == 0:\n",
    "        return MultiVectorType.Vector\n",
    "    elif obj == 1:\n",
    "        return MultiVectorType.EuclideanPoint\n",
    "    elif obj == 2:\n",
    "        return MultiVectorType.ConformalPoint\n",
    "    elif obj == 3:\n",
    "        return MultiVectorType.PointPair\n",
    "    elif obj == 4:\n",
    "        return MultiVectorType.Circle\n",
    "    elif obj == 5:\n",
    "        return MultiVectorType.Line\n",
    "    elif obj == 6:\n",
    "        return MultiVectorType.Sphere\n",
    "    elif obj == 7:\n",
    "        return MultiVectorType.Plane\n",
    "    \n",
    "def to_vector(v):\n",
    "    if isinstance(v, osim.Vec3):\n",
    "        v = v.to_numpy()\n",
    "    return v[0]*e1 + v[1]*e2 + v[2]*e3\n",
    "\n",
    "def to_point(p):\n",
    "    return up(to_vector(p))\n",
    "\n",
    "def to_array(mv):\n",
    "    b_type = blade_type(mv)\n",
    "    if b_type == MultiVectorType.Vector:\n",
    "        return np.array([mv | e1, mv | e2, mv | e3]).astype(float)\n",
    "    elif b_type == MultiVectorType.EuclideanPoint:\n",
    "        return np.array([mv | e1, mv | e2, mv | e3]).astype(float)\n",
    "    elif b_type == MultiVectorType.ConformalPoint:\n",
    "        mv = down(mv)\n",
    "        return np.array([mv | e1, mv | e2, mv | e3]).astype(float)\n",
    "    elif b_type == MultiVectorType.Line:\n",
    "        # return position then direction\n",
    "        P, D = g3c_tools.line_to_point_and_direction(mv)\n",
    "        if P == 0:\n",
    "            return [np.array([0,0,0]), to_array(D)]\n",
    "        return [to_array(P), to_array(D)]\n",
    "    elif b_type == MultiVectorType.Plane:\n",
    "        # return orthogonal proj of origin onto it THEN normal\n",
    "        location = g3c_tools.get_nearest_plane_point(mv)\n",
    "        normal = g3c_tools.get_plane_normal(mv)\n",
    "        if location == 0:\n",
    "            return [np.array([0,0,0]), to_array(normal)]\n",
    "        return [to_array(location), to_array(normal)]\n",
    "    else:\n",
    "        raise TypeError(f\"Can't convert {b_type} as numpy array.\")\n",
    "\n",
    "def rotation_axis_in_joint_frame(model, Q, last_frame):\n",
    "    W_in_ground = common.frame_jacobian(model, Q, last_frame)\n",
    "    W_in_joints = []\n",
    "    all_joints = [j for j in model.getJointSet()]\n",
    "    for i, w_in_ground in enumerate(W_in_ground.T):\n",
    "        Ji = all_joints[i // 3]\n",
    "        w_in_joint = model.getGround().expressVectorInAnotherFrame(Q, Vec3(*w_in_ground), Ji.getParentFrame()).to_numpy()\n",
    "        W_in_joints.append(w_in_joint)\n",
    "    return np.array(W_in_joints).T\n",
    "\n",
    "def lever_arms(model, Q, W, origin, frame_origin, insertion, frame_insertion):\n",
    "    if blade_type(origin) == MultiVectorType.NotBlade:\n",
    "        if not isinstance(origin, osim.Vec3):\n",
    "            origin = osim.Vec3(*origin)\n",
    "    else:\n",
    "        origin = osim.Vec3(*to_array(origin))\n",
    "\n",
    "    if blade_type(insertion) == MultiVectorType.NotBlade:\n",
    "        if not isinstance(insertion, osim.Vec3):\n",
    "            insertion = osim.Vec3(*insertion)\n",
    "    else:\n",
    "        insertion = osim.Vec3(*to_array(insertion))\n",
    "\n",
    "    lever_arms = []\n",
    "    for i, c in enumerate(model.getCoordinateSet()):\n",
    "        # c: osim.Coordinate = c\n",
    "        FJ: osim.Joint = c.getJoint().getParentFrame()\n",
    "        O_in_joint = frame_origin.findStationLocationInAnotherFrame(Q, origin, FJ).to_numpy()\n",
    "        I_in_joint = frame_insertion.findStationLocationInAnotherFrame(Q, insertion, FJ).to_numpy()\n",
    "        moment = np.cross(I_in_joint, O_in_joint) / np.linalg.norm(I_in_joint - O_in_joint)\n",
    "        lever_arm = W[:, i] @ moment\n",
    "        lever_arms.append(lever_arm)\n",
    "    \n",
    "    return np.array(lever_arms)"
   ]
  },
  {
   "cell_type": "code",
   "execution_count": 109,
   "metadata": {},
   "outputs": [],
   "source": [
    "np.random.seed(42)\n",
    "\n",
    "model = osim.Model()\n",
    "ground: osim.Ground = model.getGround()\n",
    "\n",
    "body1 = osim.Body(\"body1\", 1.0, osim.Vec3(0), osim.Inertia(0))\n",
    "body2 = osim.Body(\"body2\", 1.0, osim.Vec3(0), osim.Inertia(0))\n",
    "body3 = osim.Body(\"body3\", 1.0, osim.Vec3(0), osim.Inertia(0))\n",
    "\n",
    "# Joints are described such that their rotation/translation axes form the identity in the parent frame.\n",
    "joint1 = osim.BallJoint(\"joint1\", ground, Vec3(0), Vec3(0), body1, Vec3(0,0.5,0), Vec3(0))\n",
    "joint2 = osim.BallJoint(\"joint2\", body1, Vec3(0, -0.5, 0), Vec3(0), body2, Vec3(0,0.3,0), Vec3(0))\n",
    "\n",
    "# Only translational joint\n",
    "off_x = osim.Body(\"joint3_x_child\", 1.0, osim.Vec3(0), osim.Inertia(0))\n",
    "off_y = osim.Body(\"joint3_y_child\", 1.0, osim.Vec3(0), osim.Inertia(0))\n",
    "joint3 = osim.SliderJoint(\"joint3_x\", body2, Vec3(0, -0.5, 0), Vec3(0), off_x, Vec3(0), Vec3(0))\n",
    "joint3_y = osim.SliderJoint(\"joint3_y\", off_x, Vec3(0), Vec3(0, 0, osim.SimTK_PI/2), off_y, Vec3(0), Vec3(0))\n",
    "joint3_z = osim.SliderJoint(\"joint3_z\", off_y, Vec3(0), Vec3(0, -osim.SimTK_PI/2, 0), body3, Vec3(0,0.06,0), Vec3(0))\n",
    "\n",
    "# Cable spanning one rotational joint only\n",
    "C1 = osim.PathActuator()\n",
    "C1_body_origin = ground\n",
    "C1_body_insertion = body1\n",
    "C1_O = np.random.uniform(size=3)\n",
    "C1_I = np.random.uniform(size=3)\n",
    "C1.addNewPathPoint(\"C1_O\", C1_body_origin, Vec3(*C1_O))\n",
    "C1.addNewPathPoint(\"C1_I\", C1_body_insertion, Vec3(*C1_I))\n",
    "\n",
    "# Cable spanning two rotational joints\n",
    "C2 = osim.PathActuator()\n",
    "C2_body_origin = ground\n",
    "C2_body_insertion = body2\n",
    "C2_O = np.random.uniform(size=3)\n",
    "C2_I = np.random.uniform(size=3)\n",
    "C2.addNewPathPoint(\"C2_O\", C2_body_origin, Vec3(*C2_O))\n",
    "C2.addNewPathPoint(\"C2_I\", C2_body_insertion, Vec3(*C2_I))\n",
    "\n",
    "# Cable spanning one translation joint only\n",
    "C3 = osim.PathActuator()\n",
    "C3_body_origin = body2\n",
    "C3_body_insertion = body3\n",
    "C3_O = np.random.uniform(size=3)\n",
    "C3_I = np.random.uniform(size=3)\n",
    "C3.addNewPathPoint(\"C3_O\", C3_body_origin, Vec3(*C3_O))\n",
    "C3.addNewPathPoint(\"C3_I\", C3_body_insertion, Vec3(*C3_I))\n",
    "\n",
    "# Cable spanning one translation joint and one rotational joint\n",
    "C4 = osim.PathActuator()\n",
    "C4_body_origin = body1\n",
    "C4_body_insertion = body3\n",
    "C4_O = np.random.uniform(size=3)\n",
    "C4_I = np.random.uniform(size=3)\n",
    "C4.addNewPathPoint(\"C4_O\", C4_body_origin, Vec3(*C4_O))\n",
    "C4.addNewPathPoint(\"C4_I\", C4_body_insertion, Vec3(*C4_I))\n",
    "\n",
    "model.addBody(body1)\n",
    "model.addBody(body2)\n",
    "model.addBody(body3)\n",
    "model.addBody(off_x)\n",
    "model.addBody(off_y)\n",
    "\n",
    "model.addJoint(joint1)\n",
    "model.addJoint(joint2)\n",
    "model.addJoint(joint3)\n",
    "model.addJoint(joint3_y)\n",
    "model.addJoint(joint3_z)\n",
    "\n",
    "model.addForce(C1)\n",
    "model.addForce(C2)\n",
    "model.addForce(C3)\n",
    "model.addForce(C4)\n",
    "# model.addJoint(joint3)\n",
    "Q_null = model.initSystem()\n",
    "model.realizePosition(Q_null)\n",
    "model.equilibrateMuscles(Q_null)\n",
    "\n",
    "Q_val = np.random.uniform(-np.pi, np.pi, size=(4, 9))\n",
    "all_states = [osim.State(Q_null) for _ in Q_val]\n",
    "\n",
    "for state in all_states:\n",
    "    model.realizePosition(state)\n",
    "    model.equilibrateMuscles(state)\n",
    "\n",
    "for k, state in enumerate(all_states):\n",
    "    for i, c in enumerate(model.getCoordinateSet()):\n",
    "        c.setValue(state, Q_val[k, i])\n",
    "\n",
    "Q1 = all_states[0]\n",
    "Q2 = all_states[1]\n",
    "Q3 = all_states[2]\n",
    "Q4 = all_states[3]"
   ]
  },
  {
   "cell_type": "code",
   "execution_count": 110,
   "metadata": {},
   "outputs": [
    {
     "name": "stdout",
     "output_type": "stream",
     "text": [
      "joint1_coord_0\n",
      "joint1_coord_1\n",
      "joint1_coord_2\n",
      "joint2_coord_0\n",
      "joint2_coord_1\n",
      "joint2_coord_2\n",
      "joint3_x_coord_0\n",
      "joint3_y_coord_0\n",
      "joint3_z_coord_0\n",
      "[[ 1.    0.    0.    0.73  0.57  0.37  0.    0.    0.  ]\n",
      " [ 0.    1.    0.   -0.39 -0.1   0.92  0.    0.    0.  ]\n",
      " [ 0.    0.    1.    0.56 -0.82  0.15  0.    0.    0.  ]]\n",
      "[[  0.   -11.75  -8.05   0.4    7.75 -12.69   0.18  -0.91   0.37]\n",
      " [ 11.75   0.     9.72  14.97  -1.23   6.17  -0.2   -0.4   -0.89]\n",
      " [  8.05  -9.72   0.     9.8    5.57  -6.48   0.96   0.09  -0.26]]\n",
      "[ 1.  0. -0.]\n",
      "[ 0.  1. -0.]\n",
      "[-0. -0.  1.]\n"
     ]
    }
   ],
   "source": [
    "for c in model.getCoordinateSet():\n",
    "    print(c.getName())\n",
    "\n",
    "Jw_Q1 = common.frame_jacobian(model, all_states[3], body3)\n",
    "Jl_Q1 = common.station_jacobian(model, all_states[3], Vec3(*[1,10,10]), body3)\n",
    "print(Jw_Q1.round(2))\n",
    "print(Jl_Q1.round(2))\n",
    "\n",
    "W_joint1 = Jw_Q1[:,:3]\n",
    "W_joint2 = Jw_Q1[:,3:6]\n",
    "W_joint3 = Jl_Q1[:,6:]\n",
    "\n",
    "print(ground.expressVectorInAnotherFrame(all_states[3], Vec3(*W_joint3[:,0]), joint3.getParentFrame()).to_numpy().round(3))\n",
    "print(ground.expressVectorInAnotherFrame(all_states[3], Vec3(*W_joint3[:,1]), joint3.getParentFrame()).to_numpy().round(3))\n",
    "print(ground.expressVectorInAnotherFrame(all_states[3], Vec3(*W_joint3[:,2]), joint3.getParentFrame()).to_numpy().round(3))"
   ]
  },
  {
   "cell_type": "code",
   "execution_count": 21,
   "metadata": {},
   "outputs": [
    {
     "data": {
      "text/plain": [
       "array([[ 1., -0., -0.,  1., -0., -0.,  1.,  0.,  0.,  1.,  0., -0.],\n",
       "       [-0.,  1.,  0., -0.,  1.,  0.,  0.,  1., -0.,  0.,  1., -0.],\n",
       "       [-0.,  0.,  1., -0.,  0.,  1.,  0., -0.,  1., -0., -0.,  1.]])"
      ]
     },
     "execution_count": 21,
     "metadata": {},
     "output_type": "execute_result"
    }
   ],
   "source": [
    "W = rotation_axis_in_joint_frame(model, Q1, B_insertion)\n",
    "W.round(5)"
   ]
  },
  {
   "cell_type": "code",
   "execution_count": 111,
   "metadata": {},
   "outputs": [
    {
     "name": "stdout",
     "output_type": "stream",
     "text": [
      "CABLE 1:\n",
      "Q1: [-0.6071, 0.0168, 0.2889, 0.0, 0.0, 0.0, 0.0, 0.0, 0.0]\n",
      "Q2: [-0.4844, 0.1183, 0.0942, 0.0, 0.0, 0.0, 0.0, 0.0, 0.0]\n",
      "Q3: [0.4914, -0.3004, 0.1387, 0.0, 0.0, 0.0, 0.0, 0.0, 0.0]\n",
      "Q4: [-0.6391, 0.0188, 0.3025, 0.0, 0.0, 0.0, 0.0, 0.0, 0.0]\n",
      "\n",
      "CABLE 2:\n",
      "Q1: [-0.0757, -0.5911, 0.859, -0.0177, -0.3516, -0.0146, 0.0, 0.0, 0.0]\n",
      "Q2: [0.2912, 0.4662, -0.7, 0.2468, 0.6069, -0.6187, 0.0, 0.0, 0.0]\n",
      "Q3: [0.2049, -0.4535, 0.6336, -0.3018, 0.2304, 0.1083, 0.0, 0.0, 0.0]\n",
      "Q4: [-0.8652, -0.0174, 0.1086, 0.2158, -0.5799, 0.2817, 0.0, 0.0, 0.0]\n",
      "\n",
      "CABLE 3:\n",
      "Q1: [0.0, -0.0, 0.0, 0.0, -0.0, -0.0, 0.0931, 0.7677, 0.634]\n",
      "Q2: [0.0, -0.0, 0.0, 0.0, 0.0, 0.0, 0.3731, 0.9277, 0.0074]\n",
      "Q3: [0.0, -0.0, 0.0, -0.0, -0.0, 0.0, 0.1766, 0.7252, -0.6655]\n",
      "Q4: [-0.0, 0.0, -0.0, -0.0, 0.0, -0.0, 0.576, 0.7896, 0.2113]\n",
      "\n",
      "CABLE 4:\n",
      "Q1: [-0.0, 0.0, 0.0, 0.6732, 0.2562, -0.8065, -0.18, 0.5883, 0.7884]\n",
      "Q2: [-0.0, 0.0, -0.0, -0.3977, 0.7471, -0.6854, 0.1165, 0.9373, -0.3286]\n",
      "Q3: [-0.0, 0.0, -0.0, -0.0698, 0.1566, -0.1533, -0.0197, 0.7487, -0.6626]\n",
      "Q4: [-0.0, 0.0, 0.0, -0.2125, 0.4282, -0.4037, 0.5252, 0.7957, 0.3017]\n"
     ]
    }
   ],
   "source": [
    "coordinates = model.getCoordinateSet()\n",
    "\n",
    "print(\"CABLE 1:\")\n",
    "C1_LA_derivatives_Q1 = common.lever_arm_matrix(Q1, [C1], coordinates).ravel()\n",
    "C1_LA_derivatives_Q2 = common.lever_arm_matrix(Q2, [C1], coordinates).ravel()\n",
    "C1_LA_derivatives_Q3 = common.lever_arm_matrix(Q3, [C1], coordinates).ravel()\n",
    "C1_LA_derivatives_Q4 = common.lever_arm_matrix(Q4, [C1], coordinates).ravel()\n",
    "print(\"Q1:\", C1_LA_derivatives_Q1.round(4).tolist())\n",
    "print(\"Q2:\", C1_LA_derivatives_Q2.round(4).tolist())\n",
    "print(\"Q3:\", C1_LA_derivatives_Q3.round(4).tolist())\n",
    "print(\"Q4:\", C1_LA_derivatives_Q4.round(4).tolist())\n",
    "\n",
    "print(\"\\nCABLE 2:\")\n",
    "C2_LA_derivatives_Q1 = common.lever_arm_matrix(Q1, [C2], coordinates).ravel()\n",
    "C2_LA_derivatives_Q2 = common.lever_arm_matrix(Q2, [C2], coordinates).ravel()\n",
    "C2_LA_derivatives_Q3 = common.lever_arm_matrix(Q3, [C2], coordinates).ravel()\n",
    "C2_LA_derivatives_Q4 = common.lever_arm_matrix(Q4, [C2], coordinates).ravel()\n",
    "print(\"Q1:\", C2_LA_derivatives_Q1.round(4).tolist())\n",
    "print(\"Q2:\", C2_LA_derivatives_Q2.round(4).tolist())\n",
    "print(\"Q3:\", C2_LA_derivatives_Q3.round(4).tolist())\n",
    "print(\"Q4:\", C2_LA_derivatives_Q4.round(4).tolist())\n",
    "\n",
    "print(\"\\nCABLE 3:\")\n",
    "C3_LA_derivatives_Q1 = common.lever_arm_matrix(Q1, [C3], coordinates).ravel()\n",
    "C3_LA_derivatives_Q2 = common.lever_arm_matrix(Q2, [C3], coordinates).ravel()\n",
    "C3_LA_derivatives_Q3 = common.lever_arm_matrix(Q3, [C3], coordinates).ravel()\n",
    "C3_LA_derivatives_Q4 = common.lever_arm_matrix(Q4, [C3], coordinates).ravel()\n",
    "print(\"Q1:\", C3_LA_derivatives_Q1.round(4).tolist())\n",
    "print(\"Q2:\", C3_LA_derivatives_Q2.round(4).tolist())\n",
    "print(\"Q3:\", C3_LA_derivatives_Q3.round(4).tolist())\n",
    "print(\"Q4:\", C3_LA_derivatives_Q4.round(4).tolist())\n",
    "\n",
    "print(\"\\nCABLE 4:\")\n",
    "C4_LA_derivatives_Q1 = common.lever_arm_matrix(Q1, [C4], coordinates).ravel()\n",
    "C4_LA_derivatives_Q2 = common.lever_arm_matrix(Q2, [C4], coordinates).ravel()\n",
    "C4_LA_derivatives_Q3 = common.lever_arm_matrix(Q3, [C4], coordinates).ravel()\n",
    "C4_LA_derivatives_Q4 = common.lever_arm_matrix(Q4, [C4], coordinates).ravel()\n",
    "print(\"Q1:\", C4_LA_derivatives_Q1.round(4).tolist())\n",
    "print(\"Q2:\", C4_LA_derivatives_Q2.round(4).tolist())\n",
    "print(\"Q3:\", C4_LA_derivatives_Q3.round(4).tolist())\n",
    "print(\"Q4:\", C4_LA_derivatives_Q4.round(4).tolist())"
   ]
  },
  {
   "cell_type": "code",
   "execution_count": 156,
   "metadata": {},
   "outputs": [
    {
     "name": "stdout",
     "output_type": "stream",
     "text": [
      "-(0.57277^e124) - (0.57277^e125) - (0.51085^e134) - (0.51085^e135) - (0.09307^e145) - (0.31204^e234) - (0.31204^e235) - (0.76771^e245) - (0.63401^e345)\n",
      "-(0.09307^e1) - (0.76771^e2) - (0.63401^e3)\n",
      "[0.0931 0.7677 0.634 ]\n",
      "[0.57602652 0.78963652 0.21134717]\n"
     ]
    }
   ],
   "source": [
    "Oa = C3_body_origin.findStationLocationInAnotherFrame(Q1, Vec3(*C3_O), joint3.getParentFrame())\n",
    "Ia = C3_body_insertion.findStationLocationInAnotherFrame(Q1, Vec3(*C3_I), joint3.getParentFrame())\n",
    "\n",
    "LL = to_point(Oa)^to_point(Ia)^ni\n",
    "print(LL.normal())\n",
    "p, d = g3c_tools.line_to_point_and_direction(LL.normal())\n",
    "print(d)\n",
    "print(C3_LA_derivatives_Q1.round(4)[6:])\n",
    "D1 = C3_LA_derivatives_Q1[6:]\n",
    "D2 = C3_LA_derivatives_Q2[6:]\n",
    "D3 = C3_LA_derivatives_Q3[6:]\n",
    "D4 = C3_LA_derivatives_Q4[6:]\n"
   ]
  },
  {
   "cell_type": "code",
   "execution_count": 112,
   "metadata": {},
   "outputs": [],
   "source": [
    "C1_n_joint1_Q1 = C1_LA_derivatives_Q1[:3]\n",
    "C1_n_joint1_Q2 = C1_LA_derivatives_Q2[:3]\n",
    "C1_n_joint1_Q3 = C1_LA_derivatives_Q3[:3]\n",
    "C1_n_joint1_Q4 = C1_LA_derivatives_Q4[:3]\n",
    "\n",
    "C2_n_joint1_Q1 = C2_LA_derivatives_Q1[:3]\n",
    "C2_n_joint1_Q2 = C2_LA_derivatives_Q2[:3]\n",
    "C2_n_joint1_Q3 = C2_LA_derivatives_Q3[:3]\n",
    "C2_n_joint1_Q4 = C2_LA_derivatives_Q4[:3]\n",
    "C2_n_joint2_Q1 = C2_LA_derivatives_Q1[3:6]\n",
    "C2_n_joint2_Q2 = C2_LA_derivatives_Q2[3:6]\n",
    "C2_n_joint2_Q3 = C2_LA_derivatives_Q3[3:6]\n",
    "C2_n_joint2_Q4 = C2_LA_derivatives_Q4[3:6]\n",
    "\n",
    "C3_n_joint3_Q1 = C3_LA_derivatives_Q1[6:]\n",
    "C3_n_joint3_Q2 = C3_LA_derivatives_Q2[6:]\n",
    "C3_n_joint3_Q3 = C3_LA_derivatives_Q3[6:]\n",
    "C3_n_joint3_Q4 = C3_LA_derivatives_Q4[6:]\n",
    "\n",
    "C4_n_joint2_Q1 = C4_LA_derivatives_Q1[3:6]\n",
    "C4_n_joint2_Q2 = C4_LA_derivatives_Q2[3:6]\n",
    "C4_n_joint2_Q3 = C4_LA_derivatives_Q3[3:6]\n",
    "C4_n_joint2_Q4 = C4_LA_derivatives_Q4[3:6]\n",
    "C4_n_joint3_Q1 = C4_LA_derivatives_Q1[6:]\n",
    "C4_n_joint3_Q2 = C4_LA_derivatives_Q2[6:]\n",
    "C4_n_joint3_Q3 = C4_LA_derivatives_Q3[6:]\n",
    "C4_n_joint3_Q4 = C4_LA_derivatives_Q4[6:]"
   ]
  },
  {
   "cell_type": "code",
   "execution_count": 303,
   "metadata": {},
   "outputs": [
    {
     "name": "stdout",
     "output_type": "stream",
     "text": [
      "0\n",
      "0\n",
      "0\n",
      "0\n",
      "(0.05808^e14) + (0.05808^e15) + (0.86618^e24) + (0.86618^e25) + (0.60112^e34) + (0.60112^e35) - (1.0^e45)\n",
      "[0.05808361 0.86617615 0.60111501]\n",
      "(0.70807^e14) + (0.70807^e15) + (0.02058^e24) + (0.02058^e25) + (0.96991^e34) + (0.96991^e35) - (1.0^e45)\n",
      "[0.70807258 0.02058449 0.96990985]\n",
      "-(0.38385^e1234) - (0.38385^e1235) - (0.63401^e1245) + (0.76771^e1345) - (0.09307^e2345)\n",
      "MultiVectorType.Plane\n",
      "-(2.66796^e124) - (2.66796^e125) - (2.20073^e134) - (2.20073^e135) - (0.40096^e145) + (0.02138^e234) + (0.02138^e235) - (3.30725^e245) - (2.73128^e345)\n",
      "0\n",
      "MultiVectorType.Plane\n",
      "MultiVectorType.Plane\n",
      "MultiVectorType.Line\n",
      "-(0.02125^e124) - (0.02125^e125) - (0.26066^e134) - (0.26066^e135) + (0.10006^e145) - (0.06185^e234) - (0.06185^e235) - (0.29127^e345)\n"
     ]
    }
   ],
   "source": [
    "joint1_center = Vec3(0)\n",
    "joint2_center = Vec3(0)\n",
    "joint3_center = Vec3(0)\n",
    "joint4_center = Vec3(0)\n",
    "\n",
    "# CABLE 1: acts on joint 1 only\n",
    "joint1_center_in_C1_body_origin_Q1 = joint1.getParentFrame().findStationLocationInAnotherFrame(Q1, joint1_center, C1_body_origin).to_numpy()\n",
    "joint1_center_in_C1_body_origin_Q2 = joint1.getParentFrame().findStationLocationInAnotherFrame(Q2, joint1_center, C1_body_origin).to_numpy()\n",
    "joint1_center_in_C1_body_origin_Q3 = joint1.getParentFrame().findStationLocationInAnotherFrame(Q3, joint1_center, C1_body_origin).to_numpy()\n",
    "joint1_center_in_C1_body_origin_Q4 = joint1.getParentFrame().findStationLocationInAnotherFrame(Q4, joint1_center, C1_body_origin).to_numpy()\n",
    "joint1_center_in_C1_body_insertion_Q1 = joint1.getParentFrame().findStationLocationInAnotherFrame(Q1, joint1_center, C1_body_insertion).to_numpy()\n",
    "joint1_center_in_C1_body_insertion_Q2 = joint1.getParentFrame().findStationLocationInAnotherFrame(Q2, joint1_center, C1_body_insertion).to_numpy()\n",
    "joint1_center_in_C1_body_insertion_Q3 = joint1.getParentFrame().findStationLocationInAnotherFrame(Q3, joint1_center, C1_body_insertion).to_numpy()\n",
    "joint1_center_in_C1_body_insertion_Q4 = joint1.getParentFrame().findStationLocationInAnotherFrame(Q4, joint1_center, C1_body_insertion).to_numpy()\n",
    "\n",
    "joint1_normal_in_C1_body_origin_Q1 = joint1.getParentFrame().expressVectorInAnotherFrame(Q1, Vec3(*C1_n_joint1_Q1), C1_body_origin).to_numpy()\n",
    "joint1_normal_in_C1_body_origin_Q2 = joint1.getParentFrame().expressVectorInAnotherFrame(Q2, Vec3(*C1_n_joint1_Q2), C1_body_origin).to_numpy()\n",
    "joint1_normal_in_C1_body_origin_Q3 = joint1.getParentFrame().expressVectorInAnotherFrame(Q3, Vec3(*C1_n_joint1_Q3), C1_body_origin).to_numpy()\n",
    "joint1_normal_in_C1_body_origin_Q4 = joint1.getParentFrame().expressVectorInAnotherFrame(Q4, Vec3(*C1_n_joint1_Q4), C1_body_origin).to_numpy()\n",
    "joint1_normal_in_C1_body_insertion_Q1 = joint1.getParentFrame().expressVectorInAnotherFrame(Q1, Vec3(*C1_n_joint1_Q1), C1_body_insertion).to_numpy()\n",
    "joint1_normal_in_C1_body_insertion_Q2 = joint1.getParentFrame().expressVectorInAnotherFrame(Q2, Vec3(*C1_n_joint1_Q2), C1_body_insertion).to_numpy()\n",
    "joint1_normal_in_C1_body_insertion_Q3 = joint1.getParentFrame().expressVectorInAnotherFrame(Q3, Vec3(*C1_n_joint1_Q3), C1_body_insertion).to_numpy()\n",
    "joint1_normal_in_C1_body_insertion_Q4 = joint1.getParentFrame().expressVectorInAnotherFrame(Q4, Vec3(*C1_n_joint1_Q4), C1_body_insertion).to_numpy()\n",
    "\n",
    "# -> replacing the normals into origin and insertion bodies\n",
    "C1_P1_body_origin = (to_vector(joint1_normal_in_C1_body_origin_Q1) + (to_vector(joint1_center_in_C1_body_origin_Q1) | to_vector(joint1_normal_in_C1_body_origin_Q1)) * ni).dual()\n",
    "C1_P2_body_origin = (to_vector(joint1_normal_in_C1_body_origin_Q2) + (to_vector(joint1_center_in_C1_body_origin_Q2) | to_vector(joint1_normal_in_C1_body_origin_Q2)) * ni).dual()\n",
    "C1_P3_body_origin = (to_vector(joint1_normal_in_C1_body_origin_Q3) + (to_vector(joint1_center_in_C1_body_origin_Q3) | to_vector(joint1_normal_in_C1_body_origin_Q3)) * ni).dual()\n",
    "C1_P4_body_origin = (to_vector(joint1_normal_in_C1_body_origin_Q4) + (to_vector(joint1_center_in_C1_body_origin_Q4) | to_vector(joint1_normal_in_C1_body_origin_Q4)) * ni).dual()\n",
    "\n",
    "C1_P1_body_insertion = (to_vector(joint1_normal_in_C1_body_insertion_Q1) + (to_vector(joint1_center_in_C1_body_insertion_Q1) | to_vector(joint1_normal_in_C1_body_insertion_Q1)) * ni).dual()\n",
    "C1_P2_body_insertion = (to_vector(joint1_normal_in_C1_body_insertion_Q2) + (to_vector(joint1_center_in_C1_body_insertion_Q2) | to_vector(joint1_normal_in_C1_body_insertion_Q2)) * ni).dual()\n",
    "C1_P3_body_insertion = (to_vector(joint1_normal_in_C1_body_insertion_Q3) + (to_vector(joint1_center_in_C1_body_insertion_Q3) | to_vector(joint1_normal_in_C1_body_insertion_Q3)) * ni).dual()\n",
    "C1_P4_body_insertion = (to_vector(joint1_normal_in_C1_body_insertion_Q4) + (to_vector(joint1_center_in_C1_body_insertion_Q4) | to_vector(joint1_normal_in_C1_body_insertion_Q4)) * ni).dual()\n",
    "\n",
    "C1_L_origin = C1_P1_body_origin.meet(C1_P2_body_origin).meet(C1_P3_body_origin).meet(C1_P4_body_origin)\n",
    "C1_L_insertion = C1_P1_body_insertion.meet(C1_P2_body_insertion).meet(C1_P3_body_insertion).meet(C1_P4_body_insertion)\n",
    "print(to_point(C1_O) ^ C1_L_origin)\n",
    "print(to_point(C1_I) ^ C1_L_insertion)\n",
    "\n",
    "# CABLE 2: acts on joint 1 and 2\n",
    "joint1_center_in_C2_body_origin_Q1 = joint1.getParentFrame().findStationLocationInAnotherFrame(Q1, joint1_center, C2_body_origin).to_numpy()\n",
    "joint1_center_in_C2_body_origin_Q2 = joint1.getParentFrame().findStationLocationInAnotherFrame(Q2, joint1_center, C2_body_origin).to_numpy()\n",
    "joint1_center_in_C2_body_origin_Q3 = joint1.getParentFrame().findStationLocationInAnotherFrame(Q3, joint1_center, C2_body_origin).to_numpy()\n",
    "joint1_center_in_C2_body_origin_Q4 = joint1.getParentFrame().findStationLocationInAnotherFrame(Q4, joint1_center, C2_body_origin).to_numpy()\n",
    "joint1_center_in_C2_body_insertion_Q1 = joint1.getParentFrame().findStationLocationInAnotherFrame(Q1, joint1_center, C2_body_insertion).to_numpy()\n",
    "joint1_center_in_C2_body_insertion_Q2 = joint1.getParentFrame().findStationLocationInAnotherFrame(Q2, joint1_center, C2_body_insertion).to_numpy()\n",
    "joint1_center_in_C2_body_insertion_Q3 = joint1.getParentFrame().findStationLocationInAnotherFrame(Q3, joint1_center, C2_body_insertion).to_numpy()\n",
    "joint1_center_in_C2_body_insertion_Q4 = joint1.getParentFrame().findStationLocationInAnotherFrame(Q4, joint1_center, C2_body_insertion).to_numpy()\n",
    "\n",
    "joint1_normal_in_C2_body_origin_Q1 = joint1.getParentFrame().expressVectorInAnotherFrame(Q1, Vec3(*C2_n_joint1_Q1), C2_body_origin).to_numpy()\n",
    "joint1_normal_in_C2_body_origin_Q2 = joint1.getParentFrame().expressVectorInAnotherFrame(Q2, Vec3(*C2_n_joint1_Q2), C2_body_origin).to_numpy()\n",
    "joint1_normal_in_C2_body_origin_Q3 = joint1.getParentFrame().expressVectorInAnotherFrame(Q3, Vec3(*C2_n_joint1_Q3), C2_body_origin).to_numpy()\n",
    "joint1_normal_in_C2_body_origin_Q4 = joint1.getParentFrame().expressVectorInAnotherFrame(Q4, Vec3(*C2_n_joint1_Q4), C2_body_origin).to_numpy()\n",
    "joint1_normal_in_C2_body_insertion_Q1 = joint1.getParentFrame().expressVectorInAnotherFrame(Q1, Vec3(*C2_n_joint1_Q1), C2_body_insertion).to_numpy()\n",
    "joint1_normal_in_C2_body_insertion_Q2 = joint1.getParentFrame().expressVectorInAnotherFrame(Q2, Vec3(*C2_n_joint1_Q2), C2_body_insertion).to_numpy()\n",
    "joint1_normal_in_C2_body_insertion_Q3 = joint1.getParentFrame().expressVectorInAnotherFrame(Q3, Vec3(*C2_n_joint1_Q3), C2_body_insertion).to_numpy()\n",
    "joint1_normal_in_C2_body_insertion_Q4 = joint1.getParentFrame().expressVectorInAnotherFrame(Q4, Vec3(*C2_n_joint1_Q4), C2_body_insertion).to_numpy()\n",
    "C2_P1_joint1_body_origin = (to_vector(joint1_normal_in_C2_body_origin_Q1) + (to_vector(joint1_center_in_C2_body_origin_Q1) | to_vector(joint1_normal_in_C2_body_origin_Q1)) * ni).dual()\n",
    "C2_P2_joint1_body_origin = (to_vector(joint1_normal_in_C2_body_origin_Q2) + (to_vector(joint1_center_in_C2_body_origin_Q2) | to_vector(joint1_normal_in_C2_body_origin_Q2)) * ni).dual()\n",
    "C2_P3_joint1_body_origin = (to_vector(joint1_normal_in_C2_body_origin_Q3) + (to_vector(joint1_center_in_C2_body_origin_Q3) | to_vector(joint1_normal_in_C2_body_origin_Q3)) * ni).dual()\n",
    "C2_P4_joint1_body_origin = (to_vector(joint1_normal_in_C2_body_origin_Q4) + (to_vector(joint1_center_in_C2_body_origin_Q4) | to_vector(joint1_normal_in_C2_body_origin_Q4)) * ni).dual()\n",
    "C2_P1_joint1_body_insertion = (to_vector(joint1_normal_in_C2_body_insertion_Q1) + (to_vector(joint1_center_in_C2_body_insertion_Q1) | to_vector(joint1_normal_in_C2_body_insertion_Q1)) * ni).dual()\n",
    "C2_P2_joint1_body_insertion = (to_vector(joint1_normal_in_C2_body_insertion_Q2) + (to_vector(joint1_center_in_C2_body_insertion_Q2) | to_vector(joint1_normal_in_C2_body_insertion_Q2)) * ni).dual()\n",
    "C2_P3_joint1_body_insertion = (to_vector(joint1_normal_in_C2_body_insertion_Q3) + (to_vector(joint1_center_in_C2_body_insertion_Q3) | to_vector(joint1_normal_in_C2_body_insertion_Q3)) * ni).dual()\n",
    "C2_P4_joint1_body_insertion = (to_vector(joint1_normal_in_C2_body_insertion_Q4) + (to_vector(joint1_center_in_C2_body_insertion_Q4) | to_vector(joint1_normal_in_C2_body_insertion_Q4)) * ni).dual()\n",
    "\n",
    "\n",
    "joint2_center_in_C2_body_origin_Q1 = joint2.getParentFrame().findStationLocationInAnotherFrame(Q1, joint2_center, C2_body_origin).to_numpy()\n",
    "joint2_center_in_C2_body_origin_Q2 = joint2.getParentFrame().findStationLocationInAnotherFrame(Q2, joint2_center, C2_body_origin).to_numpy()\n",
    "joint2_center_in_C2_body_origin_Q3 = joint2.getParentFrame().findStationLocationInAnotherFrame(Q3, joint2_center, C2_body_origin).to_numpy()\n",
    "joint2_center_in_C2_body_origin_Q4 = joint2.getParentFrame().findStationLocationInAnotherFrame(Q4, joint2_center, C2_body_origin).to_numpy()\n",
    "joint2_center_in_C2_body_insertion_Q1 = joint2.getParentFrame().findStationLocationInAnotherFrame(Q1, joint2_center, C2_body_insertion).to_numpy()\n",
    "joint2_center_in_C2_body_insertion_Q2 = joint2.getParentFrame().findStationLocationInAnotherFrame(Q2, joint2_center, C2_body_insertion).to_numpy()\n",
    "joint2_center_in_C2_body_insertion_Q3 = joint2.getParentFrame().findStationLocationInAnotherFrame(Q3, joint2_center, C2_body_insertion).to_numpy()\n",
    "joint2_center_in_C2_body_insertion_Q4 = joint2.getParentFrame().findStationLocationInAnotherFrame(Q4, joint2_center, C2_body_insertion).to_numpy()\n",
    "\n",
    "joint2_normal_in_C2_body_origin_Q1 = joint2.getParentFrame().expressVectorInAnotherFrame(Q1, Vec3(*C2_n_joint2_Q1), C2_body_origin).to_numpy()\n",
    "joint2_normal_in_C2_body_origin_Q2 = joint2.getParentFrame().expressVectorInAnotherFrame(Q2, Vec3(*C2_n_joint2_Q2), C2_body_origin).to_numpy()\n",
    "joint2_normal_in_C2_body_origin_Q3 = joint2.getParentFrame().expressVectorInAnotherFrame(Q3, Vec3(*C2_n_joint2_Q3), C2_body_origin).to_numpy()\n",
    "joint2_normal_in_C2_body_origin_Q4 = joint2.getParentFrame().expressVectorInAnotherFrame(Q4, Vec3(*C2_n_joint2_Q4), C2_body_origin).to_numpy()\n",
    "joint2_normal_in_C2_body_insertion_Q1 = joint2.getParentFrame().expressVectorInAnotherFrame(Q1, Vec3(*C2_n_joint2_Q1), C2_body_insertion).to_numpy()\n",
    "joint2_normal_in_C2_body_insertion_Q2 = joint2.getParentFrame().expressVectorInAnotherFrame(Q2, Vec3(*C2_n_joint2_Q2), C2_body_insertion).to_numpy()\n",
    "joint2_normal_in_C2_body_insertion_Q3 = joint2.getParentFrame().expressVectorInAnotherFrame(Q3, Vec3(*C2_n_joint2_Q3), C2_body_insertion).to_numpy()\n",
    "joint2_normal_in_C2_body_insertion_Q4 = joint2.getParentFrame().expressVectorInAnotherFrame(Q4, Vec3(*C2_n_joint2_Q4), C2_body_insertion).to_numpy()\n",
    "C2_P1_joint2_body_origin = (to_vector(joint2_normal_in_C2_body_origin_Q1) + (to_vector(joint2_center_in_C2_body_origin_Q1) | to_vector(joint2_normal_in_C2_body_origin_Q1)) * ni).dual()\n",
    "C2_P2_joint2_body_origin = (to_vector(joint2_normal_in_C2_body_origin_Q2) + (to_vector(joint2_center_in_C2_body_origin_Q2) | to_vector(joint2_normal_in_C2_body_origin_Q2)) * ni).dual()\n",
    "C2_P3_joint2_body_origin = (to_vector(joint2_normal_in_C2_body_origin_Q3) + (to_vector(joint2_center_in_C2_body_origin_Q3) | to_vector(joint2_normal_in_C2_body_origin_Q3)) * ni).dual()\n",
    "C2_P4_joint2_body_origin = (to_vector(joint2_normal_in_C2_body_origin_Q4) + (to_vector(joint2_center_in_C2_body_origin_Q4) | to_vector(joint2_normal_in_C2_body_origin_Q4)) * ni).dual()\n",
    "C2_P1_joint2_body_insertion = (to_vector(joint2_normal_in_C2_body_insertion_Q1) + (to_vector(joint2_center_in_C2_body_insertion_Q1) | to_vector(joint2_normal_in_C2_body_insertion_Q1)) * ni).dual()\n",
    "C2_P2_joint2_body_insertion = (to_vector(joint2_normal_in_C2_body_insertion_Q2) + (to_vector(joint2_center_in_C2_body_insertion_Q2) | to_vector(joint2_normal_in_C2_body_insertion_Q2)) * ni).dual()\n",
    "C2_P3_joint2_body_insertion = (to_vector(joint2_normal_in_C2_body_insertion_Q3) + (to_vector(joint2_center_in_C2_body_insertion_Q3) | to_vector(joint2_normal_in_C2_body_insertion_Q3)) * ni).dual()\n",
    "C2_P4_joint2_body_insertion = (to_vector(joint2_normal_in_C2_body_insertion_Q4) + (to_vector(joint2_center_in_C2_body_insertion_Q4) | to_vector(joint2_normal_in_C2_body_insertion_Q4)) * ni).dual()\n",
    "\n",
    "# ONLY TWO POSTURES ARE REQUIRED.\n",
    "C2_L_joint1_origin = C2_P1_joint1_body_origin.meet(C2_P2_joint1_body_origin) #.meet(C2_P3_joint1_body_origin).meet(C2_P4_joint1_body_origin)\n",
    "C2_L_joint1_insertion = C2_P1_joint1_body_insertion.meet(C2_P2_joint1_body_insertion) #.meet(C2_P3_joint1_body_insertion).meet(C2_P4_joint1_body_insertion)\n",
    "C2_L_joint2_origin = C2_P1_joint2_body_origin.meet(C2_P2_joint2_body_origin) #.meet(C2_P3_joint2_body_origin).meet(C2_P4_joint2_body_origin)\n",
    "C2_L_joint2_insertion = C2_P1_joint2_body_insertion.meet(C2_P2_joint2_body_insertion) #.meet(C2_P3_joint2_body_insertion).meet(C2_P4_joint2_body_insertion)\n",
    "C2_L_origin = C2_L_joint1_origin.meet(C2_L_joint2_origin)\n",
    "C2_L_insertion = C2_L_joint1_insertion.meet(C2_L_joint2_insertion)\n",
    "\n",
    "print(to_point(C2_O) ^ C2_L_origin)\n",
    "print(to_point(C2_I) ^ C2_L_insertion)\n",
    "\n",
    "# IT's a point pair = it is a unique solution\n",
    "sol_C2_O = C2_L_origin.normal()\n",
    "print(sol_C2_O)\n",
    "print(C2_O)\n",
    "\n",
    "sol_C2_I = C2_L_insertion.normal()\n",
    "print(sol_C2_I)\n",
    "print(C2_I)\n",
    "\n",
    "# print()\n",
    "# print(C2_L_insertion.normal())\n",
    "\n",
    "# # sol_C2_O = to_array(g3c_tools.intersect_line_and_plane_to_point(C2_L_joint1_origin, C2_P1_joint2_body_origin))\n",
    "# # sol_C2_I = to_array(g3c_tools.intersect_line_and_plane_to_point(C2_L_joint1_insertion, C2_P2_joint2_body_insertion))\n",
    "# print(sol_C2_O, C2_O)\n",
    "# print(sol_C2_I, C2_I)\n",
    "# # print(blade_type(C2_L_origin), blade_type(C2_L_insertion))\n",
    "\n",
    "# CABLE 3: acts on joint 3 only\n",
    "joint3_center_in_C3_body_origin_Q1 = joint3.getParentFrame().findStationLocationInAnotherFrame(Q1, joint3_center, C3_body_origin).to_numpy()\n",
    "joint3_center_in_C3_body_origin_Q2 = joint3.getParentFrame().findStationLocationInAnotherFrame(Q2, joint3_center, C3_body_origin).to_numpy()\n",
    "joint3_center_in_C3_body_origin_Q3 = joint3.getParentFrame().findStationLocationInAnotherFrame(Q3, joint3_center, C3_body_origin).to_numpy()\n",
    "joint3_center_in_C3_body_origin_Q4 = joint3.getParentFrame().findStationLocationInAnotherFrame(Q4, joint3_center, C3_body_origin).to_numpy()\n",
    "joint3_center_in_C3_body_insertion_Q1 = joint3.getParentFrame().findStationLocationInAnotherFrame(Q1, joint3_center, C3_body_insertion).to_numpy()\n",
    "joint3_center_in_C3_body_insertion_Q2 = joint3.getParentFrame().findStationLocationInAnotherFrame(Q2, joint3_center, C3_body_insertion).to_numpy()\n",
    "joint3_center_in_C3_body_insertion_Q3 = joint3.getParentFrame().findStationLocationInAnotherFrame(Q3, joint3_center, C3_body_insertion).to_numpy()\n",
    "joint3_center_in_C3_body_insertion_Q4 = joint3.getParentFrame().findStationLocationInAnotherFrame(Q4, joint3_center, C3_body_insertion).to_numpy()\n",
    "\n",
    "# directions of C3 in the joint frame\n",
    "C3_D1 = C3_LA_derivatives_Q1[6:]\n",
    "C3_D2 = C3_LA_derivatives_Q2[6:]\n",
    "C3_D3 = C3_LA_derivatives_Q3[6:]\n",
    "C3_D4 = C3_LA_derivatives_Q4[6:]\n",
    "\n",
    "n1 = joint3.getParentFrame().expressVectorInAnotherFrame(Q1, Vec3(*C3_D1), C3_body_origin).to_numpy() @ np.array([e1, e2, e3])\n",
    "n2 = joint3.getParentFrame().expressVectorInAnotherFrame(Q2, Vec3(*C3_D2), C3_body_origin).to_numpy() @ np.array([e1, e2, e3])\n",
    "n3 = joint3.getParentFrame().expressVectorInAnotherFrame(Q3, Vec3(*C3_D3), C3_body_origin).to_numpy() @ np.array([e1, e2, e3])\n",
    "n4 = joint3.getParentFrame().expressVectorInAnotherFrame(Q4, Vec3(*C3_D4), C3_body_origin).to_numpy() @ np.array([e1, e2, e3])\n",
    "\n",
    "P1 = (n1 + (to_vector(joint3_center_in_C3_body_origin_Q1) | n1)*ni).dual()\n",
    "P2 = (n2 + (to_vector(joint3_center_in_C3_body_origin_Q2) | n2)*ni).dual()\n",
    "P3 = (n3 + (to_vector(joint3_center_in_C3_body_origin_Q3) | n3)*ni).dual()\n",
    "P4 = (n4 + (to_vector(joint3_center_in_C3_body_origin_Q4) | n4)*ni).dual()\n",
    "print(P1)\n",
    "print(blade_type(P1))\n",
    "L12 = P1.meet(P2)\n",
    "L13 = P1.meet(P3)\n",
    "L14 = P1.meet(P4)\n",
    "\n",
    "I_in_O_Q1 = C3_body_insertion.findStationLocationInAnotherFrame(Q1, Vec3(*C3_I), C3_body_origin).to_numpy()\n",
    "LQ1 = to_point(C3_O) ^ to_point(I_in_O_Q1) ^ ni\n",
    "# MQ1 = \n",
    "print(LQ1)\n",
    "print(LQ1^P1)\n",
    "print(blade_type(P1))\n",
    "print(blade_type(P2))\n",
    "print(blade_type(L12))\n",
    "p, d = g3c_tools.line_to_point_and_direction(L12)\n",
    "# print(p)\n",
    "# print(\"p\", to_vector(p))\n",
    "# P12_ = (d + (to_vector(p) | d)*ni).dual()\n",
    "# print(blade_type(P12_))\n",
    "print(to_point(C3_O) ^ (L12 - (no^d^ni)))\n",
    "# # so the moments are orthogonal to these normally\n",
    "# D12 = g3c_tools.line_to_point_and_direction(L12)[1]\n",
    "# D13 = g3c_tools.line_to_point_and_direction(L13)[1]\n",
    "# D14 = g3c_tools.line_to_point_and_direction(L14)[1]\n",
    "# print(D12)\n",
    "\n",
    "# print(to_point(C3_O) ^ D12)\n",
    "# print(to_point(C3_O) ^ D13)\n",
    "# print(to_point(C3_O) ^ D14)\n",
    "# # print(blade_type(P12))\n",
    "# # print(blade_type(P13.dual()))\n",
    "# # print(to_point(C3_O) ^ P12)\n",
    "\n",
    "# CABLE 4: acts on joint 2 and 3\n",
    "joint2_center_in_C4_body_origin_Q1 = joint2.getParentFrame().findStationLocationInAnotherFrame(Q1, joint2_center, C4_body_origin).to_numpy()\n",
    "joint2_center_in_C4_body_origin_Q2 = joint2.getParentFrame().findStationLocationInAnotherFrame(Q2, joint2_center, C4_body_origin).to_numpy()\n",
    "joint2_center_in_C4_body_origin_Q3 = joint2.getParentFrame().findStationLocationInAnotherFrame(Q3, joint2_center, C4_body_origin).to_numpy()\n",
    "joint2_center_in_C4_body_origin_Q4 = joint2.getParentFrame().findStationLocationInAnotherFrame(Q4, joint2_center, C4_body_origin).to_numpy()\n",
    "joint2_center_in_C4_body_insertion_Q1 = joint2.getParentFrame().findStationLocationInAnotherFrame(Q1, joint2_center, C4_body_insertion).to_numpy()\n",
    "joint2_center_in_C4_body_insertion_Q2 = joint2.getParentFrame().findStationLocationInAnotherFrame(Q2, joint2_center, C4_body_insertion).to_numpy()\n",
    "joint2_center_in_C4_body_insertion_Q3 = joint2.getParentFrame().findStationLocationInAnotherFrame(Q3, joint2_center, C4_body_insertion).to_numpy()\n",
    "joint2_center_in_C4_body_insertion_Q4 = joint2.getParentFrame().findStationLocationInAnotherFrame(Q4, joint2_center, C4_body_insertion).to_numpy()\n",
    "\n",
    "joint3_center_in_C4_body_origin_Q1 = joint3.getParentFrame().findStationLocationInAnotherFrame(Q1, joint3_center, C4_body_origin).to_numpy()\n",
    "joint3_center_in_C4_body_origin_Q2 = joint3.getParentFrame().findStationLocationInAnotherFrame(Q2, joint3_center, C4_body_origin).to_numpy()\n",
    "joint3_center_in_C4_body_origin_Q3 = joint3.getParentFrame().findStationLocationInAnotherFrame(Q3, joint3_center, C4_body_origin).to_numpy()\n",
    "joint3_center_in_C4_body_origin_Q4 = joint3.getParentFrame().findStationLocationInAnotherFrame(Q4, joint3_center, C4_body_origin).to_numpy()\n",
    "joint3_center_in_C4_body_insertion_Q1 = joint3.getParentFrame().findStationLocationInAnotherFrame(Q1, joint3_center, C4_body_insertion).to_numpy()\n",
    "joint3_center_in_C4_body_insertion_Q2 = joint3.getParentFrame().findStationLocationInAnotherFrame(Q2, joint3_center, C4_body_insertion).to_numpy()\n",
    "joint3_center_in_C4_body_insertion_Q3 = joint3.getParentFrame().findStationLocationInAnotherFrame(Q3, joint3_center, C4_body_insertion).to_numpy()\n",
    "joint3_center_in_C4_body_insertion_Q4 = joint3.getParentFrame().findStationLocationInAnotherFrame(Q4, joint3_center, C4_body_insertion).to_numpy()\n"
   ]
  },
  {
   "cell_type": "code",
   "execution_count": 284,
   "metadata": {},
   "outputs": [
    {
     "name": "stdout",
     "output_type": "stream",
     "text": [
      "-(4.49518^e14) - (4.50627^e15) - (13.42137^e24) - (13.45446^e25) + (1.47479^e34) + (1.47842^e35)\n",
      "0.08741\n"
     ]
    }
   ],
   "source": [
    "k1 = g3c_tools.random_point_pair_at_origin()\n",
    "k2 = g3c_tools.random_point_pair_at_origin()\n",
    "print(k1)\n",
    "\n",
    "k12 = k1.meet(k2)\n",
    "print(k12)"
   ]
  },
  {
   "cell_type": "code",
   "execution_count": 255,
   "metadata": {},
   "outputs": [
    {
     "name": "stdout",
     "output_type": "stream",
     "text": [
      "0.84224 + (0.00313^e12) - (0.39316^e13) + (0.15813^e23)\n",
      "0.8422389782573404\n",
      "(0.00344^e12) - (0.43294^e13) + (0.17413^e23)\n",
      "(0.23751^e123) - (0.00039^e124) + (0.00305^e125) + (0.04955^e134) - (0.38339^e135) - (0.01993^e234) + (0.1542^e235)\n"
     ]
    }
   ],
   "source": [
    "print(R)\n",
    "# print(np.log(R))\n",
    "# Biv = R - R.scalar()\n",
    "# print(R.basis_vector)\n",
    "R.grades(0)\n",
    "# R.grade(0)\n",
    "# G3c.scalar(R)\n",
    "print(R.as_array()[0])\n",
    "cos_theta_2 = R.as_array()[0]\n",
    "theta = 2 * np.arccos(cos_theta_2)\n",
    "Biv = (R - R.as_array()[0]) / np.sin(theta)\n",
    "print(Biv)\n",
    "print(to_point(C3_O) ^ (Biv))"
   ]
  },
  {
   "cell_type": "code",
   "execution_count": null,
   "metadata": {},
   "outputs": [],
   "source": []
  },
  {
   "cell_type": "code",
   "execution_count": 23,
   "metadata": {},
   "outputs": [
    {
     "name": "stdout",
     "output_type": "stream",
     "text": [
      "-(0.07345^e1234) - (0.07345^e1235) - (0.04239^e1245) - (0.25203^e1345) + (0.02355^e2345)\n",
      "-(0.00443^e124) - (0.00443^e125) + (0.04463^e134) + (0.04463^e135) + (0.04098^e145) + (0.00467^e234) + (0.00467^e235) + (0.00127^e245) + (0.03034^e345)\n",
      "(0.65658^e124) + (0.65658^e125) + (0.02276^e134) + (0.02276^e135) + (0.61317^e145) - (0.01555^e234) - (0.01555^e235) - (0.72089^e245) - (0.01047^e345)\n",
      "0\n",
      "0\n",
      "0\n",
      "0\n",
      "-(0.08696^e124) - (0.08696^e125) + (0.87509^e134) + (0.87509^e135) + (0.80342^e145) + (0.09161^e234) + (0.09161^e235) + (0.02499^e245) + (0.59489^e345)\n",
      "-(0.08696^e124) - (0.08696^e125) + (0.87509^e134) + (0.87509^e135) + (0.80342^e145) + (0.09161^e234) + (0.09161^e235) + (0.02499^e245) + (0.59489^e345)\n",
      "(0.69373^e124) + (0.69373^e125) + (0.02405^e134) + (0.02405^e135) + (0.64786^e145) - (0.01642^e234) - (0.01642^e235) - (0.76168^e245) - (0.01106^e345)\n",
      "-(0.51641^e124) - (0.51641^e125) + (0.04141^e134) + (0.04141^e135) - (0.40862^e145) + (0.25698^e234) + (0.25698^e235) + (0.87086^e245) - (0.27318^e345)\n",
      "(0.0714^e14) + (0.0714^e15) + (0.29463^e24) + (0.29463^e25) + (0.0119^e34) + (0.0119^e35) + (0.35355^e45)\n",
      "MultiVectorType.PointPair\n"
     ]
    }
   ],
   "source": [
    "plane_normal_Q1 = lever_arms_Q1[:3]\n",
    "plane_location_Q1 = np.array([0,0,0])\n",
    "plane_normal_Q2 = lever_arms_Q2[:3]\n",
    "plane_location_Q2 = np.array([0,0,0])\n",
    "plane_normal_Q3 = lever_arms_Q3[:3]\n",
    "plane_location_Q3 = np.array([0,0,0])\n",
    "\n",
    "# Let's replace the normal plane in each origin and insertion reference body.\n",
    "# For this, the orientation of the normal is displaced, then the point of application is moved.\n",
    "joint_frame = J[0].getParentFrame()\n",
    "\n",
    "PO_normal_Q1 = joint_frame.expressVectorInAnotherFrame(Q1, Vec3(*plane_normal_Q1), B_origin)\n",
    "PO_pos_Q1 = joint_frame.findStationLocationInAnotherFrame(Q1, Vec3(0), B_origin)\n",
    "\n",
    "PO_normal_Q2 = joint_frame.expressVectorInAnotherFrame(Q2, Vec3(*plane_normal_Q2), B_origin)\n",
    "PO_pos_Q2 = joint_frame.findStationLocationInAnotherFrame(Q2, Vec3(0), B_origin)\n",
    "\n",
    "PO_normal_Q3 = joint_frame.expressVectorInAnotherFrame(Q3, Vec3(*plane_normal_Q3), B_origin)\n",
    "PO_pos_Q3 = joint_frame.findStationLocationInAnotherFrame(Q3, Vec3(0), B_origin)\n",
    "\n",
    "PI_normal_Q1 = joint_frame.expressVectorInAnotherFrame(Q1, Vec3(*plane_normal_Q1), B_insertion)\n",
    "PI_pos_Q1 = joint_frame.findStationLocationInAnotherFrame(Q1, Vec3(0), B_insertion)\n",
    "PI_normal_Q1 = Vec3(*(PI_normal_Q1.to_numpy() / np.linalg.norm(PI_normal_Q1.to_numpy())))\n",
    "\n",
    "PI_normal_Q2 = joint_frame.expressVectorInAnotherFrame(Q2, Vec3(*plane_normal_Q2), B_insertion)\n",
    "PI_normal_Q2 = Vec3(*(PI_normal_Q2.to_numpy() / np.linalg.norm(PI_normal_Q2.to_numpy())))\n",
    "PI_pos_Q2 = joint_frame.findStationLocationInAnotherFrame(Q2, Vec3(0), B_insertion)\n",
    "\n",
    "PI_normal_Q3 = joint_frame.expressVectorInAnotherFrame(Q3, Vec3(*plane_normal_Q3), B_insertion)\n",
    "PI_normal_Q3 = Vec3(*(PI_normal_Q3.to_numpy() / np.linalg.norm(PI_normal_Q3.to_numpy())))\n",
    "PI_pos_Q3 = joint_frame.findStationLocationInAnotherFrame(Q3, Vec3(0), B_insertion)\n",
    "\n",
    "PO_Q1 = (to_vector(PO_normal_Q1) + (to_point(PO_pos_Q1) | to_vector(PO_normal_Q1)) * ni).dual()\n",
    "PO_Q2 = (to_vector(PO_normal_Q2) + (to_point(PO_pos_Q2) | to_vector(PO_normal_Q2)) * ni).dual()\n",
    "PO_Q3 = (to_vector(PO_normal_Q3) + (to_point(PO_pos_Q3) | to_vector(PO_normal_Q3)) * ni).dual()\n",
    "\n",
    "PI_Q1 = (to_vector(PI_normal_Q1) + (to_point(PI_pos_Q1) | to_vector(PI_normal_Q1)) * ni).dual()\n",
    "PI_Q2 = (to_vector(PI_normal_Q2) + (to_point(PI_pos_Q2) | to_vector(PI_normal_Q2)) * ni).dual()\n",
    "PI_Q3 = (to_vector(PI_normal_Q3) + (to_point(PI_pos_Q3) | to_vector(PI_normal_Q3)) * ni).dual()\n",
    "print(PO_Q1)\n",
    "\n",
    "LO = PO_Q1.meet(PO_Q2)\n",
    "LI = PI_Q1.meet(PI_Q2)\n",
    "\n",
    "LO_2 = PO_Q2.meet(PO_Q3)\n",
    "LI_2 = PI_Q2.meet(PI_Q3)\n",
    "\n",
    "print(LO)\n",
    "print(LI)\n",
    "O = to_point(origin.to_numpy())\n",
    "I = to_point(insertion.to_numpy())\n",
    "print(O ^ LO)\n",
    "print(I ^ LI)\n",
    "print(O ^ LO_2)\n",
    "print(I ^ LI_2)\n",
    "\n",
    "print(LO.normal())\n",
    "print(LO_2.normal())\n",
    "print(LI.normal())\n",
    "print(LI_2.normal())\n",
    "\n",
    "# PO = LO.meet(LO_2)\n",
    "# print(PO.normal())\n",
    "# print(LO.normal())\n",
    "PI = LI.meet(LI_2)\n",
    "print(PI)\n",
    "\n",
    "print(blade_type(PI))\n",
    "# print(down(PI.dual()))\n",
    "\n"
   ]
  },
  {
   "cell_type": "code",
   "execution_count": 24,
   "metadata": {},
   "outputs": [
    {
     "data": {
      "text/plain": [
       "(0.63515^e12345)"
      ]
     },
     "execution_count": 24,
     "metadata": {},
     "output_type": "execute_result"
    }
   ],
   "source": [
    "to_point(PI_pos_Q1) ^ PI_Q2"
   ]
  },
  {
   "cell_type": "code",
   "execution_count": 25,
   "metadata": {},
   "outputs": [
    {
     "name": "stdout",
     "output_type": "stream",
     "text": [
      "0\n",
      "-(0.03491^e1234) - (0.03491^e1235) - (0.02014^e1245) - (0.11978^e1345) + (0.01119^e2345)\n",
      "-(0.05401^e1234) - (0.05401^e1235) - (0.04981^e1245) + (0.00228^e1345) + (0.03695^e2345)\n"
     ]
    }
   ],
   "source": [
    "joint_center_in_ground_Q1 = to_point(joint_frame.findStationLocationInGround(Q1, Vec3(0)))\n",
    "joint_center_in_ground_Q2 = to_point(joint_frame.findStationLocationInGround(Q1, Vec3(0)))\n",
    "normal_in_ground_Q1 = to_vector(joint_frame.expressVectorInGround(Q1, Vec3(*plane_normal_Q1)))\n",
    "normal_in_ground_Q2 = to_vector(joint_frame.expressVectorInGround(Q2, Vec3(*plane_normal_Q2)))\n",
    "\n",
    "PG_Q1 = (normal_in_ground_Q1 + (joint_center_in_ground_Q1 | normal_in_ground_Q1) * ni).dual()\n",
    "PG_Q2 = (normal_in_ground_Q2 + (joint_center_in_ground_Q2 | normal_in_ground_Q2) * ni).dual()\n",
    "L = PG_Q1.meet(PG_Q2)\n",
    "O_in_ground_Q1 = to_point(B_origin.findStationLocationInGround(Q1, origin))\n",
    "O_in_ground_Q2 = to_point(B_origin.findStationLocationInGround(Q2, origin))\n",
    "I_in_ground_Q1 = to_point(B_insertion.findStationLocationInGround(Q1, insertion))\n",
    "I_in_ground_Q2 = to_point(B_insertion.findStationLocationInGround(Q2, insertion))\n",
    "print(O_in_ground_Q1 ^ L)\n",
    "print(I_in_ground_Q1 ^ L)\n",
    "print(I_in_ground_Q2 ^ L)\n"
   ]
  },
  {
   "cell_type": "code",
   "execution_count": 26,
   "metadata": {},
   "outputs": [
    {
     "name": "stdout",
     "output_type": "stream",
     "text": [
      "(0.00017^e1245) - (0.23478^e1345) - (0.10368^e2345)\n",
      "(0.14348^e1245) - (0.08325^e1345) + (0.11355^e2345)\n",
      "LJ -(0.03367^e145) - (0.01489^e245) + (0.03529^e345)\n",
      "0\n",
      "0\n",
      "(8e-05^e1245) - (0.11158^e1345) - (0.04927^e2345)\n",
      "(0.0443^e1245) - (0.0257^e1345) + (0.03506^e2345)\n"
     ]
    }
   ],
   "source": [
    "PJ_Q1 = to_vector(plane_normal_Q1).dual()\n",
    "PJ_Q2 = to_vector(plane_normal_Q2).dual()\n",
    "print(PJ_Q1)\n",
    "print(PJ_Q2)\n",
    "\n",
    "LJ = PJ_Q1.meet(PJ_Q2)\n",
    "print(\"LJ\", LJ)\n",
    "\n",
    "\n",
    "\n",
    "# pos, D = to_array(LO)\n",
    "# print(pos, D)\n",
    "\n",
    "# dirt1 = B_origin.expressVectorInAnotherFrame(Q1, Vec3(*D), joint_frame)\n",
    "# # L_test = to\n",
    "# print(dirt1)\n",
    "# LO_test = no ^ to_vector(dirt1) ^ ni\n",
    "# print(LO_test.normal())\n",
    "# print(LO_test ^ LJ)\n",
    "\n",
    "O_in_joint_Q1 = to_point(B_origin.findStationLocationInAnotherFrame(Q1, origin, joint_frame))\n",
    "O_in_joint_Q2 = to_point(B_origin.findStationLocationInAnotherFrame(Q2, origin, joint_frame))\n",
    "I_in_joint_Q1 = to_point(B_insertion.findStationLocationInAnotherFrame(Q1, insertion, joint_frame))\n",
    "I_in_joint_Q2 = to_point(B_insertion.findStationLocationInAnotherFrame(Q2, insertion, joint_frame))\n",
    "print(O_in_joint_Q1^LJ)\n",
    "print(O_in_joint_Q2^LJ)\n",
    "print(I_in_joint_Q1^LJ)\n",
    "print(I_in_joint_Q2^LJ)"
   ]
  },
  {
   "cell_type": "code",
   "execution_count": 27,
   "metadata": {},
   "outputs": [
    {
     "data": {
      "text/plain": [
       "0"
      ]
     },
     "execution_count": 27,
     "metadata": {},
     "output_type": "execute_result"
    }
   ],
   "source": [
    "to_point(PO_pos_Q1) ^ LO"
   ]
  },
  {
   "cell_type": "code",
   "execution_count": 28,
   "metadata": {},
   "outputs": [
    {
     "name": "stdout",
     "output_type": "stream",
     "text": [
      "-(0.20196^e1) - (0.83336^e2) - (0.03367^e3) - (0.1318^e4) + (0.8682^e5)\n",
      "-(0.0714^e14) - (0.0714^e15) - (0.29463^e24) - (0.29463^e25) - (0.0119^e34) - (0.0119^e35) - (0.35355^e45)\n",
      "-(0.20196^e14) - (0.20196^e15) - (0.83336^e24) - (0.83336^e25) - (0.03367^e34) - (0.03367^e35) - (1.0^e45)\n",
      "-(0.08696^e124) - (0.08696^e125) + (0.87509^e134) + (0.87509^e135) + (0.80342^e145) + (0.09161^e234) + (0.09161^e235) + (0.02499^e245) + (0.59489^e345)\n",
      "(0.20977^e1) + (0.11476^e2) - (0.93389^e3) - (0.03534^e4) + (0.96466^e5)\n",
      "0\n",
      "0\n",
      "0\n",
      "MultiVectorType.ConformalPoint\n",
      "MultiVectorType.Line\n",
      "-(0.20196^e1) - (0.83336^e2) - (0.03367^e3) - (0.1318^e4) + (0.8682^e5)\n",
      "-(0.20196^e1) - (0.83336^e2) - (0.03367^e3) - (0.1318^e4) + (0.8682^e5)\n"
     ]
    }
   ],
   "source": [
    "ml = PI_Q1.meet(PI_Q2.meet(PI_Q3))\n",
    "print(I)\n",
    "print(ml)\n",
    "print(ml.normal())\n",
    "mlO = PO_Q1.meet(PO_Q2.meet(PO_Q3))\n",
    "print(mlO.normal())\n",
    "print(O)\n",
    "print(I ^ PI_Q1)\n",
    "print(I ^ PI_Q2)\n",
    "print(I ^ PI_Q3)\n",
    "print(blade_type(I))\n",
    "Lk = PI_Q1.meet(PI_Q2)\n",
    "print(blade_type(Lk))\n",
    "Lk2 = g3c_tools.intersect_line_and_plane_to_point(PI_Q1.meet(PI_Q2), PI_Q3)\n",
    "print(Lk2)\n",
    "print(I)"
   ]
  },
  {
   "cell_type": "code",
   "execution_count": 29,
   "metadata": {},
   "outputs": [
    {
     "data": {
      "text/plain": [
       "-(0.20196^e145) - (0.83336^e245) - (0.03367^e345)"
      ]
     },
     "execution_count": 29,
     "metadata": {},
     "output_type": "execute_result"
    }
   ],
   "source": [
    "pI_interest = no ^ down(Lk2) ^ ni\n",
    "pI_interest"
   ]
  },
  {
   "cell_type": "code",
   "execution_count": 37,
   "metadata": {},
   "outputs": [
    {
     "name": "stdout",
     "output_type": "stream",
     "text": [
      "[ 0.20976702  0.11475728 -0.93389042]\n",
      "[-0.20195964 -0.83335775 -0.03366729]\n",
      "[0.404, -0.9148, -0.0006]\n",
      "[0.404, -0.9148, -0.0006]\n",
      "[-0.5649, -0.4141, -0.7137]\n",
      "[-0.5649, -0.4141, -0.7137]\n",
      "[-0.4995, 0.8588, -0.1141]\n",
      "[-0.4995, 0.8588, -0.1141]\n",
      "[-0.5744, 0.7899, -0.2146]\n",
      "[-0.5744, 0.7899, -0.2146]\n",
      "[-0.751, 0.2479, -0.6119]\n",
      "[-0.751, 0.2479, -0.6119]\n",
      "[0.5578, -0.8077, 0.1913]\n",
      "[0.5578, -0.8077, 0.1913]\n"
     ]
    }
   ],
   "source": [
    "O_random = g3c_tools.random_conformal_point()\n",
    "O_random = g3c_tools.project_points_to_line([O_random], LO)[0]\n",
    "I_random = g3c_tools.random_conformal_point()\n",
    "# I_random = g3c_tools.project_points_to_line([I_random], PI)[0]\n",
    "I_random = (I_random | PI) / PI\n",
    "# I_random = (I_random | pI_interest) / pI_interest\n",
    "\n",
    "lever_arms_Q1_random = lever_arms(model, Q1, W, O_random, B_origin, I_random, B_insertion)\n",
    "lever_arms_Q2_random = lever_arms(model, Q2, W, O_random, B_origin, I_random, B_insertion)\n",
    "lever_arms_Q3_random = lever_arms(model, Q3, W, O_random, B_origin, I_random, B_insertion)\n",
    "lever_arms_Q4_random = lever_arms(model, Q4, W, O_random, B_origin, I_random, B_insertion)\n",
    "lever_arms_Q5_random = lever_arms(model, Q5, W, O_random, B_origin, I_random, B_insertion)\n",
    "lever_arms_Q6_random = lever_arms(model, Q6, W, O_random, B_origin, I_random, B_insertion)\n",
    "\n",
    "print(to_array(O))\n",
    "print(to_array(I_random))\n",
    "\n",
    "\n",
    "print((lever_arms_Q1[:3] / np.linalg.norm(lever_arms_Q1[:3])).round(4).tolist())\n",
    "print((lever_arms_Q1_random[:3] / np.linalg.norm(lever_arms_Q1_random[:3])).round(4).tolist())\n",
    "\n",
    "print((lever_arms_Q2[:3] / np.linalg.norm(lever_arms_Q2[:3])).round(4).tolist())\n",
    "print((lever_arms_Q2_random[:3] / np.linalg.norm(lever_arms_Q2_random[:3])).round(4).tolist())\n",
    "\n",
    "print((lever_arms_Q3[:3] / np.linalg.norm(lever_arms_Q3[:3])).round(4).tolist())\n",
    "print((lever_arms_Q3_random[:3] / np.linalg.norm(lever_arms_Q3_random[:3])).round(4).tolist())\n",
    "\n",
    "print((lever_arms_Q4[:3] / np.linalg.norm(lever_arms_Q4[:3])).round(4).tolist())\n",
    "print((lever_arms_Q4_random[:3] / np.linalg.norm(lever_arms_Q4_random[:3])).round(4).tolist())\n",
    "\n",
    "print((lever_arms_Q5[:3] / np.linalg.norm(lever_arms_Q5[:3])).round(4).tolist())\n",
    "print((lever_arms_Q5_random[:3] / np.linalg.norm(lever_arms_Q5_random[:3])).round(4).tolist())\n",
    "\n",
    "print((lever_arms_Q6[:3] / np.linalg.norm(lever_arms_Q6[:3])).round(4).tolist())\n",
    "print((lever_arms_Q6_random[:3] / np.linalg.norm(lever_arms_Q6_random[:3])).round(4).tolist())"
   ]
  },
  {
   "cell_type": "code",
   "execution_count": 51,
   "metadata": {},
   "outputs": [
    {
     "name": "stdout",
     "output_type": "stream",
     "text": [
      "0\n",
      "0\n",
      "0\n",
      "0\n",
      "[0.404, -0.9148, -0.0006]\n",
      "[0.404, -0.9148, -0.0006]\n",
      "[-0.5649, -0.4141, -0.7137]\n",
      "[-0.4918, -0.5282, -0.6922]\n",
      "[-0.4995, 0.8588, -0.1141]\n",
      "[-0.6489, 0.6857, -0.3297]\n",
      "[-0.5744, 0.7899, -0.2146]\n",
      "[-0.6106, -0.3278, -0.7209]\n",
      "[-0.751, 0.2479, -0.6119]\n",
      "[-0.6106, 0.7452, -0.268]\n",
      "[0.5578, -0.8077, 0.1913]\n",
      "[0.3071, -0.9457, -0.1061]\n"
     ]
    }
   ],
   "source": [
    "pointI = to_point(B_insertion.findStationLocationInAnotherFrame(Q1, Vec3(*to_array(I_random)), ground))\n",
    "pointO = to_point(B_origin.findStationLocationInAnotherFrame(Q1, origin, ground))\n",
    "LOI = pointO^pointI^ni\n",
    "I_random2 = g3c_tools.random_conformal_point()\n",
    "I_random2 = (I_random2 | LOI) / LOI\n",
    "print(I_random2 ^ LOI)\n",
    "pointI2 = to_point(ground.findStationLocationInAnotherFrame(Q1, Vec3(*to_array(I_random2)), B_insertion))\n",
    "\n",
    "I_random_in_ground = to_point(B_insertion.findStationLocationInAnotherFrame(Q1, Vec3(*to_array(I_random)), ground))\n",
    "print(O^LOI)\n",
    "print(I_random_in_ground^LOI)\n",
    "print(I_random2^LOI)\n",
    "\n",
    "lever_arms_Q1_random = lever_arms(model, Q1, W, O_random, B_origin, pointI2, B_insertion)\n",
    "lever_arms_Q2_random = lever_arms(model, Q2, W, O_random, B_origin, pointI2, B_insertion)\n",
    "lever_arms_Q3_random = lever_arms(model, Q3, W, O_random, B_origin, pointI2, B_insertion)\n",
    "lever_arms_Q4_random = lever_arms(model, Q4, W, O_random, B_origin, pointI2, B_insertion)\n",
    "lever_arms_Q5_random = lever_arms(model, Q5, W, O_random, B_origin, pointI2, B_insertion)\n",
    "lever_arms_Q6_random = lever_arms(model, Q6, W, O_random, B_origin, pointI2, B_insertion)\n",
    "\n",
    "print((lever_arms_Q1[:3] / np.linalg.norm(lever_arms_Q1[:3])).round(4).tolist())\n",
    "print((lever_arms_Q1_random[:3] / np.linalg.norm(lever_arms_Q1_random[:3])).round(4).tolist())\n",
    "\n",
    "print((lever_arms_Q2[:3] / np.linalg.norm(lever_arms_Q2[:3])).round(4).tolist())\n",
    "print((lever_arms_Q2_random[:3] / np.linalg.norm(lever_arms_Q2_random[:3])).round(4).tolist())\n",
    "\n",
    "print((lever_arms_Q3[:3] / np.linalg.norm(lever_arms_Q3[:3])).round(4).tolist())\n",
    "print((lever_arms_Q3_random[:3] / np.linalg.norm(lever_arms_Q3_random[:3])).round(4).tolist())\n",
    "\n",
    "print((lever_arms_Q4[:3] / np.linalg.norm(lever_arms_Q4[:3])).round(4).tolist())\n",
    "print((lever_arms_Q4_random[:3] / np.linalg.norm(lever_arms_Q4_random[:3])).round(4).tolist())\n",
    "\n",
    "print((lever_arms_Q5[:3] / np.linalg.norm(lever_arms_Q5[:3])).round(4).tolist())\n",
    "print((lever_arms_Q5_random[:3] / np.linalg.norm(lever_arms_Q5_random[:3])).round(4).tolist())\n",
    "\n",
    "print((lever_arms_Q6[:3] / np.linalg.norm(lever_arms_Q6[:3])).round(4).tolist())\n",
    "print((lever_arms_Q6_random[:3] / np.linalg.norm(lever_arms_Q6_random[:3])).round(4).tolist())"
   ]
  },
  {
   "cell_type": "code",
   "execution_count": 58,
   "metadata": {},
   "outputs": [
    {
     "data": {
      "text/plain": [
       "-(1.0^e45)"
      ]
     },
     "execution_count": 58,
     "metadata": {},
     "output_type": "execute_result"
    }
   ],
   "source": [
    "I_random^down(I_random2)^ni\n",
    "# I_random2"
   ]
  },
  {
   "cell_type": "code",
   "execution_count": 57,
   "metadata": {},
   "outputs": [
    {
     "data": {
      "text/plain": [
       "-(0.56824^e145) + (3.31411^e245) + (17.6572^e345)"
      ]
     },
     "execution_count": 57,
     "metadata": {},
     "output_type": "execute_result"
    }
   ],
   "source": [
    "no^down(I_random2)^ni"
   ]
  },
  {
   "cell_type": "code",
   "execution_count": 274,
   "metadata": {},
   "outputs": [
    {
     "name": "stdout",
     "output_type": "stream",
     "text": [
      "-(0.7911^e14) - (0.7911^e15) - (0.47482^e24) - (0.47482^e25) - (0.7111^e34) - (0.7111^e35) + (1.0^e45)\n",
      "-(0.7911^e1) - (0.47482^e2) - (0.7111^e3) + (0.5^e4) - (0.5^e5)\n"
     ]
    }
   ],
   "source": [
    "print(PI.normal())\n",
    "print(((PI.normal()|(no))^ni)|no)"
   ]
  },
  {
   "cell_type": "code",
   "execution_count": 275,
   "metadata": {},
   "outputs": [
    {
     "name": "stdout",
     "output_type": "stream",
     "text": [
      "[0.7256, -0.7664, 0.9272, 1.1941, 1.1508, 0.2053, -0.675, -0.5937, -0.2545, -0.0895, -0.3261, 0.3516]\n",
      "[0.6668, -0.5551, 0.3662, 0.252, -1.1602, -0.2614, 0.6664, 0.6613, 0.8102, -0.1866, -0.2008, 0.6752]\n"
     ]
    },
    {
     "ename": "TypeError",
     "evalue": "in method 'Frame_findStationLocationInAnotherFrame', argument 3 of type 'SimTK::Vec3 const &'",
     "output_type": "error",
     "traceback": [
      "\u001b[1;31m---------------------------------------------------------------------------\u001b[0m",
      "\u001b[1;31mTypeError\u001b[0m                                 Traceback (most recent call last)",
      "\u001b[1;32m~\\AppData\\Local\\Temp\\ipykernel_11380\\4254838251.py\u001b[0m in \u001b[0;36m?\u001b[1;34m()\u001b[0m\n\u001b[0;32m      4\u001b[0m \u001b[0mlever_arms_Q2\u001b[0m \u001b[1;33m=\u001b[0m \u001b[1;33m[\u001b[0m\u001b[1;33m]\u001b[0m\u001b[1;33m\u001b[0m\u001b[1;33m\u001b[0m\u001b[0m\n\u001b[0;32m      5\u001b[0m \u001b[1;32mfor\u001b[0m \u001b[0mi\u001b[0m\u001b[1;33m,\u001b[0m \u001b[0mc\u001b[0m \u001b[1;32min\u001b[0m \u001b[0menumerate\u001b[0m\u001b[1;33m(\u001b[0m\u001b[0mmodel\u001b[0m\u001b[1;33m.\u001b[0m\u001b[0mgetCoordinateSet\u001b[0m\u001b[1;33m(\u001b[0m\u001b[1;33m)\u001b[0m\u001b[1;33m)\u001b[0m\u001b[1;33m:\u001b[0m\u001b[1;33m\u001b[0m\u001b[1;33m\u001b[0m\u001b[0m\n\u001b[0;32m      6\u001b[0m     \u001b[1;31m# c: osim.Coordinate = c\u001b[0m\u001b[1;33m\u001b[0m\u001b[1;33m\u001b[0m\u001b[0m\n\u001b[0;32m      7\u001b[0m     \u001b[0mFJ\u001b[0m\u001b[1;33m:\u001b[0m \u001b[0mosim\u001b[0m\u001b[1;33m.\u001b[0m\u001b[0mJoint\u001b[0m \u001b[1;33m=\u001b[0m \u001b[0mc\u001b[0m\u001b[1;33m.\u001b[0m\u001b[0mgetJoint\u001b[0m\u001b[1;33m(\u001b[0m\u001b[1;33m)\u001b[0m\u001b[1;33m.\u001b[0m\u001b[0mgetParentFrame\u001b[0m\u001b[1;33m(\u001b[0m\u001b[1;33m)\u001b[0m\u001b[1;33m\u001b[0m\u001b[1;33m\u001b[0m\u001b[0m\n\u001b[1;32m----> 8\u001b[1;33m     \u001b[0morigin_in_J_Q1\u001b[0m \u001b[1;33m=\u001b[0m \u001b[0mB_origin\u001b[0m\u001b[1;33m.\u001b[0m\u001b[0mfindStationLocationInAnotherFrame\u001b[0m\u001b[1;33m(\u001b[0m\u001b[0mQ1\u001b[0m\u001b[1;33m,\u001b[0m \u001b[0mO_random\u001b[0m\u001b[1;33m,\u001b[0m \u001b[0mFJ\u001b[0m\u001b[1;33m)\u001b[0m\u001b[1;33m.\u001b[0m\u001b[0mto_numpy\u001b[0m\u001b[1;33m(\u001b[0m\u001b[1;33m)\u001b[0m\u001b[1;33m\u001b[0m\u001b[1;33m\u001b[0m\u001b[0m\n\u001b[0m\u001b[0;32m      9\u001b[0m     \u001b[0minsertion_in_J_Q1\u001b[0m \u001b[1;33m=\u001b[0m \u001b[0mB_insertion\u001b[0m\u001b[1;33m.\u001b[0m\u001b[0mfindStationLocationInAnotherFrame\u001b[0m\u001b[1;33m(\u001b[0m\u001b[0mQ1\u001b[0m\u001b[1;33m,\u001b[0m \u001b[0mI_random\u001b[0m\u001b[1;33m,\u001b[0m \u001b[0mFJ\u001b[0m\u001b[1;33m)\u001b[0m\u001b[1;33m.\u001b[0m\u001b[0mto_numpy\u001b[0m\u001b[1;33m(\u001b[0m\u001b[1;33m)\u001b[0m\u001b[1;33m\u001b[0m\u001b[1;33m\u001b[0m\u001b[0m\n\u001b[0;32m     10\u001b[0m     \u001b[0mla\u001b[0m \u001b[1;33m=\u001b[0m \u001b[0mnp\u001b[0m\u001b[1;33m.\u001b[0m\u001b[0mcross\u001b[0m\u001b[1;33m(\u001b[0m\u001b[0minsertion_in_J_Q1\u001b[0m\u001b[1;33m,\u001b[0m \u001b[0morigin_in_J_Q1\u001b[0m\u001b[1;33m)\u001b[0m \u001b[1;33m/\u001b[0m \u001b[0mnp\u001b[0m\u001b[1;33m.\u001b[0m\u001b[0mlinalg\u001b[0m\u001b[1;33m.\u001b[0m\u001b[0mnorm\u001b[0m\u001b[1;33m(\u001b[0m\u001b[0minsertion_in_J_Q1\u001b[0m \u001b[1;33m-\u001b[0m \u001b[0morigin_in_J_Q1\u001b[0m\u001b[1;33m)\u001b[0m\u001b[1;33m\u001b[0m\u001b[1;33m\u001b[0m\u001b[0m\n\u001b[0;32m     11\u001b[0m     \u001b[0mw_Q1\u001b[0m \u001b[1;33m=\u001b[0m \u001b[0momegas_in_joints_Q1\u001b[0m\u001b[1;33m[\u001b[0m\u001b[1;33m:\u001b[0m\u001b[1;33m,\u001b[0m \u001b[0mi\u001b[0m\u001b[1;33m]\u001b[0m\u001b[1;33m\u001b[0m\u001b[1;33m\u001b[0m\u001b[0m\n",
      "\u001b[1;32mc:\\Users\\glaisne\\mambaforge\\envs\\workspace\\Lib\\opensim\\simulation.py\u001b[0m in \u001b[0;36m?\u001b[1;34m(self, state, station_F, otherFrame)\u001b[0m\n\u001b[0;32m   2983\u001b[0m                                \u001b[0mwill\u001b[0m \u001b[0mbe\u001b[0m \u001b[0mrelative\u001b[0m \u001b[0mto\u001b[0m \u001b[1;32mand\u001b[0m \u001b[0mexpressed\u001b[0m\u001b[1;33m.\u001b[0m\u001b[1;33m\u001b[0m\u001b[1;33m\u001b[0m\u001b[0m\n\u001b[0;32m   2984\u001b[0m         \u001b[1;33m:\u001b[0m\u001b[0mrtype\u001b[0m\u001b[1;33m:\u001b[0m \u001b[1;33m:\u001b[0m\u001b[0mpy\u001b[0m\u001b[1;33m:\u001b[0m\u001b[1;32mclass\u001b[0m\u001b[1;33m:\u001b[0m\u001b[0;31m`\u001b[0m\u001b[0mVec3\u001b[0m\u001b[0;31m`\u001b[0m\u001b[1;33m\u001b[0m\u001b[1;33m\u001b[0m\u001b[0m\n\u001b[0;32m   2985\u001b[0m         \u001b[1;33m:\u001b[0m\u001b[1;32mreturn\u001b[0m\u001b[1;33m:\u001b[0m \u001b[0mloc_A\u001b[0m      \u001b[0mThe\u001b[0m \u001b[0mlocation\u001b[0m \u001b[0mof\u001b[0m \u001b[0mthe\u001b[0m \u001b[0mstation\u001b[0m \u001b[1;32min\u001b[0m \u001b[0manother\u001b[0m \u001b[0mframe\u001b[0m \u001b[1;33m(\u001b[0m\u001b[0mA\u001b[0m\u001b[1;33m)\u001b[0m\u001b[1;33m.\u001b[0m\u001b[1;33m\u001b[0m\u001b[1;33m\u001b[0m\u001b[0m\n\u001b[0;32m   2986\u001b[0m         \"\"\"\n\u001b[1;32m-> 2987\u001b[1;33m         \u001b[1;32mreturn\u001b[0m \u001b[0m_simulation\u001b[0m\u001b[1;33m.\u001b[0m\u001b[0mFrame_findStationLocationInAnotherFrame\u001b[0m\u001b[1;33m(\u001b[0m\u001b[0mself\u001b[0m\u001b[1;33m,\u001b[0m \u001b[0mstate\u001b[0m\u001b[1;33m,\u001b[0m \u001b[0mstation_F\u001b[0m\u001b[1;33m,\u001b[0m \u001b[0motherFrame\u001b[0m\u001b[1;33m)\u001b[0m\u001b[1;33m\u001b[0m\u001b[1;33m\u001b[0m\u001b[0m\n\u001b[0m",
      "\u001b[1;31mTypeError\u001b[0m: in method 'Frame_findStationLocationInAnotherFrame', argument 3 of type 'SimTK::Vec3 const &'"
     ]
    }
   ],
   "source": [
    "\n",
    "print(lever_arms_by_derivatives_Q1.ravel().round(4).tolist())\n",
    "print(lever_arms_by_derivatives_Q2.ravel().round(4).tolist())\n",
    "lever_arms_Q1 = []\n",
    "lever_arms_Q2 = []\n",
    "for i, c in enumerate(model.getCoordinateSet()):\n",
    "    # c: osim.Coordinate = c\n",
    "    FJ: osim.Joint = c.getJoint().getParentFrame()\n",
    "    origin_in_J_Q1 = B_origin.findStationLocationInAnotherFrame(Q1, O_random, FJ).to_numpy()\n",
    "    insertion_in_J_Q1 = B_insertion.findStationLocationInAnotherFrame(Q1, I_random, FJ).to_numpy()\n",
    "    la = np.cross(insertion_in_J_Q1, origin_in_J_Q1) / np.linalg.norm(insertion_in_J_Q1 - origin_in_J_Q1)\n",
    "    w_Q1 = omegas_in_joints_Q1[:, i]\n",
    "    la = w_Q1 @ la\n",
    "    lever_arms_Q1.append(la)\n",
    "\n",
    "    origin_in_J_Q2 = B_origin.findStationLocationInAnotherFrame(Q2, O_random, FJ).to_numpy()\n",
    "    insertion_in_J_Q2 = B_insertion.findStationLocationInAnotherFrame(Q2, I_random, FJ).to_numpy()\n",
    "\n",
    "    la = np.cross(insertion_in_J_Q2, origin_in_J_Q2) / np.linalg.norm(insertion_in_J_Q2 - origin_in_J_Q2)\n",
    "    w_Q2 = omegas_in_joints_Q2[:, i]\n",
    "    la = w_Q2 @ la\n",
    "    lever_arms_Q2.append(la)\n",
    "\n",
    "lever_arms_Q1 = np.array(lever_arms_Q1)\n",
    "lever_arms_Q2 = np.array(lever_arms_Q2)\n",
    "\n",
    "# print(lever_arms_Q1.round(4).tolist())\n",
    "print(lever_arms_Q1[:3].round(4).tolist() / np.linalg.norm(lever_arms_Q1[:3].round(4).tolist()))\n",
    "print(lever_arms_by_derivatives_Q1.ravel()[:3].round(4).tolist() / np.linalg.norm(lever_arms_by_derivatives_Q1.ravel()[:3]))\n",
    "\n",
    "# print(lever_arms_Q2.round(4).tolist())\n",
    "# print(lever_arms_by_derivatives_Q2.ravel().round(4).tolist())\n",
    "print(lever_arms_Q2[:3].round(4).tolist() / np.linalg.norm(lever_arms_Q2[:3].round(4).tolist()))\n",
    "print(lever_arms_by_derivatives_Q2.ravel()[:3].round(4).tolist() / np.linalg.norm(lever_arms_by_derivatives_Q2.ravel()[:3]))"
   ]
  },
  {
   "cell_type": "code",
   "execution_count": null,
   "metadata": {},
   "outputs": [],
   "source": []
  },
  {
   "cell_type": "code",
   "execution_count": 12,
   "metadata": {},
   "outputs": [
    {
     "name": "stdout",
     "output_type": "stream",
     "text": [
      "0\n",
      "0\n",
      "0\n",
      "-(1.35764^e1) + (7.06332^e2) + (4.74274^e3) + (58.29926^e4) + (59.29926^e5)\n",
      "0\n",
      "0\n",
      "[1.0354, -0.8731, -3.0674, -2.5531, 1.3454, -0.7172, -1.0005, 3.1802, -1.954, 3.6992, -1.145, -1.3789]\n",
      "[0.0706, -0.0596, -0.2092, -0.0854, 0.3853, 1.3011, -0.2036, -0.0042, -0.7931, 0.68, -0.3989, -0.1945]\n",
      "[0.3088, -0.2604, -0.9148]\n",
      "[0.3088, -0.2604, -0.9148]\n",
      "OK\n",
      "[-0.5595, -0.0589, 1.2261, -0.6369, -0.0773, 0.5306, -0.0176, 0.8053, -0.9171, 1.2382, -1.8551, 0.4389]\n",
      "[-0.1876, -0.0005, -0.1596, 0.0515, -0.6161, -0.7833, 0.1244, 0.4488, 1.3303, -0.6104, 0.6434, 1.0534]\n",
      "[-0.4147, -0.0437, 0.9089]\n",
      "[-0.7617, -0.0022, -0.648]\n"
     ]
    }
   ],
   "source": [
    "\n",
    "# n_I_q1 = J[0].getParentFrame().expressVectorInAnotherFrame(Q1, Vec3(*n1), B_origin).to_numpy()\n",
    "# Otest = J[0].getParentFrame().findStationLocationInAnotherFrame(Q1, Vec3(0), B_origin).to_numpy()\n",
    "\n",
    "print(S ^ up(to_multivec(O_in_ground + 0.1*L1_dir_in_ground)))\n",
    "print(S ^ up(to_multivec(I_in_ground + 0.1*L2_dir_in_ground)))\n",
    "print(S ^ up(to_multivec(I_in_ground - 50*L2_dir_in_ground)))\n",
    "\n",
    "k1 = (g3c_tools.random_conformal_point() | S) / S\n",
    "k2 = (g3c_tools.random_conformal_point() | S) / S\n",
    "print(k1)\n",
    "print(S ^ k1)\n",
    "print(S ^ k2)\n",
    "kO = point_to_np(k1)\n",
    "kI = point_to_np(k2)\n",
    "kO_in = Vec3(*ground.findStationLocationInAnotherFrame(Q1, Vec3(*kO), B_origin).to_numpy())\n",
    "kI_in = Vec3(*ground.findStationLocationInAnotherFrame(Q1, Vec3(*kI), B_insertion).to_numpy())\n",
    "\n",
    "kO2_in = Vec3(*ground.findStationLocationInAnotherFrame(Q2, Vec3(*kO), B_origin).to_numpy())\n",
    "kI2_in = Vec3(*ground.findStationLocationInAnotherFrame(Q2, Vec3(*kI), B_insertion).to_numpy())\n",
    "\n",
    "lever_arms_Q1 = []\n",
    "lever_arms_Q2 = []\n",
    "for i, c in enumerate(model.getCoordinateSet()):\n",
    "    # c: osim.Coordinate = c\n",
    "    FJ: osim.Joint = c.getJoint().getParentFrame()\n",
    "    origin_in_J_Q1 = B_origin.findStationLocationInAnotherFrame(Q1, kO_in, FJ).to_numpy()\n",
    "    insertion_in_J_Q1 = B_insertion.findStationLocationInAnotherFrame(Q1, kI_in, FJ).to_numpy()\n",
    "    la = np.cross(insertion_in_J_Q1, origin_in_J_Q1) / np.linalg.norm(insertion_in_J_Q1 - origin_in_J_Q1)\n",
    "    w_Q1 = omegas_in_joints_Q1[:, i]\n",
    "    la = w_Q1 @ la\n",
    "    lever_arms_Q1.append(la)\n",
    "\n",
    "    origin_in_J_Q2 = B_origin.findStationLocationInAnotherFrame(Q2, Vec3(*kO), FJ).to_numpy()\n",
    "    insertion_in_J_Q2 = B_insertion.findStationLocationInAnotherFrame(Q2, Vec3(*kI), FJ).to_numpy()\n",
    "    la = np.cross(insertion_in_J_Q2, origin_in_J_Q2) / np.linalg.norm(insertion_in_J_Q2 - origin_in_J_Q2)\n",
    "    w_Q2 = omegas_in_joints_Q2[:, i]\n",
    "    la = w_Q2 @ la\n",
    "    lever_arms_Q2.append(la)\n",
    "\n",
    "lever_arms_Q1 = np.array(lever_arms_Q1)\n",
    "lever_arms_Q2 = np.array(lever_arms_Q2)\n",
    "\n",
    "\n",
    "la_by_derivatives_Q1 = common.lever_arm_matrix(Q1, [muscle], model.getCoordinateSet())\n",
    "la_by_derivatives_Q2 = common.lever_arm_matrix(Q2, [muscle], model.getCoordinateSet())\n",
    "\n",
    "print(lever_arms_Q1.round(4).tolist())\n",
    "print(la_by_derivatives_Q1.ravel().round(4).tolist())\n",
    "\n",
    "print((lever_arms_Q1[:3] / np.linalg.norm(lever_arms_Q1[:3])).round(4).tolist())\n",
    "print((la_by_derivatives_Q1[:3] / np.linalg.norm(la_by_derivatives_Q1[:3])).ravel().round(4).tolist())\n",
    "\n",
    "print(\"OK\")\n",
    "print(lever_arms_Q2.round(4).tolist())\n",
    "print(la_by_derivatives_Q2.ravel().round(4).tolist())\n",
    "print((lever_arms_Q2[:3] / np.linalg.norm(lever_arms_Q2[:3])).round(4).tolist())\n",
    "print((la_by_derivatives_Q2[:3] / np.linalg.norm(la_by_derivatives_Q2[:3])).ravel().round(4).tolist())"
   ]
  },
  {
   "cell_type": "code",
   "execution_count": null,
   "metadata": {},
   "outputs": [],
   "source": []
  },
  {
   "cell_type": "code",
   "execution_count": 154,
   "metadata": {},
   "outputs": [
    {
     "data": {
      "text/plain": [
       "(-2.0, 2.0)"
      ]
     },
     "execution_count": 154,
     "metadata": {},
     "output_type": "execute_result"
    }
   ],
   "source": [
    "%matplotlib qt5\n",
    "\n",
    "import matplotlib.pyplot as plt\n",
    "import itertools\n",
    "\n",
    "fig = plt.figure()\n",
    "ax = fig.add_subplot(1, 1, 1, projection=\"3d\")\n",
    "\n",
    "all_O_test = []\n",
    "all_I_test = []\n",
    "alphas = np.linspace(-0.1,0.1,20)\n",
    "for a in alphas:\n",
    "    O_test = (origin.to_numpy() + a*direction_vec)\n",
    "    O_test = B_origin.expressVectorInGround(Q1, Vec3(*O_test)).to_numpy()\n",
    "    all_O_test.append(O_test)\n",
    "\n",
    "    I_test = (insertion.to_numpy() + a*direction_vec2)\n",
    "    I_test = B_insertion.expressVectorInGround(Q1, Vec3(*I_test)).to_numpy()\n",
    "    all_I_test.append(I_test)\n",
    "    \n",
    "permut = itertools.permutations(list(range(len(alphas))), 2)\n",
    "for permu in permut:\n",
    "    i1, i2 = permu\n",
    "    ax.plot([all_O_test[i1][0], all_I_test[i2][0]],[all_O_test[i1][1], all_I_test[i2][1]],[all_O_test[i1][2], all_I_test[i2][2]])#, c=\"red\" )\n",
    "\n",
    "# ax.plot([O_in_ground[0], I_in_ground[0]],[O_in_ground[1], I_in_ground[1]],[O_in_ground[2], I_in_ground[2]], c=\"red\" )\n",
    "# ax.plot([O2_in_ground[0], I2_in_ground[0]],[O2_in_ground[1], I2_in_ground[1]],[O2_in_ground[2], I2_in_ground[2]], c=\"blue\" )\n",
    "\n",
    "ax.set_xlim(-2,2)\n",
    "ax.set_ylim(-2,2)\n",
    "ax.set_zlim(-2,2)"
   ]
  },
  {
   "cell_type": "code",
   "execution_count": 9,
   "metadata": {},
   "outputs": [
    {
     "name": "stdout",
     "output_type": "stream",
     "text": [
      "[0.0722, -0.0608, -0.2138, -0.0893, 0.3872, 1.2977, -0.2051, 0.0012, -0.7951, 0.685, -0.4002, -0.1965]\n",
      "[0.0706, -0.0596, -0.2092, -0.0854, 0.3853, 1.3011, -0.2036, -0.0042, -0.7931, 0.68, -0.3989, -0.1945]\n",
      "[0.3088, -0.2604, -0.9148]\n",
      "[0.3088, -0.2604, -0.9148]\n",
      "[-0.1916, -0.0005, -0.163, 0.0535, -0.6136, -0.7816, 0.1209, 0.446, 1.332, -0.6102, 0.6466, 1.0553]\n",
      "[-0.1876, -0.0005, -0.1596, 0.0515, -0.6161, -0.7833, 0.1244, 0.4488, 1.3303, -0.6104, 0.6434, 1.0534]\n",
      "[-0.7617, -0.0022, -0.648]\n",
      "[-0.7617, -0.0022, -0.648]\n"
     ]
    }
   ],
   "source": [
    "lever_arms_Q1 = []\n",
    "lever_arms_Q2 = []\n",
    "new_origin_vec = Vec3(*new_origin_test)\n",
    "new_insertion_vec = Vec3(*new_insertion_test)\n",
    "for i, c in enumerate(model.getCoordinateSet()):\n",
    "    # c: osim.Coordinate = c\n",
    "    FJ: osim.Joint = c.getJoint().getParentFrame()\n",
    "    origin_in_J_Q1 = B_origin.findStationLocationInAnotherFrame(Q1, new_origin_vec, FJ).to_numpy()\n",
    "    insertion_in_J_Q1 = B_insertion.findStationLocationInAnotherFrame(Q1, new_insertion_vec, FJ).to_numpy()\n",
    "    la = np.cross(insertion_in_J_Q1, origin_in_J_Q1) / np.linalg.norm(insertion_in_J_Q1 - origin_in_J_Q1)\n",
    "    w_Q1 = omegas_in_joints_Q1[:, i]\n",
    "    la = w_Q1 @ la\n",
    "    lever_arms_Q1.append(la)\n",
    "\n",
    "    origin_in_J_Q2 = B_origin.findStationLocationInAnotherFrame(Q2, new_origin_vec, FJ).to_numpy()\n",
    "    insertion_in_J_Q2 = B_insertion.findStationLocationInAnotherFrame(Q2, new_insertion_vec, FJ).to_numpy()\n",
    "\n",
    "    la = np.cross(insertion_in_J_Q2, origin_in_J_Q2) / np.linalg.norm(insertion_in_J_Q2 - origin_in_J_Q2)\n",
    "    w_Q2 = omegas_in_joints_Q2[:, i]\n",
    "    la = w_Q2 @ la\n",
    "    lever_arms_Q2.append(la)\n",
    "\n",
    "lever_arms_Q1 = np.array(lever_arms_Q1)\n",
    "lever_arms_Q2 = np.array(lever_arms_Q2)\n",
    "\n",
    "\n",
    "la_by_derivatives_Q1 = common.lever_arm_matrix(Q1, [muscle], model.getCoordinateSet())\n",
    "la_by_derivatives_Q2 = common.lever_arm_matrix(Q2, [muscle], model.getCoordinateSet())\n",
    "\n",
    "print(lever_arms_Q1.round(4).tolist())\n",
    "print(la_by_derivatives_Q1.ravel().round(4).tolist())\n",
    "\n",
    "print((lever_arms_Q1[:3] / np.linalg.norm(lever_arms_Q1[:3])).round(4).tolist())\n",
    "print((la_by_derivatives_Q1[:3] / np.linalg.norm(la_by_derivatives_Q1[:3])).ravel().round(4).tolist())\n",
    "\n",
    "print(lever_arms_Q2.round(4).tolist())\n",
    "print(la_by_derivatives_Q2.ravel().round(4).tolist())\n",
    "\n",
    "print((lever_arms_Q2[:3] / np.linalg.norm(lever_arms_Q2[:3])).round(4).tolist())\n",
    "print((la_by_derivatives_Q2[:3] / np.linalg.norm(la_by_derivatives_Q2[:3])).ravel().round(4).tolist())\n"
   ]
  },
  {
   "cell_type": "code",
   "execution_count": 118,
   "metadata": {},
   "outputs": [
    {
     "data": {
      "text/plain": [
       "-(84.0107^e124) - (84.0107^e125) - (18.00065^e134) - (18.00065^e135) + (7.5526^e145) - (68.79159^e234) - (68.79159^e235) - (27.31799^e245) - (12.03772^e345)"
      ]
     },
     "execution_count": 118,
     "metadata": {},
     "output_type": "execute_result"
    }
   ],
   "source": [
    "# LA = g3c_tools.random_conformal_point()^g3c_tools.random_conformal_point()^ni\n",
    "# LA"
   ]
  },
  {
   "cell_type": "code",
   "execution_count": 555,
   "metadata": {},
   "outputs": [
    {
     "name": "stdout",
     "output_type": "stream",
     "text": [
      "-(3.65384^e1) - (1.47323^e2) - (3.80405^e3)\n",
      "-(3.53275^e1) - (0.62826^e2) + (0.63153^e3)\n"
     ]
    }
   ],
   "source": [
    "def null_rotor():\n",
    "    return (0.0 * Px).exp()\n",
    "\n",
    "def euler_extrinsic(rx, ry, rz):\n",
    "    return (-0.5 * rx * Px).exp() * (-0.5 * ry * Py).exp() * (-0.5 * rz * Pz).exp()\n",
    "\n",
    "def euler_intrinsic(rx, ry, rz):\n",
    "    return  (-0.5 * rz * Pz).exp() * (-0.5 * ry * Py).exp() * (-(rx*Px) / 2).exp()\n",
    "\n",
    "def translator(tx, ty, tz):\n",
    "    return (-(tx*(e1^ni) + ty*(e2^ni) + tz*(e3^ni))/2).exp()\n",
    "\n",
    "X = up(3*e1 + e2 + e3)\n",
    "\n",
    "toG = null_rotor()\n",
    "toB1 = null_rotor()\n",
    "toJ1 = translator(*t1) * euler_extrinsic(*r1)\n",
    "toJ1_child = euler_extrinsic(*q1)\n",
    "toB2 = (translator(*t2) * euler_extrinsic(*r2)).inv()\n",
    "toJ2 = translator(*t3) * euler_extrinsic(*r3)\n",
    "toJ2_child = euler_extrinsic(*q2)\n",
    "toB3 = (translator(*t4) * euler_extrinsic(*r4)).inv()\n",
    "\n",
    "R = toG * toB1 * toJ1 * toJ1_child * toB2 * toJ2 * toJ2_child * toB3\n",
    "print(down(R * X * ~R))\n",
    "\n",
    "R = ~(toJ1_child * toB2)\n",
    "print(down(R * X * ~R))\n",
    "\n"
   ]
  },
  {
   "cell_type": "code",
   "execution_count": 556,
   "metadata": {},
   "outputs": [
    {
     "name": "stdout",
     "output_type": "stream",
     "text": [
      "[[ 4.81445088  0.38097219 -5.40392184 -3.91008054  0.19380367 -1.61455302]\n",
      " [-2.55270241 -1.60491412  0.52423453  1.72284215  1.14322941 -2.32923028]\n",
      " [ 0.59081906  1.33186891  1.48128821 -0.63139483 -1.23297924  2.86814419]]\n",
      "[[-0.450548   -0.11785585 -0.09717794  0.34988903  0.56250767 -0.75490528]\n",
      " [-0.73119138  0.61744313  0.7722644   0.50490582  0.56033015  0.64796912]\n",
      " [ 0.51221642  0.77773645 -0.62782493 -0.78908034  0.60795991  0.10126223]]\n"
     ]
    }
   ],
   "source": [
    "X = [1,2,3]\n",
    "J_osim_dir = common.station_jacobian(model, state, X, B3)\n",
    "print(J_osim_dir)\n",
    "J_osim_moment = common.frame_jacobian(model, state, B3)\n",
    "print(J_osim_moment)"
   ]
  },
  {
   "cell_type": "code",
   "execution_count": 572,
   "metadata": {},
   "outputs": [
    {
     "name": "stdout",
     "output_type": "stream",
     "text": [
      "[0.8617347  0.0625609  0.17393678]\n",
      "[0.8617347  0.0625609  0.17393678]\n",
      "\n",
      "(1.28791^e1) + (2.7502^e2) - (4.74138^e3)\n",
      "[ 1.28790986  2.75020029 -4.74138085]\n",
      "\n",
      "PLA -(2.81276^e124) - (2.81276^e125) + (4.56744^e134) + (4.56744^e135) + (1.0^e145)\n",
      "PLA in G -(0.51222^e12) - (0.73119^e13) + (4.81445^e14) + (4.81445^e15) + (0.45055^e23) - (2.5527^e24) - (2.5527^e25) + (0.59082^e34) + (0.59082^e35)\n",
      "PLA in G -(0.59082^e124) - (0.59082^e125) - (2.5527^e134) - (2.5527^e135) - (0.45055^e145) - (4.81445^e234) - (4.81445^e235) - (0.73119^e245) + (0.51222^e345)\n",
      "PLA in G -(0.59082^e124) - (0.59082^e125) - (2.5527^e134) - (2.5527^e135) - (0.45055^e145) - (4.81445^e234) - (4.81445^e235) - (0.73119^e245) + (0.51222^e345)\n"
     ]
    }
   ],
   "source": [
    "EE = up(e1 + 2*e2 + 3*e3)\n",
    "o = no # center of J1\n",
    "\n",
    "Base = np.array([e1, e2, e3])\n",
    "\n",
    "# Describing the origin in J1\n",
    "R = ~(toG * toB1 * toJ1)\n",
    "o_in_J1 = R * no * ~R\n",
    "# o_in_J1 = no\n",
    "# o_in_J1 = up(e1)\n",
    "print(point_to_np(o_in_J1))\n",
    "print(ground.findStationLocationInAnotherFrame(state, Vec3(0), J1.getParentFrame()).to_numpy())\n",
    "print()\n",
    "EE_in_origin = (B3.findStationLocationInGround(state, Vec3(1,2,3)).to_numpy())\n",
    "\n",
    "\n",
    "R =  toJ1_child * toB2 * toJ2 * toJ2_child * toB3\n",
    "EE_in_J1 = R * EE * ~R\n",
    "print(down(EE_in_J1))\n",
    "print(B3.findStationLocationInAnotherFrame(state, Vec3(1,2,3), J1.getParentFrame()).to_numpy())\n",
    "\n",
    "# PLA = EE_in_J1^(e1 - down(EE_in_J1))^ni\n",
    "PLA = (no^down(EE_in_J1)^(e1)^ni) # Plane centered at no works ?\n",
    "PLA = (down(EE_in_J1)^(e1)^ni) # Direction works\n",
    "PLA = (o_in_J1^down(EE_in_J1)^(e1)^ni) # Plane centered at joint works\n",
    "# PLA = o_in_J1 ^ EE_in_J1 ^ up(e1)\n",
    "PLA = (o_in_J1^e1^ni) + (down(EE_in_J1) ^ e1 ^ ni)\n",
    "PLA = (o_in_J1 + down(EE_in_J1)) ^ e1 ^ ni # Line = sphere^dir^ni\n",
    "PLA = up(down(o_in_J1) + down(EE_in_J1)) ^ e1 ^ ni # Line = sphere^dir^ni\n",
    "# PLA = (EE_in_J1 ^ o_in_J1 ^ e1) ^ ni\n",
    "R = toG * toB1 * toJ1\n",
    "print()\n",
    "print(\"PLA\", PLA)\n",
    "PLA_in_ground = R * PLA * ~R\n",
    "print(\"PLA in G\", PLA_in_ground.dual())\n",
    "print(\"PLA in G\", PLA_in_ground)\n",
    "print(\"PLA in G\", PLA_in_ground.normal())\n"
   ]
  },
  {
   "cell_type": "code",
   "execution_count": 541,
   "metadata": {},
   "outputs": [
    {
     "name": "stdout",
     "output_type": "stream",
     "text": [
      "(2.14078^e12) - (0.70375^e13) + (0.46193^e14) + (0.30135^e15) - (4.07145^e23) - (1.58795^e24) - (2.57479^e25) + (1.40053^e34) + (1.41954^e35) - (0.33205^e45)\n"
     ]
    }
   ],
   "source": [
    "OK = (o_in_J1 + down(EE_in_J1)) ^ e1\n",
    "K = R * OK * ~R\n",
    "print(K)\n",
    "print((K^ni)^(R*e1*~R))"
   ]
  },
  {
   "cell_type": "code",
   "execution_count": 530,
   "metadata": {},
   "outputs": [
    {
     "data": {
      "text/plain": [
       "(0.01505^e1) - (4.1251^e2) + (1.57185^e3) + (0.49072^e4) + (1.49072^e5)"
      ]
     },
     "execution_count": 530,
     "metadata": {},
     "output_type": "execute_result"
    }
   ],
   "source": [
    "o_in_J1 + down(EE_in_J1)"
   ]
  },
  {
   "cell_type": "code",
   "execution_count": 536,
   "metadata": {},
   "outputs": [
    {
     "name": "stdout",
     "output_type": "stream",
     "text": [
      "(0.3471^e1) - (3.66956^e2) + (2.86169^e3)\n",
      "-(0.33205^e1) - (0.45553^e2) - (1.28984^e3)\n"
     ]
    },
    {
     "data": {
      "text/plain": [
       "(0.01505^e1) - (4.1251^e2) + (1.57185^e3)"
      ]
     },
     "execution_count": 536,
     "metadata": {},
     "output_type": "execute_result"
    }
   ],
   "source": [
    "print(down(EE_in_J1))\n",
    "print(down(o_in_J1))\n",
    "down(o_in_J1) + down(EE_in_J1)"
   ]
  },
  {
   "cell_type": "code",
   "execution_count": 413,
   "metadata": {},
   "outputs": [
    {
     "name": "stdout",
     "output_type": "stream",
     "text": [
      "-(5.9099^e124) - (5.9099^e125) + (2.96217^e134) + (2.96217^e135) + (2.9805^e145) + (2.04595^e234) + (2.04595^e235) - (3.01239^e245) + (2.5417^e345)\n",
      "[ 2.0459544  -2.96216906 -5.90990259]\n"
     ]
    }
   ],
   "source": [
    "o_in_J1 = ground.findStationLocationInAnotherFrame(state, Vec3(0), J1.getParentFrame()).to_numpy()\n",
    "EE_in_J1 = B3.findStationLocationInAnotherFrame(state, Vec3(1,2,3), J1.getParentFrame()).to_numpy()\n",
    "\n",
    "Base = np.array([e1, e2, e3])\n",
    "L = up(o_in_J1@Base) ^ up(EE_in_J1@Base) ^ ni\n",
    "print(L)\n",
    "\n",
    "omega = np.cross(o_in_J1, EE_in_J1)\n",
    "print(omega)"
   ]
  },
  {
   "cell_type": "code",
   "execution_count": null,
   "metadata": {},
   "outputs": [],
   "source": []
  }
 ],
 "metadata": {
  "kernelspec": {
   "display_name": "workspace",
   "language": "python",
   "name": "python3"
  },
  "language_info": {
   "codemirror_mode": {
    "name": "ipython",
    "version": 3
   },
   "file_extension": ".py",
   "mimetype": "text/x-python",
   "name": "python",
   "nbconvert_exporter": "python",
   "pygments_lexer": "ipython3",
   "version": "3.11.9"
  }
 },
 "nbformat": 4,
 "nbformat_minor": 2
}
