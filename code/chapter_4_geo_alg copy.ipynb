{
 "cells": [
  {
   "cell_type": "code",
   "execution_count": 1,
   "metadata": {},
   "outputs": [
    {
     "name": "stderr",
     "output_type": "stream",
     "text": [
      "c:\\Users\\glaisne\\mambaforge\\envs\\workspace\\Lib\\site-packages\\numba\\core\\decorators.py:262: NumbaDeprecationWarning: \u001b[1mnumba.generated_jit is deprecated. Please see the documentation at: https://numba.readthedocs.io/en/stable/reference/deprecation.html#deprecation-of-generated-jit for more information and advice on a suitable replacement.\u001b[0m\n",
      "  warnings.warn(msg, NumbaDeprecationWarning)\n",
      "c:\\Users\\glaisne\\mambaforge\\envs\\workspace\\Lib\\site-packages\\numba\\core\\decorators.py:262: NumbaDeprecationWarning: \u001b[1mnumba.generated_jit is deprecated. Please see the documentation at: https://numba.readthedocs.io/en/stable/reference/deprecation.html#deprecation-of-generated-jit for more information and advice on a suitable replacement.\u001b[0m\n",
      "  warnings.warn(msg, NumbaDeprecationWarning)\n",
      "c:\\Users\\glaisne\\mambaforge\\envs\\workspace\\Lib\\site-packages\\pyganja\\__init__.py:2: UserWarning: Failed to import cef_gui, cef functions will be unavailable\n",
      "  from .script_api import *\n",
      "c:\\Users\\glaisne\\mambaforge\\envs\\workspace\\Lib\\site-packages\\numba\\core\\decorators.py:262: NumbaDeprecationWarning: \u001b[1mnumba.generated_jit is deprecated. Please see the documentation at: https://numba.readthedocs.io/en/stable/reference/deprecation.html#deprecation-of-generated-jit for more information and advice on a suitable replacement.\u001b[0m\n",
      "  warnings.warn(msg, NumbaDeprecationWarning)\n",
      "c:\\Users\\glaisne\\mambaforge\\envs\\workspace\\Lib\\site-packages\\clifford\\tools\\g3c\\__init__.py:1034: NumbaDeprecationWarning: \u001b[1mThe 'nopython' keyword argument was not supplied to the 'numba.jit' decorator. The implicit default value for this argument is currently False, but it will be changed to True in Numba 0.59.0. See https://numba.readthedocs.io/en/stable/reference/deprecation.html#deprecation-of-object-mode-fall-back-behaviour-when-using-jit for details.\u001b[0m\n",
      "  @numba.jit\n",
      "c:\\Users\\glaisne\\mambaforge\\envs\\workspace\\Lib\\site-packages\\clifford\\tools\\g3c\\__init__.py:1040: NumbaDeprecationWarning: \u001b[1mThe 'nopython' keyword argument was not supplied to the 'numba.jit' decorator. The implicit default value for this argument is currently False, but it will be changed to True in Numba 0.59.0. See https://numba.readthedocs.io/en/stable/reference/deprecation.html#deprecation-of-object-mode-fall-back-behaviour-when-using-jit for details.\u001b[0m\n",
      "  @numba.jit\n",
      "c:\\Users\\glaisne\\mambaforge\\envs\\workspace\\Lib\\site-packages\\numba\\core\\decorators.py:262: NumbaDeprecationWarning: \u001b[1mnumba.generated_jit is deprecated. Please see the documentation at: https://numba.readthedocs.io/en/stable/reference/deprecation.html#deprecation-of-generated-jit for more information and advice on a suitable replacement.\u001b[0m\n",
      "  warnings.warn(msg, NumbaDeprecationWarning)\n"
     ]
    }
   ],
   "source": [
    "import opensim as osim\n",
    "import numpy as np\n",
    "import hyperobjects as ho\n",
    "import common\n",
    "import clifford as cf\n",
    "from clifford import g3c\n",
    "import clifford.tools.g3c as g3c_tools\n",
    "from opensim import Vec3\n",
    "from enum import Enum\n",
    "\n",
    "G3c, blades_g3c, stuff = g3c.layout, g3c.blades, g3c.stuff\n",
    "\n",
    "e1, e2, e3 = g3c.e1, g3c.e2, g3c.e3\n",
    "e12, e13, e23 = g3c.e12, g3c.e13, g3c.e23\n",
    "e31 = -e13\n",
    "Px, Py, Pz = g3c.e23, -g3c.e13, g3c.e12\n",
    "up, down, homo = g3c.up, g3c.down, g3c.homo\n",
    "no, ni = g3c.eo, g3c.einf\n",
    "E0 = g3c.E0\n",
    "I_base = g3c.I_base"
   ]
  },
  {
   "cell_type": "code",
   "execution_count": 2,
   "metadata": {},
   "outputs": [],
   "source": [
    "class MultiVectorType(Enum):\n",
    "    NotBlade = -1\n",
    "    Vector = 0\n",
    "    EuclideanPoint = 1\n",
    "    ConformalPoint = 2\n",
    "    PointPair = 3\n",
    "    Circle = 4\n",
    "    Line = 5\n",
    "    Sphere = 6\n",
    "    Plane = 7\n",
    "\n",
    "def blade_type(mv):\n",
    "    if not isinstance(mv, cf.MultiVector):\n",
    "        return MultiVectorType.NotBlade\n",
    "    \n",
    "    obj = g3c_tools.interpret_multivector_as_object(mv)\n",
    "    if obj == -1:\n",
    "        return MultiVectorType.NotBlade\n",
    "    elif obj == 0:\n",
    "        return MultiVectorType.Vector\n",
    "    elif obj == 1:\n",
    "        return MultiVectorType.EuclideanPoint\n",
    "    elif obj == 2:\n",
    "        return MultiVectorType.ConformalPoint\n",
    "    elif obj == 3:\n",
    "        return MultiVectorType.PointPair\n",
    "    elif obj == 4:\n",
    "        return MultiVectorType.Circle\n",
    "    elif obj == 5:\n",
    "        return MultiVectorType.Line\n",
    "    elif obj == 6:\n",
    "        return MultiVectorType.Sphere\n",
    "    elif obj == 7:\n",
    "        return MultiVectorType.Plane\n",
    "    \n",
    "def to_vector(v):\n",
    "    if isinstance(v, osim.Vec3):\n",
    "        v = v.to_numpy()\n",
    "    return v[0]*e1 + v[1]*e2 + v[2]*e3\n",
    "\n",
    "def to_point(p):\n",
    "    return up(to_vector(p))"
   ]
  },
  {
   "cell_type": "code",
   "execution_count": 9,
   "metadata": {},
   "outputs": [
    {
     "data": {
      "text/plain": [
       "<MultiVectorType.PointPair: 3>"
      ]
     },
     "execution_count": 9,
     "metadata": {},
     "output_type": "execute_result"
    }
   ],
   "source": [
    "n = e1 + e2 + e3\n",
    "p = 4*e1\n",
    "L = g3c_tools.random_line()\n",
    "pla = n + (p | n)*ni\n",
    "blade_type(L)\n",
    "blade_type(L.dual())"
   ]
  },
  {
   "cell_type": "code",
   "execution_count": 3,
   "metadata": {},
   "outputs": [],
   "source": [
    "def to_array(mv):\n",
    "    b_type = blade_type(mv)\n",
    "    if b_type == MultiVectorType.Vector:\n",
    "        return np.array([mv | e1, mv | e2, mv | e3]).astype(float)\n",
    "    elif b_type == MultiVectorType.EuclideanPoint:\n",
    "        return np.array([mv | e1, mv | e2, mv | e3]).astype(float)\n",
    "    elif b_type == MultiVectorType.ConformalPoint:\n",
    "        mv = down(mv)\n",
    "        return np.array([mv | e1, mv | e2, mv | e3]).astype(float)\n",
    "    elif b_type == MultiVectorType.Line:\n",
    "        # return position then direction\n",
    "        P, D = g3c_tools.line_to_point_and_direction(mv)\n",
    "        if P == 0:\n",
    "            return [np.array([0,0,0]), to_array(D)]\n",
    "        return [to_array(P), to_array(D)]\n",
    "    elif b_type == MultiVectorType.Plane:\n",
    "        # return orthogonal proj of origin onto it THEN normal\n",
    "        location = g3c_tools.get_nearest_plane_point(mv)\n",
    "        normal = g3c_tools.get_plane_normal(mv)\n",
    "        if location == 0:\n",
    "            return [np.array([0,0,0]), to_array(normal)]\n",
    "        return [to_array(location), to_array(normal)]\n",
    "    else:\n",
    "        raise TypeError(f\"Can't convert {b_type} as numpy array.\")\n",
    "\n",
    "def rotation_axis_in_joint_frame(model, Q, last_frame):\n",
    "    W_in_ground = common.frame_jacobian(model, Q, last_frame)\n",
    "    W_in_joints = []\n",
    "    all_joints = [j for j in model.getJointSet()]\n",
    "    for i, w_in_ground in enumerate(W_in_ground.T):\n",
    "        Ji = all_joints[i // 3]\n",
    "        w_in_joint = model.getGround().expressVectorInAnotherFrame(Q, Vec3(*w_in_ground), Ji.getParentFrame()).to_numpy()\n",
    "        W_in_joints.append(w_in_joint)\n",
    "    return np.array(W_in_joints).T\n",
    "\n",
    "def lever_arms(model, Q, W, origin, frame_origin, insertion, frame_insertion):\n",
    "    if blade_type(origin) == MultiVectorType.NotBlade:\n",
    "        if not isinstance(origin, osim.Vec3):\n",
    "            origin = osim.Vec3(*origin)\n",
    "    else:\n",
    "        origin = osim.Vec3(*to_array(origin))\n",
    "\n",
    "    if blade_type(insertion) == MultiVectorType.NotBlade:\n",
    "        if not isinstance(insertion, osim.Vec3):\n",
    "            insertion = osim.Vec3(*insertion)\n",
    "    else:\n",
    "        insertion = osim.Vec3(*to_array(insertion))\n",
    "\n",
    "    lever_arms = []\n",
    "    for i, c in enumerate(model.getCoordinateSet()):\n",
    "        # c: osim.Coordinate = c\n",
    "        FJ: osim.Joint = c.getJoint().getParentFrame()\n",
    "        O_in_joint = frame_origin.findStationLocationInAnotherFrame(Q, origin, FJ).to_numpy()\n",
    "        I_in_joint = frame_insertion.findStationLocationInAnotherFrame(Q, insertion, FJ).to_numpy()\n",
    "        moment = np.cross(I_in_joint, O_in_joint) / np.linalg.norm(I_in_joint - O_in_joint)\n",
    "        lever_arm = W[:, i] @ moment\n",
    "        lever_arms.append(lever_arm)\n",
    "    \n",
    "    return np.array(lever_arms)"
   ]
  },
  {
   "cell_type": "code",
   "execution_count": 19,
   "metadata": {},
   "outputs": [],
   "source": [
    "X = g3c_tools.random_conformal_point()\n",
    "\n",
    "model = osim.Model()\n",
    "ground: osim.Ground = model.getGround()\n",
    "\n",
    "np.random.seed(28)\n",
    "\n",
    "k = 5\n",
    "B = [osim.Body(f\"B{i}\", 1.0, Vec3(0), osim.Inertia(0)) for i in range(1, k+1)]\n",
    "B[0] = model.getGround()\n",
    "J = [osim.BallJoint(f\"J{i}\", B[i-1], Vec3(*np.random.uniform(-1,1,3)), Vec3(*np.random.uniform(-np.pi,np.pi,3)), B[i], Vec3(*np.\n",
    "random.uniform(-1,1,3)), Vec3(*np.random.uniform(-np.pi,np.pi,3))) for i in range(1, k)]\n",
    "\n",
    "for Bi in B[1:]: model.addBody(Bi)\n",
    "for Ji in J: model.addJoint(Ji)\n",
    "\n",
    "q1 = np.random.uniform(-np.pi, np.pi, 3*(k-1))\n",
    "q2 = np.random.uniform(-np.pi, np.pi, 3*(k-1))\n",
    "q3 = np.random.uniform(-np.pi, np.pi, 3*(k-1))\n",
    "q4 = np.random.uniform(-np.pi, np.pi, 3*(k-1))\n",
    "q5 = np.random.uniform(-np.pi, np.pi, 3*(k-1))\n",
    "q6 = np.random.uniform(-np.pi, np.pi, 3*(k-1))\n",
    "\n",
    "muscle = osim.Millard2012EquilibriumMuscle(\"muscle\", 200.0, 0.6, 0.55, 0.0) \n",
    "origin = osim.Vec3(*np.random.uniform(-1,1,3))\n",
    "B_origin = B[0]\n",
    "muscle.addNewPathPoint(\"O\", B_origin, origin)\n",
    "insertion = osim.Vec3(np.random.uniform(-1,1,3))\n",
    "B_insertion = B[-1]\n",
    "muscle.addNewPathPoint(\"I\", B_insertion, insertion)\n",
    "model.addForce(muscle)\n",
    "\n",
    "Q_null = model.initSystem()\n",
    "model.equilibrateMuscles(Q_null)\n",
    "\n",
    "# X = Vec3(1, 2 ,3)\n",
    "Q1 = osim.State(Q_null)\n",
    "model.realizePosition(Q1)\n",
    "model.equilibrateMuscles(Q1)\n",
    "for i, c in enumerate(model.getCoordinateSet()):\n",
    "    c.setValue(Q1, q1[i])\n",
    "    \n",
    "Q2 = osim.State(Q_null)\n",
    "model.realizePosition(Q2)\n",
    "model.equilibrateMuscles(Q2)\n",
    "for i, c in enumerate(model.getCoordinateSet()):\n",
    "    c.setValue(Q2, q2[i])\n",
    "    \n",
    "Q3 = osim.State(Q_null)\n",
    "model.realizePosition(Q3)\n",
    "model.equilibrateMuscles(Q3)\n",
    "for i, c in enumerate(model.getCoordinateSet()):\n",
    "    c.setValue(Q3, q3[i])\n",
    "    \n",
    "Q4 = osim.State(Q_null)\n",
    "model.realizePosition(Q4)\n",
    "model.equilibrateMuscles(Q4)\n",
    "for i, c in enumerate(model.getCoordinateSet()):\n",
    "    c.setValue(Q4, q4[i])\n",
    "    \n",
    "Q5 = osim.State(Q_null)\n",
    "model.realizePosition(Q5)\n",
    "model.equilibrateMuscles(Q5)\n",
    "for i, c in enumerate(model.getCoordinateSet()):\n",
    "    c.setValue(Q5, q5[i])\n",
    "\n",
    "Q6 = osim.State(Q_null)\n",
    "model.realizePosition(Q6)\n",
    "model.equilibrateMuscles(Q6)\n",
    "for i, c in enumerate(model.getCoordinateSet()):\n",
    "    c.setValue(Q6, q6[i])"
   ]
  },
  {
   "cell_type": "code",
   "execution_count": 20,
   "metadata": {},
   "outputs": [
    {
     "name": "stdout",
     "output_type": "stream",
     "text": [
      "[[ 1. -0. -0.  1. -0. -0.  1.  0.  0.  1.  0. -0.]\n",
      " [-0.  1.  0. -0.  1.  0.  0.  1. -0.  0.  1. -0.]\n",
      " [-0.  0.  1. -0.  0.  1.  0. -0.  1. -0. -0.  1.]]\n",
      "[[ 1. -0. -0.  1. -0.  0.  1. -0.  0.  1. -0.  0.]\n",
      " [-0.  1.  0. -0.  1.  0. -0.  1. -0. -0.  1.  0.]\n",
      " [-0.  0.  1.  0.  0.  1.  0. -0.  1.  0.  0.  1.]]\n"
     ]
    }
   ],
   "source": [
    "# Compute the rotation axes expressed in the ground\n",
    "# NB: in any joint configuration Q, the rotation axes IN their respective joints are the same! But we can consider a case where they are not (for instance if the axis is parametrized by another function)\n",
    "omegas_Q1 = common.frame_jacobian(model, Q1, B_insertion)\n",
    "omegas_Q2 = common.frame_jacobian(model, Q2, B_insertion)\n",
    "\n",
    "# Compute the rotation axes expressed in there parent frame\n",
    "omegas_in_joints_Q1 = []\n",
    "for i, w in enumerate(omegas_Q1.T):\n",
    "    Ji = J[i // 3]\n",
    "    w_in_J_Q1 = ground.expressVectorInAnotherFrame(Q1, Vec3(*w), Ji.getParentFrame()).to_numpy()\n",
    "    omegas_in_joints_Q1.append(w_in_J_Q1)\n",
    "omegas_in_joints_Q1 = np.array(omegas_in_joints_Q1).T\n",
    "\n",
    "omegas_in_joints_Q2 = []\n",
    "for i, w in enumerate(omegas_Q2.T):\n",
    "    Ji = J[i // 3]\n",
    "    w_in_J_Q2 = ground.expressVectorInAnotherFrame(Q2, Vec3(*w), Ji.getParentFrame()).to_numpy()\n",
    "    omegas_in_joints_Q2.append(w_in_J_Q2)\n",
    "omegas_in_joints_Q2 = np.array(omegas_in_joints_Q2).T\n",
    "\n",
    "# Both matrices should be the same\n",
    "print(omegas_in_joints_Q1.round(2))\n",
    "print(omegas_in_joints_Q2.round(2))"
   ]
  },
  {
   "cell_type": "code",
   "execution_count": 21,
   "metadata": {},
   "outputs": [
    {
     "data": {
      "text/plain": [
       "array([[ 1., -0., -0.,  1., -0., -0.,  1.,  0.,  0.,  1.,  0., -0.],\n",
       "       [-0.,  1.,  0., -0.,  1.,  0.,  0.,  1., -0.,  0.,  1., -0.],\n",
       "       [-0.,  0.,  1., -0.,  0.,  1.,  0., -0.,  1., -0., -0.,  1.]])"
      ]
     },
     "execution_count": 21,
     "metadata": {},
     "output_type": "execute_result"
    }
   ],
   "source": [
    "W = rotation_axis_in_joint_frame(model, Q1, B_insertion)\n",
    "W.round(5)"
   ]
  },
  {
   "cell_type": "code",
   "execution_count": 22,
   "metadata": {},
   "outputs": [
    {
     "name": "stdout",
     "output_type": "stream",
     "text": [
      "[0.1037, -0.2348, -0.0002, 0.1532, 0.0941, 1.2609, -0.0248, -0.2056, -0.4367, 0.4354, -0.5651, 0.041]\n",
      "[0.1037, -0.2348, -0.0002, 0.1532, 0.0941, 1.2609, -0.0248, -0.2056, -0.4367, 0.4354, -0.5651, 0.041]\n",
      "[-0.1136, -0.0833, -0.1435, 0.072, -0.3971, -1.2449, 0.1883, 0.5488, 1.4979, -1.0847, 0.7885, 0.9096]\n",
      "[-0.1136, -0.0833, -0.1435, 0.072, -0.3971, -1.2449, 0.1883, 0.5488, 1.4979, -1.0847, 0.7885, 0.9096]\n",
      "[-0.1167, 0.2006, -0.0267, -0.0518, 0.6853, -0.2549, -0.5151, -0.7937, 0.0945, -1.498, -0.9128, -0.4123]\n",
      "[-0.1167, 0.2006, -0.0267, -0.0518, 0.6853, -0.2549, -0.5151, -0.7937, 0.0945, -1.498, -0.9128, -0.4123]\n",
      "[-0.122, 0.1677, -0.0456, 0.2486, -0.1806, 1.2004, -0.9679, 0.8716, -0.4006, 0.1639, -0.7299, 1.6003]\n",
      "[-0.122, 0.1677, -0.0456, 0.2486, -0.1806, 1.2004, -0.9679, 0.8716, -0.4006, 0.1639, -0.7299, 1.6003]\n",
      "[-0.197, 0.065, -0.1606, -0.0652, 0.4311, 0.2079, -0.0767, 0.311, 0.0885, 0.8454, -0.6569, 0.319]\n",
      "[-0.197, 0.065, -0.1606, -0.0652, 0.4311, 0.2079, -0.0767, 0.311, 0.0885, 0.8454, -0.6569, 0.319]\n",
      "[0.1719, -0.2489, 0.0589, -0.0831, 0.0215, 0.8484, 0.7662, 0.5535, -1.2908, -0.8798, 0.1861, 0.6869]\n",
      "[0.1719, -0.2489, 0.0589, -0.0831, 0.0215, 0.8484, 0.7662, 0.5535, -1.2908, -0.8798, 0.1861, 0.6869]\n"
     ]
    }
   ],
   "source": [
    "coordinates = model.getCoordinateSet()\n",
    "lever_arms_by_derivatives_Q1 = common.lever_arm_matrix(Q1, [muscle], coordinates)\n",
    "lever_arms_by_derivatives_Q2 = common.lever_arm_matrix(Q2, [muscle], coordinates)\n",
    "lever_arms_by_derivatives_Q3 = common.lever_arm_matrix(Q3, [muscle], coordinates)\n",
    "lever_arms_by_derivatives_Q4 = common.lever_arm_matrix(Q4, [muscle], coordinates)\n",
    "lever_arms_by_derivatives_Q5 = common.lever_arm_matrix(Q5, [muscle], coordinates)\n",
    "lever_arms_by_derivatives_Q6 = common.lever_arm_matrix(Q6, [muscle], coordinates)\n",
    "lever_arms_Q1 = lever_arms(model, Q1, W, origin, B_origin, insertion, B_insertion)\n",
    "lever_arms_Q2 = lever_arms(model, Q2, W, origin, B_origin, insertion, B_insertion)\n",
    "lever_arms_Q3 = lever_arms(model, Q3, W, origin, B_origin, insertion, B_insertion)\n",
    "lever_arms_Q4 = lever_arms(model, Q4, W, origin, B_origin, insertion, B_insertion)\n",
    "lever_arms_Q5 = lever_arms(model, Q5, W, origin, B_origin, insertion, B_insertion)\n",
    "lever_arms_Q6 = lever_arms(model, Q6, W, origin, B_origin, insertion, B_insertion)\n",
    "\n",
    "print(lever_arms_Q1.round(4).tolist())\n",
    "print(lever_arms_by_derivatives_Q1.ravel().round(4).tolist())\n",
    "\n",
    "print(lever_arms_Q2.round(4).tolist())\n",
    "print(lever_arms_by_derivatives_Q2.ravel().round(4).tolist())\n",
    "\n",
    "print(lever_arms_Q3.round(4).tolist())\n",
    "print(lever_arms_by_derivatives_Q3.ravel().round(4).tolist())\n",
    "\n",
    "print(lever_arms_Q4.round(4).tolist())\n",
    "print(lever_arms_by_derivatives_Q4.ravel().round(4).tolist())\n",
    "\n",
    "print(lever_arms_Q5.round(4).tolist())\n",
    "print(lever_arms_by_derivatives_Q5.ravel().round(4).tolist())\n",
    "\n",
    "print(lever_arms_Q6.round(4).tolist())\n",
    "print(lever_arms_by_derivatives_Q6.ravel().round(4).tolist())"
   ]
  },
  {
   "cell_type": "code",
   "execution_count": 23,
   "metadata": {},
   "outputs": [
    {
     "name": "stdout",
     "output_type": "stream",
     "text": [
      "-(0.07345^e1234) - (0.07345^e1235) - (0.04239^e1245) - (0.25203^e1345) + (0.02355^e2345)\n",
      "-(0.00443^e124) - (0.00443^e125) + (0.04463^e134) + (0.04463^e135) + (0.04098^e145) + (0.00467^e234) + (0.00467^e235) + (0.00127^e245) + (0.03034^e345)\n",
      "(0.65658^e124) + (0.65658^e125) + (0.02276^e134) + (0.02276^e135) + (0.61317^e145) - (0.01555^e234) - (0.01555^e235) - (0.72089^e245) - (0.01047^e345)\n",
      "0\n",
      "0\n",
      "0\n",
      "0\n",
      "-(0.08696^e124) - (0.08696^e125) + (0.87509^e134) + (0.87509^e135) + (0.80342^e145) + (0.09161^e234) + (0.09161^e235) + (0.02499^e245) + (0.59489^e345)\n",
      "-(0.08696^e124) - (0.08696^e125) + (0.87509^e134) + (0.87509^e135) + (0.80342^e145) + (0.09161^e234) + (0.09161^e235) + (0.02499^e245) + (0.59489^e345)\n",
      "(0.69373^e124) + (0.69373^e125) + (0.02405^e134) + (0.02405^e135) + (0.64786^e145) - (0.01642^e234) - (0.01642^e235) - (0.76168^e245) - (0.01106^e345)\n",
      "-(0.51641^e124) - (0.51641^e125) + (0.04141^e134) + (0.04141^e135) - (0.40862^e145) + (0.25698^e234) + (0.25698^e235) + (0.87086^e245) - (0.27318^e345)\n",
      "(0.0714^e14) + (0.0714^e15) + (0.29463^e24) + (0.29463^e25) + (0.0119^e34) + (0.0119^e35) + (0.35355^e45)\n",
      "MultiVectorType.PointPair\n"
     ]
    }
   ],
   "source": [
    "plane_normal_Q1 = lever_arms_Q1[:3]\n",
    "plane_location_Q1 = np.array([0,0,0])\n",
    "plane_normal_Q2 = lever_arms_Q2[:3]\n",
    "plane_location_Q2 = np.array([0,0,0])\n",
    "plane_normal_Q3 = lever_arms_Q3[:3]\n",
    "plane_location_Q3 = np.array([0,0,0])\n",
    "\n",
    "# Let's replace the normal plane in each origin and insertion reference body.\n",
    "# For this, the orientation of the normal is displaced, then the point of application is moved.\n",
    "joint_frame = J[0].getParentFrame()\n",
    "\n",
    "PO_normal_Q1 = joint_frame.expressVectorInAnotherFrame(Q1, Vec3(*plane_normal_Q1), B_origin)\n",
    "PO_pos_Q1 = joint_frame.findStationLocationInAnotherFrame(Q1, Vec3(0), B_origin)\n",
    "\n",
    "PO_normal_Q2 = joint_frame.expressVectorInAnotherFrame(Q2, Vec3(*plane_normal_Q2), B_origin)\n",
    "PO_pos_Q2 = joint_frame.findStationLocationInAnotherFrame(Q2, Vec3(0), B_origin)\n",
    "\n",
    "PO_normal_Q3 = joint_frame.expressVectorInAnotherFrame(Q3, Vec3(*plane_normal_Q3), B_origin)\n",
    "PO_pos_Q3 = joint_frame.findStationLocationInAnotherFrame(Q3, Vec3(0), B_origin)\n",
    "\n",
    "PI_normal_Q1 = joint_frame.expressVectorInAnotherFrame(Q1, Vec3(*plane_normal_Q1), B_insertion)\n",
    "PI_pos_Q1 = joint_frame.findStationLocationInAnotherFrame(Q1, Vec3(0), B_insertion)\n",
    "PI_normal_Q1 = Vec3(*(PI_normal_Q1.to_numpy() / np.linalg.norm(PI_normal_Q1.to_numpy())))\n",
    "\n",
    "PI_normal_Q2 = joint_frame.expressVectorInAnotherFrame(Q2, Vec3(*plane_normal_Q2), B_insertion)\n",
    "PI_normal_Q2 = Vec3(*(PI_normal_Q2.to_numpy() / np.linalg.norm(PI_normal_Q2.to_numpy())))\n",
    "PI_pos_Q2 = joint_frame.findStationLocationInAnotherFrame(Q2, Vec3(0), B_insertion)\n",
    "\n",
    "PI_normal_Q3 = joint_frame.expressVectorInAnotherFrame(Q3, Vec3(*plane_normal_Q3), B_insertion)\n",
    "PI_normal_Q3 = Vec3(*(PI_normal_Q3.to_numpy() / np.linalg.norm(PI_normal_Q3.to_numpy())))\n",
    "PI_pos_Q3 = joint_frame.findStationLocationInAnotherFrame(Q3, Vec3(0), B_insertion)\n",
    "\n",
    "PO_Q1 = (to_vector(PO_normal_Q1) + (to_point(PO_pos_Q1) | to_vector(PO_normal_Q1)) * ni).dual()\n",
    "PO_Q2 = (to_vector(PO_normal_Q2) + (to_point(PO_pos_Q2) | to_vector(PO_normal_Q2)) * ni).dual()\n",
    "PO_Q3 = (to_vector(PO_normal_Q3) + (to_point(PO_pos_Q3) | to_vector(PO_normal_Q3)) * ni).dual()\n",
    "\n",
    "PI_Q1 = (to_vector(PI_normal_Q1) + (to_point(PI_pos_Q1) | to_vector(PI_normal_Q1)) * ni).dual()\n",
    "PI_Q2 = (to_vector(PI_normal_Q2) + (to_point(PI_pos_Q2) | to_vector(PI_normal_Q2)) * ni).dual()\n",
    "PI_Q3 = (to_vector(PI_normal_Q3) + (to_point(PI_pos_Q3) | to_vector(PI_normal_Q3)) * ni).dual()\n",
    "print(PO_Q1)\n",
    "\n",
    "LO = PO_Q1.meet(PO_Q2)\n",
    "LI = PI_Q1.meet(PI_Q2)\n",
    "\n",
    "LO_2 = PO_Q2.meet(PO_Q3)\n",
    "LI_2 = PI_Q2.meet(PI_Q3)\n",
    "\n",
    "print(LO)\n",
    "print(LI)\n",
    "O = to_point(origin.to_numpy())\n",
    "I = to_point(insertion.to_numpy())\n",
    "print(O ^ LO)\n",
    "print(I ^ LI)\n",
    "print(O ^ LO_2)\n",
    "print(I ^ LI_2)\n",
    "\n",
    "print(LO.normal())\n",
    "print(LO_2.normal())\n",
    "print(LI.normal())\n",
    "print(LI_2.normal())\n",
    "\n",
    "# PO = LO.meet(LO_2)\n",
    "# print(PO.normal())\n",
    "# print(LO.normal())\n",
    "PI = LI.meet(LI_2)\n",
    "print(PI)\n",
    "\n",
    "print(blade_type(PI))\n",
    "# print(down(PI.dual()))\n",
    "\n"
   ]
  },
  {
   "cell_type": "code",
   "execution_count": 24,
   "metadata": {},
   "outputs": [
    {
     "data": {
      "text/plain": [
       "(0.63515^e12345)"
      ]
     },
     "execution_count": 24,
     "metadata": {},
     "output_type": "execute_result"
    }
   ],
   "source": [
    "to_point(PI_pos_Q1) ^ PI_Q2"
   ]
  },
  {
   "cell_type": "code",
   "execution_count": 25,
   "metadata": {},
   "outputs": [
    {
     "name": "stdout",
     "output_type": "stream",
     "text": [
      "0\n",
      "-(0.03491^e1234) - (0.03491^e1235) - (0.02014^e1245) - (0.11978^e1345) + (0.01119^e2345)\n",
      "-(0.05401^e1234) - (0.05401^e1235) - (0.04981^e1245) + (0.00228^e1345) + (0.03695^e2345)\n"
     ]
    }
   ],
   "source": [
    "joint_center_in_ground_Q1 = to_point(joint_frame.findStationLocationInGround(Q1, Vec3(0)))\n",
    "joint_center_in_ground_Q2 = to_point(joint_frame.findStationLocationInGround(Q1, Vec3(0)))\n",
    "normal_in_ground_Q1 = to_vector(joint_frame.expressVectorInGround(Q1, Vec3(*plane_normal_Q1)))\n",
    "normal_in_ground_Q2 = to_vector(joint_frame.expressVectorInGround(Q2, Vec3(*plane_normal_Q2)))\n",
    "\n",
    "PG_Q1 = (normal_in_ground_Q1 + (joint_center_in_ground_Q1 | normal_in_ground_Q1) * ni).dual()\n",
    "PG_Q2 = (normal_in_ground_Q2 + (joint_center_in_ground_Q2 | normal_in_ground_Q2) * ni).dual()\n",
    "L = PG_Q1.meet(PG_Q2)\n",
    "O_in_ground_Q1 = to_point(B_origin.findStationLocationInGround(Q1, origin))\n",
    "O_in_ground_Q2 = to_point(B_origin.findStationLocationInGround(Q2, origin))\n",
    "I_in_ground_Q1 = to_point(B_insertion.findStationLocationInGround(Q1, insertion))\n",
    "I_in_ground_Q2 = to_point(B_insertion.findStationLocationInGround(Q2, insertion))\n",
    "print(O_in_ground_Q1 ^ L)\n",
    "print(I_in_ground_Q1 ^ L)\n",
    "print(I_in_ground_Q2 ^ L)\n"
   ]
  },
  {
   "cell_type": "code",
   "execution_count": 26,
   "metadata": {},
   "outputs": [
    {
     "name": "stdout",
     "output_type": "stream",
     "text": [
      "(0.00017^e1245) - (0.23478^e1345) - (0.10368^e2345)\n",
      "(0.14348^e1245) - (0.08325^e1345) + (0.11355^e2345)\n",
      "LJ -(0.03367^e145) - (0.01489^e245) + (0.03529^e345)\n",
      "0\n",
      "0\n",
      "(8e-05^e1245) - (0.11158^e1345) - (0.04927^e2345)\n",
      "(0.0443^e1245) - (0.0257^e1345) + (0.03506^e2345)\n"
     ]
    }
   ],
   "source": [
    "PJ_Q1 = to_vector(plane_normal_Q1).dual()\n",
    "PJ_Q2 = to_vector(plane_normal_Q2).dual()\n",
    "print(PJ_Q1)\n",
    "print(PJ_Q2)\n",
    "\n",
    "LJ = PJ_Q1.meet(PJ_Q2)\n",
    "print(\"LJ\", LJ)\n",
    "\n",
    "\n",
    "\n",
    "# pos, D = to_array(LO)\n",
    "# print(pos, D)\n",
    "\n",
    "# dirt1 = B_origin.expressVectorInAnotherFrame(Q1, Vec3(*D), joint_frame)\n",
    "# # L_test = to\n",
    "# print(dirt1)\n",
    "# LO_test = no ^ to_vector(dirt1) ^ ni\n",
    "# print(LO_test.normal())\n",
    "# print(LO_test ^ LJ)\n",
    "\n",
    "O_in_joint_Q1 = to_point(B_origin.findStationLocationInAnotherFrame(Q1, origin, joint_frame))\n",
    "O_in_joint_Q2 = to_point(B_origin.findStationLocationInAnotherFrame(Q2, origin, joint_frame))\n",
    "I_in_joint_Q1 = to_point(B_insertion.findStationLocationInAnotherFrame(Q1, insertion, joint_frame))\n",
    "I_in_joint_Q2 = to_point(B_insertion.findStationLocationInAnotherFrame(Q2, insertion, joint_frame))\n",
    "print(O_in_joint_Q1^LJ)\n",
    "print(O_in_joint_Q2^LJ)\n",
    "print(I_in_joint_Q1^LJ)\n",
    "print(I_in_joint_Q2^LJ)"
   ]
  },
  {
   "cell_type": "code",
   "execution_count": 27,
   "metadata": {},
   "outputs": [
    {
     "data": {
      "text/plain": [
       "0"
      ]
     },
     "execution_count": 27,
     "metadata": {},
     "output_type": "execute_result"
    }
   ],
   "source": [
    "to_point(PO_pos_Q1) ^ LO"
   ]
  },
  {
   "cell_type": "code",
   "execution_count": 28,
   "metadata": {},
   "outputs": [
    {
     "name": "stdout",
     "output_type": "stream",
     "text": [
      "-(0.20196^e1) - (0.83336^e2) - (0.03367^e3) - (0.1318^e4) + (0.8682^e5)\n",
      "-(0.0714^e14) - (0.0714^e15) - (0.29463^e24) - (0.29463^e25) - (0.0119^e34) - (0.0119^e35) - (0.35355^e45)\n",
      "-(0.20196^e14) - (0.20196^e15) - (0.83336^e24) - (0.83336^e25) - (0.03367^e34) - (0.03367^e35) - (1.0^e45)\n",
      "-(0.08696^e124) - (0.08696^e125) + (0.87509^e134) + (0.87509^e135) + (0.80342^e145) + (0.09161^e234) + (0.09161^e235) + (0.02499^e245) + (0.59489^e345)\n",
      "(0.20977^e1) + (0.11476^e2) - (0.93389^e3) - (0.03534^e4) + (0.96466^e5)\n",
      "0\n",
      "0\n",
      "0\n",
      "MultiVectorType.ConformalPoint\n",
      "MultiVectorType.Line\n",
      "-(0.20196^e1) - (0.83336^e2) - (0.03367^e3) - (0.1318^e4) + (0.8682^e5)\n",
      "-(0.20196^e1) - (0.83336^e2) - (0.03367^e3) - (0.1318^e4) + (0.8682^e5)\n"
     ]
    }
   ],
   "source": [
    "ml = PI_Q1.meet(PI_Q2.meet(PI_Q3))\n",
    "print(I)\n",
    "print(ml)\n",
    "print(ml.normal())\n",
    "mlO = PO_Q1.meet(PO_Q2.meet(PO_Q3))\n",
    "print(mlO.normal())\n",
    "print(O)\n",
    "print(I ^ PI_Q1)\n",
    "print(I ^ PI_Q2)\n",
    "print(I ^ PI_Q3)\n",
    "print(blade_type(I))\n",
    "Lk = PI_Q1.meet(PI_Q2)\n",
    "print(blade_type(Lk))\n",
    "Lk2 = g3c_tools.intersect_line_and_plane_to_point(PI_Q1.meet(PI_Q2), PI_Q3)\n",
    "print(Lk2)\n",
    "print(I)"
   ]
  },
  {
   "cell_type": "code",
   "execution_count": 29,
   "metadata": {},
   "outputs": [
    {
     "data": {
      "text/plain": [
       "-(0.20196^e145) - (0.83336^e245) - (0.03367^e345)"
      ]
     },
     "execution_count": 29,
     "metadata": {},
     "output_type": "execute_result"
    }
   ],
   "source": [
    "pI_interest = no ^ down(Lk2) ^ ni\n",
    "pI_interest"
   ]
  },
  {
   "cell_type": "code",
   "execution_count": 37,
   "metadata": {},
   "outputs": [
    {
     "name": "stdout",
     "output_type": "stream",
     "text": [
      "[ 0.20976702  0.11475728 -0.93389042]\n",
      "[-0.20195964 -0.83335775 -0.03366729]\n",
      "[0.404, -0.9148, -0.0006]\n",
      "[0.404, -0.9148, -0.0006]\n",
      "[-0.5649, -0.4141, -0.7137]\n",
      "[-0.5649, -0.4141, -0.7137]\n",
      "[-0.4995, 0.8588, -0.1141]\n",
      "[-0.4995, 0.8588, -0.1141]\n",
      "[-0.5744, 0.7899, -0.2146]\n",
      "[-0.5744, 0.7899, -0.2146]\n",
      "[-0.751, 0.2479, -0.6119]\n",
      "[-0.751, 0.2479, -0.6119]\n",
      "[0.5578, -0.8077, 0.1913]\n",
      "[0.5578, -0.8077, 0.1913]\n"
     ]
    }
   ],
   "source": [
    "O_random = g3c_tools.random_conformal_point()\n",
    "O_random = g3c_tools.project_points_to_line([O_random], LO)[0]\n",
    "I_random = g3c_tools.random_conformal_point()\n",
    "# I_random = g3c_tools.project_points_to_line([I_random], PI)[0]\n",
    "I_random = (I_random | PI) / PI\n",
    "# I_random = (I_random | pI_interest) / pI_interest\n",
    "\n",
    "lever_arms_Q1_random = lever_arms(model, Q1, W, O_random, B_origin, I_random, B_insertion)\n",
    "lever_arms_Q2_random = lever_arms(model, Q2, W, O_random, B_origin, I_random, B_insertion)\n",
    "lever_arms_Q3_random = lever_arms(model, Q3, W, O_random, B_origin, I_random, B_insertion)\n",
    "lever_arms_Q4_random = lever_arms(model, Q4, W, O_random, B_origin, I_random, B_insertion)\n",
    "lever_arms_Q5_random = lever_arms(model, Q5, W, O_random, B_origin, I_random, B_insertion)\n",
    "lever_arms_Q6_random = lever_arms(model, Q6, W, O_random, B_origin, I_random, B_insertion)\n",
    "\n",
    "print(to_array(O))\n",
    "print(to_array(I_random))\n",
    "\n",
    "\n",
    "print((lever_arms_Q1[:3] / np.linalg.norm(lever_arms_Q1[:3])).round(4).tolist())\n",
    "print((lever_arms_Q1_random[:3] / np.linalg.norm(lever_arms_Q1_random[:3])).round(4).tolist())\n",
    "\n",
    "print((lever_arms_Q2[:3] / np.linalg.norm(lever_arms_Q2[:3])).round(4).tolist())\n",
    "print((lever_arms_Q2_random[:3] / np.linalg.norm(lever_arms_Q2_random[:3])).round(4).tolist())\n",
    "\n",
    "print((lever_arms_Q3[:3] / np.linalg.norm(lever_arms_Q3[:3])).round(4).tolist())\n",
    "print((lever_arms_Q3_random[:3] / np.linalg.norm(lever_arms_Q3_random[:3])).round(4).tolist())\n",
    "\n",
    "print((lever_arms_Q4[:3] / np.linalg.norm(lever_arms_Q4[:3])).round(4).tolist())\n",
    "print((lever_arms_Q4_random[:3] / np.linalg.norm(lever_arms_Q4_random[:3])).round(4).tolist())\n",
    "\n",
    "print((lever_arms_Q5[:3] / np.linalg.norm(lever_arms_Q5[:3])).round(4).tolist())\n",
    "print((lever_arms_Q5_random[:3] / np.linalg.norm(lever_arms_Q5_random[:3])).round(4).tolist())\n",
    "\n",
    "print((lever_arms_Q6[:3] / np.linalg.norm(lever_arms_Q6[:3])).round(4).tolist())\n",
    "print((lever_arms_Q6_random[:3] / np.linalg.norm(lever_arms_Q6_random[:3])).round(4).tolist())"
   ]
  },
  {
   "cell_type": "code",
   "execution_count": 51,
   "metadata": {},
   "outputs": [
    {
     "name": "stdout",
     "output_type": "stream",
     "text": [
      "0\n",
      "0\n",
      "0\n",
      "0\n",
      "[0.404, -0.9148, -0.0006]\n",
      "[0.404, -0.9148, -0.0006]\n",
      "[-0.5649, -0.4141, -0.7137]\n",
      "[-0.4918, -0.5282, -0.6922]\n",
      "[-0.4995, 0.8588, -0.1141]\n",
      "[-0.6489, 0.6857, -0.3297]\n",
      "[-0.5744, 0.7899, -0.2146]\n",
      "[-0.6106, -0.3278, -0.7209]\n",
      "[-0.751, 0.2479, -0.6119]\n",
      "[-0.6106, 0.7452, -0.268]\n",
      "[0.5578, -0.8077, 0.1913]\n",
      "[0.3071, -0.9457, -0.1061]\n"
     ]
    }
   ],
   "source": [
    "pointI = to_point(B_insertion.findStationLocationInAnotherFrame(Q1, Vec3(*to_array(I_random)), ground))\n",
    "pointO = to_point(B_origin.findStationLocationInAnotherFrame(Q1, origin, ground))\n",
    "LOI = pointO^pointI^ni\n",
    "I_random2 = g3c_tools.random_conformal_point()\n",
    "I_random2 = (I_random2 | LOI) / LOI\n",
    "print(I_random2 ^ LOI)\n",
    "pointI2 = to_point(ground.findStationLocationInAnotherFrame(Q1, Vec3(*to_array(I_random2)), B_insertion))\n",
    "\n",
    "I_random_in_ground = to_point(B_insertion.findStationLocationInAnotherFrame(Q1, Vec3(*to_array(I_random)), ground))\n",
    "print(O^LOI)\n",
    "print(I_random_in_ground^LOI)\n",
    "print(I_random2^LOI)\n",
    "\n",
    "lever_arms_Q1_random = lever_arms(model, Q1, W, O_random, B_origin, pointI2, B_insertion)\n",
    "lever_arms_Q2_random = lever_arms(model, Q2, W, O_random, B_origin, pointI2, B_insertion)\n",
    "lever_arms_Q3_random = lever_arms(model, Q3, W, O_random, B_origin, pointI2, B_insertion)\n",
    "lever_arms_Q4_random = lever_arms(model, Q4, W, O_random, B_origin, pointI2, B_insertion)\n",
    "lever_arms_Q5_random = lever_arms(model, Q5, W, O_random, B_origin, pointI2, B_insertion)\n",
    "lever_arms_Q6_random = lever_arms(model, Q6, W, O_random, B_origin, pointI2, B_insertion)\n",
    "\n",
    "print((lever_arms_Q1[:3] / np.linalg.norm(lever_arms_Q1[:3])).round(4).tolist())\n",
    "print((lever_arms_Q1_random[:3] / np.linalg.norm(lever_arms_Q1_random[:3])).round(4).tolist())\n",
    "\n",
    "print((lever_arms_Q2[:3] / np.linalg.norm(lever_arms_Q2[:3])).round(4).tolist())\n",
    "print((lever_arms_Q2_random[:3] / np.linalg.norm(lever_arms_Q2_random[:3])).round(4).tolist())\n",
    "\n",
    "print((lever_arms_Q3[:3] / np.linalg.norm(lever_arms_Q3[:3])).round(4).tolist())\n",
    "print((lever_arms_Q3_random[:3] / np.linalg.norm(lever_arms_Q3_random[:3])).round(4).tolist())\n",
    "\n",
    "print((lever_arms_Q4[:3] / np.linalg.norm(lever_arms_Q4[:3])).round(4).tolist())\n",
    "print((lever_arms_Q4_random[:3] / np.linalg.norm(lever_arms_Q4_random[:3])).round(4).tolist())\n",
    "\n",
    "print((lever_arms_Q5[:3] / np.linalg.norm(lever_arms_Q5[:3])).round(4).tolist())\n",
    "print((lever_arms_Q5_random[:3] / np.linalg.norm(lever_arms_Q5_random[:3])).round(4).tolist())\n",
    "\n",
    "print((lever_arms_Q6[:3] / np.linalg.norm(lever_arms_Q6[:3])).round(4).tolist())\n",
    "print((lever_arms_Q6_random[:3] / np.linalg.norm(lever_arms_Q6_random[:3])).round(4).tolist())"
   ]
  },
  {
   "cell_type": "code",
   "execution_count": 58,
   "metadata": {},
   "outputs": [
    {
     "data": {
      "text/plain": [
       "-(1.0^e45)"
      ]
     },
     "execution_count": 58,
     "metadata": {},
     "output_type": "execute_result"
    }
   ],
   "source": [
    "I_random^down(I_random2)^ni\n",
    "# I_random2"
   ]
  },
  {
   "cell_type": "code",
   "execution_count": 57,
   "metadata": {},
   "outputs": [
    {
     "data": {
      "text/plain": [
       "-(0.56824^e145) + (3.31411^e245) + (17.6572^e345)"
      ]
     },
     "execution_count": 57,
     "metadata": {},
     "output_type": "execute_result"
    }
   ],
   "source": [
    "no^down(I_random2)^ni"
   ]
  },
  {
   "cell_type": "code",
   "execution_count": 274,
   "metadata": {},
   "outputs": [
    {
     "name": "stdout",
     "output_type": "stream",
     "text": [
      "-(0.7911^e14) - (0.7911^e15) - (0.47482^e24) - (0.47482^e25) - (0.7111^e34) - (0.7111^e35) + (1.0^e45)\n",
      "-(0.7911^e1) - (0.47482^e2) - (0.7111^e3) + (0.5^e4) - (0.5^e5)\n"
     ]
    }
   ],
   "source": [
    "print(PI.normal())\n",
    "print(((PI.normal()|(no))^ni)|no)"
   ]
  },
  {
   "cell_type": "code",
   "execution_count": 275,
   "metadata": {},
   "outputs": [
    {
     "name": "stdout",
     "output_type": "stream",
     "text": [
      "[0.7256, -0.7664, 0.9272, 1.1941, 1.1508, 0.2053, -0.675, -0.5937, -0.2545, -0.0895, -0.3261, 0.3516]\n",
      "[0.6668, -0.5551, 0.3662, 0.252, -1.1602, -0.2614, 0.6664, 0.6613, 0.8102, -0.1866, -0.2008, 0.6752]\n"
     ]
    },
    {
     "ename": "TypeError",
     "evalue": "in method 'Frame_findStationLocationInAnotherFrame', argument 3 of type 'SimTK::Vec3 const &'",
     "output_type": "error",
     "traceback": [
      "\u001b[1;31m---------------------------------------------------------------------------\u001b[0m",
      "\u001b[1;31mTypeError\u001b[0m                                 Traceback (most recent call last)",
      "\u001b[1;32m~\\AppData\\Local\\Temp\\ipykernel_11380\\4254838251.py\u001b[0m in \u001b[0;36m?\u001b[1;34m()\u001b[0m\n\u001b[0;32m      4\u001b[0m \u001b[0mlever_arms_Q2\u001b[0m \u001b[1;33m=\u001b[0m \u001b[1;33m[\u001b[0m\u001b[1;33m]\u001b[0m\u001b[1;33m\u001b[0m\u001b[1;33m\u001b[0m\u001b[0m\n\u001b[0;32m      5\u001b[0m \u001b[1;32mfor\u001b[0m \u001b[0mi\u001b[0m\u001b[1;33m,\u001b[0m \u001b[0mc\u001b[0m \u001b[1;32min\u001b[0m \u001b[0menumerate\u001b[0m\u001b[1;33m(\u001b[0m\u001b[0mmodel\u001b[0m\u001b[1;33m.\u001b[0m\u001b[0mgetCoordinateSet\u001b[0m\u001b[1;33m(\u001b[0m\u001b[1;33m)\u001b[0m\u001b[1;33m)\u001b[0m\u001b[1;33m:\u001b[0m\u001b[1;33m\u001b[0m\u001b[1;33m\u001b[0m\u001b[0m\n\u001b[0;32m      6\u001b[0m     \u001b[1;31m# c: osim.Coordinate = c\u001b[0m\u001b[1;33m\u001b[0m\u001b[1;33m\u001b[0m\u001b[0m\n\u001b[0;32m      7\u001b[0m     \u001b[0mFJ\u001b[0m\u001b[1;33m:\u001b[0m \u001b[0mosim\u001b[0m\u001b[1;33m.\u001b[0m\u001b[0mJoint\u001b[0m \u001b[1;33m=\u001b[0m \u001b[0mc\u001b[0m\u001b[1;33m.\u001b[0m\u001b[0mgetJoint\u001b[0m\u001b[1;33m(\u001b[0m\u001b[1;33m)\u001b[0m\u001b[1;33m.\u001b[0m\u001b[0mgetParentFrame\u001b[0m\u001b[1;33m(\u001b[0m\u001b[1;33m)\u001b[0m\u001b[1;33m\u001b[0m\u001b[1;33m\u001b[0m\u001b[0m\n\u001b[1;32m----> 8\u001b[1;33m     \u001b[0morigin_in_J_Q1\u001b[0m \u001b[1;33m=\u001b[0m \u001b[0mB_origin\u001b[0m\u001b[1;33m.\u001b[0m\u001b[0mfindStationLocationInAnotherFrame\u001b[0m\u001b[1;33m(\u001b[0m\u001b[0mQ1\u001b[0m\u001b[1;33m,\u001b[0m \u001b[0mO_random\u001b[0m\u001b[1;33m,\u001b[0m \u001b[0mFJ\u001b[0m\u001b[1;33m)\u001b[0m\u001b[1;33m.\u001b[0m\u001b[0mto_numpy\u001b[0m\u001b[1;33m(\u001b[0m\u001b[1;33m)\u001b[0m\u001b[1;33m\u001b[0m\u001b[1;33m\u001b[0m\u001b[0m\n\u001b[0m\u001b[0;32m      9\u001b[0m     \u001b[0minsertion_in_J_Q1\u001b[0m \u001b[1;33m=\u001b[0m \u001b[0mB_insertion\u001b[0m\u001b[1;33m.\u001b[0m\u001b[0mfindStationLocationInAnotherFrame\u001b[0m\u001b[1;33m(\u001b[0m\u001b[0mQ1\u001b[0m\u001b[1;33m,\u001b[0m \u001b[0mI_random\u001b[0m\u001b[1;33m,\u001b[0m \u001b[0mFJ\u001b[0m\u001b[1;33m)\u001b[0m\u001b[1;33m.\u001b[0m\u001b[0mto_numpy\u001b[0m\u001b[1;33m(\u001b[0m\u001b[1;33m)\u001b[0m\u001b[1;33m\u001b[0m\u001b[1;33m\u001b[0m\u001b[0m\n\u001b[0;32m     10\u001b[0m     \u001b[0mla\u001b[0m \u001b[1;33m=\u001b[0m \u001b[0mnp\u001b[0m\u001b[1;33m.\u001b[0m\u001b[0mcross\u001b[0m\u001b[1;33m(\u001b[0m\u001b[0minsertion_in_J_Q1\u001b[0m\u001b[1;33m,\u001b[0m \u001b[0morigin_in_J_Q1\u001b[0m\u001b[1;33m)\u001b[0m \u001b[1;33m/\u001b[0m \u001b[0mnp\u001b[0m\u001b[1;33m.\u001b[0m\u001b[0mlinalg\u001b[0m\u001b[1;33m.\u001b[0m\u001b[0mnorm\u001b[0m\u001b[1;33m(\u001b[0m\u001b[0minsertion_in_J_Q1\u001b[0m \u001b[1;33m-\u001b[0m \u001b[0morigin_in_J_Q1\u001b[0m\u001b[1;33m)\u001b[0m\u001b[1;33m\u001b[0m\u001b[1;33m\u001b[0m\u001b[0m\n\u001b[0;32m     11\u001b[0m     \u001b[0mw_Q1\u001b[0m \u001b[1;33m=\u001b[0m \u001b[0momegas_in_joints_Q1\u001b[0m\u001b[1;33m[\u001b[0m\u001b[1;33m:\u001b[0m\u001b[1;33m,\u001b[0m \u001b[0mi\u001b[0m\u001b[1;33m]\u001b[0m\u001b[1;33m\u001b[0m\u001b[1;33m\u001b[0m\u001b[0m\n",
      "\u001b[1;32mc:\\Users\\glaisne\\mambaforge\\envs\\workspace\\Lib\\opensim\\simulation.py\u001b[0m in \u001b[0;36m?\u001b[1;34m(self, state, station_F, otherFrame)\u001b[0m\n\u001b[0;32m   2983\u001b[0m                                \u001b[0mwill\u001b[0m \u001b[0mbe\u001b[0m \u001b[0mrelative\u001b[0m \u001b[0mto\u001b[0m \u001b[1;32mand\u001b[0m \u001b[0mexpressed\u001b[0m\u001b[1;33m.\u001b[0m\u001b[1;33m\u001b[0m\u001b[1;33m\u001b[0m\u001b[0m\n\u001b[0;32m   2984\u001b[0m         \u001b[1;33m:\u001b[0m\u001b[0mrtype\u001b[0m\u001b[1;33m:\u001b[0m \u001b[1;33m:\u001b[0m\u001b[0mpy\u001b[0m\u001b[1;33m:\u001b[0m\u001b[1;32mclass\u001b[0m\u001b[1;33m:\u001b[0m\u001b[0;31m`\u001b[0m\u001b[0mVec3\u001b[0m\u001b[0;31m`\u001b[0m\u001b[1;33m\u001b[0m\u001b[1;33m\u001b[0m\u001b[0m\n\u001b[0;32m   2985\u001b[0m         \u001b[1;33m:\u001b[0m\u001b[1;32mreturn\u001b[0m\u001b[1;33m:\u001b[0m \u001b[0mloc_A\u001b[0m      \u001b[0mThe\u001b[0m \u001b[0mlocation\u001b[0m \u001b[0mof\u001b[0m \u001b[0mthe\u001b[0m \u001b[0mstation\u001b[0m \u001b[1;32min\u001b[0m \u001b[0manother\u001b[0m \u001b[0mframe\u001b[0m \u001b[1;33m(\u001b[0m\u001b[0mA\u001b[0m\u001b[1;33m)\u001b[0m\u001b[1;33m.\u001b[0m\u001b[1;33m\u001b[0m\u001b[1;33m\u001b[0m\u001b[0m\n\u001b[0;32m   2986\u001b[0m         \"\"\"\n\u001b[1;32m-> 2987\u001b[1;33m         \u001b[1;32mreturn\u001b[0m \u001b[0m_simulation\u001b[0m\u001b[1;33m.\u001b[0m\u001b[0mFrame_findStationLocationInAnotherFrame\u001b[0m\u001b[1;33m(\u001b[0m\u001b[0mself\u001b[0m\u001b[1;33m,\u001b[0m \u001b[0mstate\u001b[0m\u001b[1;33m,\u001b[0m \u001b[0mstation_F\u001b[0m\u001b[1;33m,\u001b[0m \u001b[0motherFrame\u001b[0m\u001b[1;33m)\u001b[0m\u001b[1;33m\u001b[0m\u001b[1;33m\u001b[0m\u001b[0m\n\u001b[0m",
      "\u001b[1;31mTypeError\u001b[0m: in method 'Frame_findStationLocationInAnotherFrame', argument 3 of type 'SimTK::Vec3 const &'"
     ]
    }
   ],
   "source": [
    "\n",
    "print(lever_arms_by_derivatives_Q1.ravel().round(4).tolist())\n",
    "print(lever_arms_by_derivatives_Q2.ravel().round(4).tolist())\n",
    "lever_arms_Q1 = []\n",
    "lever_arms_Q2 = []\n",
    "for i, c in enumerate(model.getCoordinateSet()):\n",
    "    # c: osim.Coordinate = c\n",
    "    FJ: osim.Joint = c.getJoint().getParentFrame()\n",
    "    origin_in_J_Q1 = B_origin.findStationLocationInAnotherFrame(Q1, O_random, FJ).to_numpy()\n",
    "    insertion_in_J_Q1 = B_insertion.findStationLocationInAnotherFrame(Q1, I_random, FJ).to_numpy()\n",
    "    la = np.cross(insertion_in_J_Q1, origin_in_J_Q1) / np.linalg.norm(insertion_in_J_Q1 - origin_in_J_Q1)\n",
    "    w_Q1 = omegas_in_joints_Q1[:, i]\n",
    "    la = w_Q1 @ la\n",
    "    lever_arms_Q1.append(la)\n",
    "\n",
    "    origin_in_J_Q2 = B_origin.findStationLocationInAnotherFrame(Q2, O_random, FJ).to_numpy()\n",
    "    insertion_in_J_Q2 = B_insertion.findStationLocationInAnotherFrame(Q2, I_random, FJ).to_numpy()\n",
    "\n",
    "    la = np.cross(insertion_in_J_Q2, origin_in_J_Q2) / np.linalg.norm(insertion_in_J_Q2 - origin_in_J_Q2)\n",
    "    w_Q2 = omegas_in_joints_Q2[:, i]\n",
    "    la = w_Q2 @ la\n",
    "    lever_arms_Q2.append(la)\n",
    "\n",
    "lever_arms_Q1 = np.array(lever_arms_Q1)\n",
    "lever_arms_Q2 = np.array(lever_arms_Q2)\n",
    "\n",
    "# print(lever_arms_Q1.round(4).tolist())\n",
    "print(lever_arms_Q1[:3].round(4).tolist() / np.linalg.norm(lever_arms_Q1[:3].round(4).tolist()))\n",
    "print(lever_arms_by_derivatives_Q1.ravel()[:3].round(4).tolist() / np.linalg.norm(lever_arms_by_derivatives_Q1.ravel()[:3]))\n",
    "\n",
    "# print(lever_arms_Q2.round(4).tolist())\n",
    "# print(lever_arms_by_derivatives_Q2.ravel().round(4).tolist())\n",
    "print(lever_arms_Q2[:3].round(4).tolist() / np.linalg.norm(lever_arms_Q2[:3].round(4).tolist()))\n",
    "print(lever_arms_by_derivatives_Q2.ravel()[:3].round(4).tolist() / np.linalg.norm(lever_arms_by_derivatives_Q2.ravel()[:3]))"
   ]
  },
  {
   "cell_type": "code",
   "execution_count": null,
   "metadata": {},
   "outputs": [],
   "source": []
  },
  {
   "cell_type": "code",
   "execution_count": 12,
   "metadata": {},
   "outputs": [
    {
     "name": "stdout",
     "output_type": "stream",
     "text": [
      "0\n",
      "0\n",
      "0\n",
      "-(1.35764^e1) + (7.06332^e2) + (4.74274^e3) + (58.29926^e4) + (59.29926^e5)\n",
      "0\n",
      "0\n",
      "[1.0354, -0.8731, -3.0674, -2.5531, 1.3454, -0.7172, -1.0005, 3.1802, -1.954, 3.6992, -1.145, -1.3789]\n",
      "[0.0706, -0.0596, -0.2092, -0.0854, 0.3853, 1.3011, -0.2036, -0.0042, -0.7931, 0.68, -0.3989, -0.1945]\n",
      "[0.3088, -0.2604, -0.9148]\n",
      "[0.3088, -0.2604, -0.9148]\n",
      "OK\n",
      "[-0.5595, -0.0589, 1.2261, -0.6369, -0.0773, 0.5306, -0.0176, 0.8053, -0.9171, 1.2382, -1.8551, 0.4389]\n",
      "[-0.1876, -0.0005, -0.1596, 0.0515, -0.6161, -0.7833, 0.1244, 0.4488, 1.3303, -0.6104, 0.6434, 1.0534]\n",
      "[-0.4147, -0.0437, 0.9089]\n",
      "[-0.7617, -0.0022, -0.648]\n"
     ]
    }
   ],
   "source": [
    "\n",
    "# n_I_q1 = J[0].getParentFrame().expressVectorInAnotherFrame(Q1, Vec3(*n1), B_origin).to_numpy()\n",
    "# Otest = J[0].getParentFrame().findStationLocationInAnotherFrame(Q1, Vec3(0), B_origin).to_numpy()\n",
    "\n",
    "print(S ^ up(to_multivec(O_in_ground + 0.1*L1_dir_in_ground)))\n",
    "print(S ^ up(to_multivec(I_in_ground + 0.1*L2_dir_in_ground)))\n",
    "print(S ^ up(to_multivec(I_in_ground - 50*L2_dir_in_ground)))\n",
    "\n",
    "k1 = (g3c_tools.random_conformal_point() | S) / S\n",
    "k2 = (g3c_tools.random_conformal_point() | S) / S\n",
    "print(k1)\n",
    "print(S ^ k1)\n",
    "print(S ^ k2)\n",
    "kO = point_to_np(k1)\n",
    "kI = point_to_np(k2)\n",
    "kO_in = Vec3(*ground.findStationLocationInAnotherFrame(Q1, Vec3(*kO), B_origin).to_numpy())\n",
    "kI_in = Vec3(*ground.findStationLocationInAnotherFrame(Q1, Vec3(*kI), B_insertion).to_numpy())\n",
    "\n",
    "kO2_in = Vec3(*ground.findStationLocationInAnotherFrame(Q2, Vec3(*kO), B_origin).to_numpy())\n",
    "kI2_in = Vec3(*ground.findStationLocationInAnotherFrame(Q2, Vec3(*kI), B_insertion).to_numpy())\n",
    "\n",
    "lever_arms_Q1 = []\n",
    "lever_arms_Q2 = []\n",
    "for i, c in enumerate(model.getCoordinateSet()):\n",
    "    # c: osim.Coordinate = c\n",
    "    FJ: osim.Joint = c.getJoint().getParentFrame()\n",
    "    origin_in_J_Q1 = B_origin.findStationLocationInAnotherFrame(Q1, kO_in, FJ).to_numpy()\n",
    "    insertion_in_J_Q1 = B_insertion.findStationLocationInAnotherFrame(Q1, kI_in, FJ).to_numpy()\n",
    "    la = np.cross(insertion_in_J_Q1, origin_in_J_Q1) / np.linalg.norm(insertion_in_J_Q1 - origin_in_J_Q1)\n",
    "    w_Q1 = omegas_in_joints_Q1[:, i]\n",
    "    la = w_Q1 @ la\n",
    "    lever_arms_Q1.append(la)\n",
    "\n",
    "    origin_in_J_Q2 = B_origin.findStationLocationInAnotherFrame(Q2, Vec3(*kO), FJ).to_numpy()\n",
    "    insertion_in_J_Q2 = B_insertion.findStationLocationInAnotherFrame(Q2, Vec3(*kI), FJ).to_numpy()\n",
    "    la = np.cross(insertion_in_J_Q2, origin_in_J_Q2) / np.linalg.norm(insertion_in_J_Q2 - origin_in_J_Q2)\n",
    "    w_Q2 = omegas_in_joints_Q2[:, i]\n",
    "    la = w_Q2 @ la\n",
    "    lever_arms_Q2.append(la)\n",
    "\n",
    "lever_arms_Q1 = np.array(lever_arms_Q1)\n",
    "lever_arms_Q2 = np.array(lever_arms_Q2)\n",
    "\n",
    "\n",
    "la_by_derivatives_Q1 = common.lever_arm_matrix(Q1, [muscle], model.getCoordinateSet())\n",
    "la_by_derivatives_Q2 = common.lever_arm_matrix(Q2, [muscle], model.getCoordinateSet())\n",
    "\n",
    "print(lever_arms_Q1.round(4).tolist())\n",
    "print(la_by_derivatives_Q1.ravel().round(4).tolist())\n",
    "\n",
    "print((lever_arms_Q1[:3] / np.linalg.norm(lever_arms_Q1[:3])).round(4).tolist())\n",
    "print((la_by_derivatives_Q1[:3] / np.linalg.norm(la_by_derivatives_Q1[:3])).ravel().round(4).tolist())\n",
    "\n",
    "print(\"OK\")\n",
    "print(lever_arms_Q2.round(4).tolist())\n",
    "print(la_by_derivatives_Q2.ravel().round(4).tolist())\n",
    "print((lever_arms_Q2[:3] / np.linalg.norm(lever_arms_Q2[:3])).round(4).tolist())\n",
    "print((la_by_derivatives_Q2[:3] / np.linalg.norm(la_by_derivatives_Q2[:3])).ravel().round(4).tolist())"
   ]
  },
  {
   "cell_type": "code",
   "execution_count": null,
   "metadata": {},
   "outputs": [],
   "source": []
  },
  {
   "cell_type": "code",
   "execution_count": 154,
   "metadata": {},
   "outputs": [
    {
     "data": {
      "text/plain": [
       "(-2.0, 2.0)"
      ]
     },
     "execution_count": 154,
     "metadata": {},
     "output_type": "execute_result"
    }
   ],
   "source": [
    "%matplotlib qt5\n",
    "\n",
    "import matplotlib.pyplot as plt\n",
    "import itertools\n",
    "\n",
    "fig = plt.figure()\n",
    "ax = fig.add_subplot(1, 1, 1, projection=\"3d\")\n",
    "\n",
    "all_O_test = []\n",
    "all_I_test = []\n",
    "alphas = np.linspace(-0.1,0.1,20)\n",
    "for a in alphas:\n",
    "    O_test = (origin.to_numpy() + a*direction_vec)\n",
    "    O_test = B_origin.expressVectorInGround(Q1, Vec3(*O_test)).to_numpy()\n",
    "    all_O_test.append(O_test)\n",
    "\n",
    "    I_test = (insertion.to_numpy() + a*direction_vec2)\n",
    "    I_test = B_insertion.expressVectorInGround(Q1, Vec3(*I_test)).to_numpy()\n",
    "    all_I_test.append(I_test)\n",
    "    \n",
    "permut = itertools.permutations(list(range(len(alphas))), 2)\n",
    "for permu in permut:\n",
    "    i1, i2 = permu\n",
    "    ax.plot([all_O_test[i1][0], all_I_test[i2][0]],[all_O_test[i1][1], all_I_test[i2][1]],[all_O_test[i1][2], all_I_test[i2][2]])#, c=\"red\" )\n",
    "\n",
    "# ax.plot([O_in_ground[0], I_in_ground[0]],[O_in_ground[1], I_in_ground[1]],[O_in_ground[2], I_in_ground[2]], c=\"red\" )\n",
    "# ax.plot([O2_in_ground[0], I2_in_ground[0]],[O2_in_ground[1], I2_in_ground[1]],[O2_in_ground[2], I2_in_ground[2]], c=\"blue\" )\n",
    "\n",
    "ax.set_xlim(-2,2)\n",
    "ax.set_ylim(-2,2)\n",
    "ax.set_zlim(-2,2)"
   ]
  },
  {
   "cell_type": "code",
   "execution_count": 9,
   "metadata": {},
   "outputs": [
    {
     "name": "stdout",
     "output_type": "stream",
     "text": [
      "[0.0722, -0.0608, -0.2138, -0.0893, 0.3872, 1.2977, -0.2051, 0.0012, -0.7951, 0.685, -0.4002, -0.1965]\n",
      "[0.0706, -0.0596, -0.2092, -0.0854, 0.3853, 1.3011, -0.2036, -0.0042, -0.7931, 0.68, -0.3989, -0.1945]\n",
      "[0.3088, -0.2604, -0.9148]\n",
      "[0.3088, -0.2604, -0.9148]\n",
      "[-0.1916, -0.0005, -0.163, 0.0535, -0.6136, -0.7816, 0.1209, 0.446, 1.332, -0.6102, 0.6466, 1.0553]\n",
      "[-0.1876, -0.0005, -0.1596, 0.0515, -0.6161, -0.7833, 0.1244, 0.4488, 1.3303, -0.6104, 0.6434, 1.0534]\n",
      "[-0.7617, -0.0022, -0.648]\n",
      "[-0.7617, -0.0022, -0.648]\n"
     ]
    }
   ],
   "source": [
    "lever_arms_Q1 = []\n",
    "lever_arms_Q2 = []\n",
    "new_origin_vec = Vec3(*new_origin_test)\n",
    "new_insertion_vec = Vec3(*new_insertion_test)\n",
    "for i, c in enumerate(model.getCoordinateSet()):\n",
    "    # c: osim.Coordinate = c\n",
    "    FJ: osim.Joint = c.getJoint().getParentFrame()\n",
    "    origin_in_J_Q1 = B_origin.findStationLocationInAnotherFrame(Q1, new_origin_vec, FJ).to_numpy()\n",
    "    insertion_in_J_Q1 = B_insertion.findStationLocationInAnotherFrame(Q1, new_insertion_vec, FJ).to_numpy()\n",
    "    la = np.cross(insertion_in_J_Q1, origin_in_J_Q1) / np.linalg.norm(insertion_in_J_Q1 - origin_in_J_Q1)\n",
    "    w_Q1 = omegas_in_joints_Q1[:, i]\n",
    "    la = w_Q1 @ la\n",
    "    lever_arms_Q1.append(la)\n",
    "\n",
    "    origin_in_J_Q2 = B_origin.findStationLocationInAnotherFrame(Q2, new_origin_vec, FJ).to_numpy()\n",
    "    insertion_in_J_Q2 = B_insertion.findStationLocationInAnotherFrame(Q2, new_insertion_vec, FJ).to_numpy()\n",
    "\n",
    "    la = np.cross(insertion_in_J_Q2, origin_in_J_Q2) / np.linalg.norm(insertion_in_J_Q2 - origin_in_J_Q2)\n",
    "    w_Q2 = omegas_in_joints_Q2[:, i]\n",
    "    la = w_Q2 @ la\n",
    "    lever_arms_Q2.append(la)\n",
    "\n",
    "lever_arms_Q1 = np.array(lever_arms_Q1)\n",
    "lever_arms_Q2 = np.array(lever_arms_Q2)\n",
    "\n",
    "\n",
    "la_by_derivatives_Q1 = common.lever_arm_matrix(Q1, [muscle], model.getCoordinateSet())\n",
    "la_by_derivatives_Q2 = common.lever_arm_matrix(Q2, [muscle], model.getCoordinateSet())\n",
    "\n",
    "print(lever_arms_Q1.round(4).tolist())\n",
    "print(la_by_derivatives_Q1.ravel().round(4).tolist())\n",
    "\n",
    "print((lever_arms_Q1[:3] / np.linalg.norm(lever_arms_Q1[:3])).round(4).tolist())\n",
    "print((la_by_derivatives_Q1[:3] / np.linalg.norm(la_by_derivatives_Q1[:3])).ravel().round(4).tolist())\n",
    "\n",
    "print(lever_arms_Q2.round(4).tolist())\n",
    "print(la_by_derivatives_Q2.ravel().round(4).tolist())\n",
    "\n",
    "print((lever_arms_Q2[:3] / np.linalg.norm(lever_arms_Q2[:3])).round(4).tolist())\n",
    "print((la_by_derivatives_Q2[:3] / np.linalg.norm(la_by_derivatives_Q2[:3])).ravel().round(4).tolist())\n"
   ]
  },
  {
   "cell_type": "code",
   "execution_count": 118,
   "metadata": {},
   "outputs": [
    {
     "data": {
      "text/plain": [
       "-(84.0107^e124) - (84.0107^e125) - (18.00065^e134) - (18.00065^e135) + (7.5526^e145) - (68.79159^e234) - (68.79159^e235) - (27.31799^e245) - (12.03772^e345)"
      ]
     },
     "execution_count": 118,
     "metadata": {},
     "output_type": "execute_result"
    }
   ],
   "source": [
    "# LA = g3c_tools.random_conformal_point()^g3c_tools.random_conformal_point()^ni\n",
    "# LA"
   ]
  },
  {
   "cell_type": "code",
   "execution_count": 555,
   "metadata": {},
   "outputs": [
    {
     "name": "stdout",
     "output_type": "stream",
     "text": [
      "-(3.65384^e1) - (1.47323^e2) - (3.80405^e3)\n",
      "-(3.53275^e1) - (0.62826^e2) + (0.63153^e3)\n"
     ]
    }
   ],
   "source": [
    "def null_rotor():\n",
    "    return (0.0 * Px).exp()\n",
    "\n",
    "def euler_extrinsic(rx, ry, rz):\n",
    "    return (-0.5 * rx * Px).exp() * (-0.5 * ry * Py).exp() * (-0.5 * rz * Pz).exp()\n",
    "\n",
    "def euler_intrinsic(rx, ry, rz):\n",
    "    return  (-0.5 * rz * Pz).exp() * (-0.5 * ry * Py).exp() * (-(rx*Px) / 2).exp()\n",
    "\n",
    "def translator(tx, ty, tz):\n",
    "    return (-(tx*(e1^ni) + ty*(e2^ni) + tz*(e3^ni))/2).exp()\n",
    "\n",
    "X = up(3*e1 + e2 + e3)\n",
    "\n",
    "toG = null_rotor()\n",
    "toB1 = null_rotor()\n",
    "toJ1 = translator(*t1) * euler_extrinsic(*r1)\n",
    "toJ1_child = euler_extrinsic(*q1)\n",
    "toB2 = (translator(*t2) * euler_extrinsic(*r2)).inv()\n",
    "toJ2 = translator(*t3) * euler_extrinsic(*r3)\n",
    "toJ2_child = euler_extrinsic(*q2)\n",
    "toB3 = (translator(*t4) * euler_extrinsic(*r4)).inv()\n",
    "\n",
    "R = toG * toB1 * toJ1 * toJ1_child * toB2 * toJ2 * toJ2_child * toB3\n",
    "print(down(R * X * ~R))\n",
    "\n",
    "R = ~(toJ1_child * toB2)\n",
    "print(down(R * X * ~R))\n",
    "\n"
   ]
  },
  {
   "cell_type": "code",
   "execution_count": 556,
   "metadata": {},
   "outputs": [
    {
     "name": "stdout",
     "output_type": "stream",
     "text": [
      "[[ 4.81445088  0.38097219 -5.40392184 -3.91008054  0.19380367 -1.61455302]\n",
      " [-2.55270241 -1.60491412  0.52423453  1.72284215  1.14322941 -2.32923028]\n",
      " [ 0.59081906  1.33186891  1.48128821 -0.63139483 -1.23297924  2.86814419]]\n",
      "[[-0.450548   -0.11785585 -0.09717794  0.34988903  0.56250767 -0.75490528]\n",
      " [-0.73119138  0.61744313  0.7722644   0.50490582  0.56033015  0.64796912]\n",
      " [ 0.51221642  0.77773645 -0.62782493 -0.78908034  0.60795991  0.10126223]]\n"
     ]
    }
   ],
   "source": [
    "X = [1,2,3]\n",
    "J_osim_dir = common.station_jacobian(model, state, X, B3)\n",
    "print(J_osim_dir)\n",
    "J_osim_moment = common.frame_jacobian(model, state, B3)\n",
    "print(J_osim_moment)"
   ]
  },
  {
   "cell_type": "code",
   "execution_count": 572,
   "metadata": {},
   "outputs": [
    {
     "name": "stdout",
     "output_type": "stream",
     "text": [
      "[0.8617347  0.0625609  0.17393678]\n",
      "[0.8617347  0.0625609  0.17393678]\n",
      "\n",
      "(1.28791^e1) + (2.7502^e2) - (4.74138^e3)\n",
      "[ 1.28790986  2.75020029 -4.74138085]\n",
      "\n",
      "PLA -(2.81276^e124) - (2.81276^e125) + (4.56744^e134) + (4.56744^e135) + (1.0^e145)\n",
      "PLA in G -(0.51222^e12) - (0.73119^e13) + (4.81445^e14) + (4.81445^e15) + (0.45055^e23) - (2.5527^e24) - (2.5527^e25) + (0.59082^e34) + (0.59082^e35)\n",
      "PLA in G -(0.59082^e124) - (0.59082^e125) - (2.5527^e134) - (2.5527^e135) - (0.45055^e145) - (4.81445^e234) - (4.81445^e235) - (0.73119^e245) + (0.51222^e345)\n",
      "PLA in G -(0.59082^e124) - (0.59082^e125) - (2.5527^e134) - (2.5527^e135) - (0.45055^e145) - (4.81445^e234) - (4.81445^e235) - (0.73119^e245) + (0.51222^e345)\n"
     ]
    }
   ],
   "source": [
    "EE = up(e1 + 2*e2 + 3*e3)\n",
    "o = no # center of J1\n",
    "\n",
    "Base = np.array([e1, e2, e3])\n",
    "\n",
    "# Describing the origin in J1\n",
    "R = ~(toG * toB1 * toJ1)\n",
    "o_in_J1 = R * no * ~R\n",
    "# o_in_J1 = no\n",
    "# o_in_J1 = up(e1)\n",
    "print(point_to_np(o_in_J1))\n",
    "print(ground.findStationLocationInAnotherFrame(state, Vec3(0), J1.getParentFrame()).to_numpy())\n",
    "print()\n",
    "EE_in_origin = (B3.findStationLocationInGround(state, Vec3(1,2,3)).to_numpy())\n",
    "\n",
    "\n",
    "R =  toJ1_child * toB2 * toJ2 * toJ2_child * toB3\n",
    "EE_in_J1 = R * EE * ~R\n",
    "print(down(EE_in_J1))\n",
    "print(B3.findStationLocationInAnotherFrame(state, Vec3(1,2,3), J1.getParentFrame()).to_numpy())\n",
    "\n",
    "# PLA = EE_in_J1^(e1 - down(EE_in_J1))^ni\n",
    "PLA = (no^down(EE_in_J1)^(e1)^ni) # Plane centered at no works ?\n",
    "PLA = (down(EE_in_J1)^(e1)^ni) # Direction works\n",
    "PLA = (o_in_J1^down(EE_in_J1)^(e1)^ni) # Plane centered at joint works\n",
    "# PLA = o_in_J1 ^ EE_in_J1 ^ up(e1)\n",
    "PLA = (o_in_J1^e1^ni) + (down(EE_in_J1) ^ e1 ^ ni)\n",
    "PLA = (o_in_J1 + down(EE_in_J1)) ^ e1 ^ ni # Line = sphere^dir^ni\n",
    "PLA = up(down(o_in_J1) + down(EE_in_J1)) ^ e1 ^ ni # Line = sphere^dir^ni\n",
    "# PLA = (EE_in_J1 ^ o_in_J1 ^ e1) ^ ni\n",
    "R = toG * toB1 * toJ1\n",
    "print()\n",
    "print(\"PLA\", PLA)\n",
    "PLA_in_ground = R * PLA * ~R\n",
    "print(\"PLA in G\", PLA_in_ground.dual())\n",
    "print(\"PLA in G\", PLA_in_ground)\n",
    "print(\"PLA in G\", PLA_in_ground.normal())\n"
   ]
  },
  {
   "cell_type": "code",
   "execution_count": 541,
   "metadata": {},
   "outputs": [
    {
     "name": "stdout",
     "output_type": "stream",
     "text": [
      "(2.14078^e12) - (0.70375^e13) + (0.46193^e14) + (0.30135^e15) - (4.07145^e23) - (1.58795^e24) - (2.57479^e25) + (1.40053^e34) + (1.41954^e35) - (0.33205^e45)\n"
     ]
    }
   ],
   "source": [
    "OK = (o_in_J1 + down(EE_in_J1)) ^ e1\n",
    "K = R * OK * ~R\n",
    "print(K)\n",
    "print((K^ni)^(R*e1*~R))"
   ]
  },
  {
   "cell_type": "code",
   "execution_count": 530,
   "metadata": {},
   "outputs": [
    {
     "data": {
      "text/plain": [
       "(0.01505^e1) - (4.1251^e2) + (1.57185^e3) + (0.49072^e4) + (1.49072^e5)"
      ]
     },
     "execution_count": 530,
     "metadata": {},
     "output_type": "execute_result"
    }
   ],
   "source": [
    "o_in_J1 + down(EE_in_J1)"
   ]
  },
  {
   "cell_type": "code",
   "execution_count": 536,
   "metadata": {},
   "outputs": [
    {
     "name": "stdout",
     "output_type": "stream",
     "text": [
      "(0.3471^e1) - (3.66956^e2) + (2.86169^e3)\n",
      "-(0.33205^e1) - (0.45553^e2) - (1.28984^e3)\n"
     ]
    },
    {
     "data": {
      "text/plain": [
       "(0.01505^e1) - (4.1251^e2) + (1.57185^e3)"
      ]
     },
     "execution_count": 536,
     "metadata": {},
     "output_type": "execute_result"
    }
   ],
   "source": [
    "print(down(EE_in_J1))\n",
    "print(down(o_in_J1))\n",
    "down(o_in_J1) + down(EE_in_J1)"
   ]
  },
  {
   "cell_type": "code",
   "execution_count": 413,
   "metadata": {},
   "outputs": [
    {
     "name": "stdout",
     "output_type": "stream",
     "text": [
      "-(5.9099^e124) - (5.9099^e125) + (2.96217^e134) + (2.96217^e135) + (2.9805^e145) + (2.04595^e234) + (2.04595^e235) - (3.01239^e245) + (2.5417^e345)\n",
      "[ 2.0459544  -2.96216906 -5.90990259]\n"
     ]
    }
   ],
   "source": [
    "o_in_J1 = ground.findStationLocationInAnotherFrame(state, Vec3(0), J1.getParentFrame()).to_numpy()\n",
    "EE_in_J1 = B3.findStationLocationInAnotherFrame(state, Vec3(1,2,3), J1.getParentFrame()).to_numpy()\n",
    "\n",
    "Base = np.array([e1, e2, e3])\n",
    "L = up(o_in_J1@Base) ^ up(EE_in_J1@Base) ^ ni\n",
    "print(L)\n",
    "\n",
    "omega = np.cross(o_in_J1, EE_in_J1)\n",
    "print(omega)"
   ]
  },
  {
   "cell_type": "code",
   "execution_count": null,
   "metadata": {},
   "outputs": [],
   "source": []
  }
 ],
 "metadata": {
  "kernelspec": {
   "display_name": "workspace",
   "language": "python",
   "name": "python3"
  },
  "language_info": {
   "codemirror_mode": {
    "name": "ipython",
    "version": 3
   },
   "file_extension": ".py",
   "mimetype": "text/x-python",
   "name": "python",
   "nbconvert_exporter": "python",
   "pygments_lexer": "ipython3",
   "version": "undefined.undefined.undefined"
  }
 },
 "nbformat": 4,
 "nbformat_minor": 2
}
