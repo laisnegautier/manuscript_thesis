{
 "cells": [
  {
   "cell_type": "code",
   "execution_count": 5,
   "metadata": {},
   "outputs": [],
   "source": [
    "import numpy as np\n",
    "import scipy\n",
    "from functools import cached_property, cache\n",
    "import pycapacity.human\n",
    "import pycapacity.algorithms\n",
    "import pycapacity.visual\n",
    "from pycapacity.objects import Polytope as SkuricPolytope\n",
    "\n",
    "ZERO_TOLERANCE = 1e-12\n",
    "def gamma(n):\n",
    "    return scipy.special.gamma(n)\n",
    "\n",
    "def radius_grunbaum(n):\n",
    "    \"\"\"Radius of sphere An such that An = Proj(hypercube)\"\"\"\n",
    "    if n > 300:\n",
    "        ratio_gamma = (n/2)**(0-0.5)\n",
    "    else:\n",
    "        ratio_gamma = scipy.special.gamma(n/2)/scipy.special.gamma((n+1)/2)\n",
    "    r_n = (n/np.sqrt(np.pi)) * ratio_gamma\n",
    "    return r_n\n"
   ]
  },
  {
   "cell_type": "code",
   "execution_count": 6,
   "metadata": {},
   "outputs": [
    {
     "data": {
      "text/plain": [
       "4.406757377093391"
      ]
     },
     "execution_count": 6,
     "metadata": {},
     "output_type": "execute_result"
    }
   ],
   "source": [
    "radius_grunbaum(30)"
   ]
  },
  {
   "cell_type": "code",
   "execution_count": 15,
   "metadata": {},
   "outputs": [
    {
     "data": {
      "text/plain": [
       "1.4299089485042535"
      ]
     },
     "execution_count": 15,
     "metadata": {},
     "output_type": "execute_result"
    }
   ],
   "source": [
    "def radius_grunbaum2(n):\n",
    "    return (1/np.sqrt(np.pi)) * (scipy.special.gamma((n+2)/2)**(1/(n)))\n",
    "\n",
    "radius_grunbaum2(30)"
   ]
  },
  {
   "cell_type": "code",
   "execution_count": null,
   "metadata": {},
   "outputs": [],
   "source": []
  }
 ],
 "metadata": {
  "kernelspec": {
   "display_name": "Python 3",
   "language": "python",
   "name": "python3"
  },
  "language_info": {
   "codemirror_mode": {
    "name": "ipython",
    "version": 3
   },
   "file_extension": ".py",
   "mimetype": "text/x-python",
   "name": "python",
   "nbconvert_exporter": "python",
   "pygments_lexer": "ipython3",
   "version": "3.1.undefined"
  }
 },
 "nbformat": 4,
 "nbformat_minor": 2
}
