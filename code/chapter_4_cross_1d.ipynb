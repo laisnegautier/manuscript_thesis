{
 "cells": [
  {
   "cell_type": "code",
   "execution_count": 1,
   "metadata": {},
   "outputs": [
    {
     "name": "stderr",
     "output_type": "stream",
     "text": [
      "c:\\Users\\glaisne\\mambaforge\\envs\\workspace\\Lib\\site-packages\\numba\\core\\decorators.py:262: NumbaDeprecationWarning: \u001b[1mnumba.generated_jit is deprecated. Please see the documentation at: https://numba.readthedocs.io/en/stable/reference/deprecation.html#deprecation-of-generated-jit for more information and advice on a suitable replacement.\u001b[0m\n",
      "  warnings.warn(msg, NumbaDeprecationWarning)\n",
      "c:\\Users\\glaisne\\mambaforge\\envs\\workspace\\Lib\\site-packages\\numba\\core\\decorators.py:262: NumbaDeprecationWarning: \u001b[1mnumba.generated_jit is deprecated. Please see the documentation at: https://numba.readthedocs.io/en/stable/reference/deprecation.html#deprecation-of-generated-jit for more information and advice on a suitable replacement.\u001b[0m\n",
      "  warnings.warn(msg, NumbaDeprecationWarning)\n",
      "c:\\Users\\glaisne\\mambaforge\\envs\\workspace\\Lib\\site-packages\\numba\\core\\decorators.py:262: NumbaDeprecationWarning: \u001b[1mnumba.generated_jit is deprecated. Please see the documentation at: https://numba.readthedocs.io/en/stable/reference/deprecation.html#deprecation-of-generated-jit for more information and advice on a suitable replacement.\u001b[0m\n",
      "  warnings.warn(msg, NumbaDeprecationWarning)\n",
      "c:\\Users\\glaisne\\mambaforge\\envs\\workspace\\Lib\\site-packages\\clifford\\tools\\g3c\\__init__.py:1034: NumbaDeprecationWarning: \u001b[1mThe 'nopython' keyword argument was not supplied to the 'numba.jit' decorator. The implicit default value for this argument is currently False, but it will be changed to True in Numba 0.59.0. See https://numba.readthedocs.io/en/stable/reference/deprecation.html#deprecation-of-object-mode-fall-back-behaviour-when-using-jit for details.\u001b[0m\n",
      "  @numba.jit\n",
      "c:\\Users\\glaisne\\mambaforge\\envs\\workspace\\Lib\\site-packages\\clifford\\tools\\g3c\\__init__.py:1040: NumbaDeprecationWarning: \u001b[1mThe 'nopython' keyword argument was not supplied to the 'numba.jit' decorator. The implicit default value for this argument is currently False, but it will be changed to True in Numba 0.59.0. See https://numba.readthedocs.io/en/stable/reference/deprecation.html#deprecation-of-object-mode-fall-back-behaviour-when-using-jit for details.\u001b[0m\n",
      "  @numba.jit\n",
      "c:\\Users\\glaisne\\mambaforge\\envs\\workspace\\Lib\\site-packages\\numba\\core\\decorators.py:262: NumbaDeprecationWarning: \u001b[1mnumba.generated_jit is deprecated. Please see the documentation at: https://numba.readthedocs.io/en/stable/reference/deprecation.html#deprecation-of-generated-jit for more information and advice on a suitable replacement.\u001b[0m\n",
      "  warnings.warn(msg, NumbaDeprecationWarning)\n",
      "c:\\Users\\glaisne\\mambaforge\\envs\\workspace\\Lib\\site-packages\\numba\\core\\decorators.py:262: NumbaDeprecationWarning: \u001b[1mnumba.generated_jit is deprecated. Please see the documentation at: https://numba.readthedocs.io/en/stable/reference/deprecation.html#deprecation-of-generated-jit for more information and advice on a suitable replacement.\u001b[0m\n",
      "  warnings.warn(msg, NumbaDeprecationWarning)\n"
     ]
    }
   ],
   "source": [
    "import opensim as osim\n",
    "import numpy as np\n",
    "import clifford as cf\n",
    "import clifford.tools.g3c as g3c_tools\n",
    "import common\n",
    "\n",
    "G3, blades_g3 = cf.Cl(3) # instantiate a 3D- GA\n",
    "G3c, blades_g3c, stuff = cf.conformalize(G3)\n",
    "\n",
    "e1, e2, e3 = blades_g3c[\"e1\"], blades_g3c[\"e2\"], blades_g3c[\"e3\"]\n",
    "up, down = stuff[\"up\"], stuff[\"down\"]\n",
    "no, ni = stuff[\"eo\"], stuff[\"einf\"]"
   ]
  },
  {
   "cell_type": "code",
   "execution_count": 2,
   "metadata": {},
   "outputs": [],
   "source": [
    "model = osim.Model()\n",
    "\n",
    "ground = model.getGround()\n",
    "bodyA = osim.Body(\"bodyA\", 1.0, osim.Vec3(0), osim.Inertia(0))\n",
    "bodyB = osim.Body(\"bodyB\", 2.0, osim.Vec3(0), osim.Inertia(0))\n",
    "bodyC = osim.Body(\"bodyC\", 2.0, osim.Vec3(0), osim.Inertia(0))\n",
    "\n",
    "joint0 = osim.GimbalJoint(\"joint0\", ground, osim.Vec3(-1,1,0), osim.Vec3(np.pi/5, np.pi / 3, -np.pi/6), bodyA, osim.Vec3(1,0.5,0.3), osim.Vec3(np.pi/3, -np.pi/3, np.pi/7))\n",
    "joint1 = osim.PinJoint(\"joint1\", bodyA, osim.Vec3(-1,1,0), osim.Vec3(np.pi/5, np.pi / 3, -np.pi/6), bodyB, osim.Vec3(1,0.5,0.3), osim.Vec3(np.pi/3, -np.pi/3, np.pi/7))\n",
    "joint2 = osim.GimbalJoint(\"joint2\", bodyB, osim.Vec3(-1,1,0), osim.Vec3(np.pi/5, np.pi / 3, -np.pi/6), bodyC, osim.Vec3(1,0.5,0.3), osim.Vec3(np.pi/3, -np.pi/3, np.pi/7))\n",
    "\n",
    "muscle = osim.Millard2012EquilibriumMuscle(\"muscle\",  # Muscle name\n",
    "                                           200.0,  # Max isometric force\n",
    "                                           0.6,  # Optimal fibre length\n",
    "                                           0.55,  # Tendon slack length\n",
    "                                           0.0)  # Pennation angle\n",
    "origin = osim.Vec3(0.9, 0.8, 0.8)\n",
    "muscle.addNewPathPoint(\"origin\", ground, origin)\n",
    "\n",
    "insertion = osim.Vec3(0.7, 0.8, 0.1)\n",
    "muscle.addNewPathPoint(\"insertion\", bodyC, insertion)\n",
    "\n",
    "model.addBody(bodyA)\n",
    "model.addBody(bodyB)\n",
    "model.addBody(bodyC)\n",
    "model.addJoint(joint0)\n",
    "model.addJoint(joint1)\n",
    "model.addJoint(joint2)\n",
    "model.addForce(muscle)\n",
    "\n",
    "state = model.initSystem()"
   ]
  },
  {
   "cell_type": "code",
   "execution_count": 3,
   "metadata": {},
   "outputs": [
    {
     "name": "stdout",
     "output_type": "stream",
     "text": [
      "[ 0.87729004  0.20544519 -0.795203    1.0184641   0.21064153 -0.02307136\n",
      " -0.27292878]\n",
      "\n",
      "[ 0.87729004  0.20544519 -0.795203    1.0184641   0.21064153 -0.02307136\n",
      " -0.27292878]\n",
      "1.0184640961793183\n",
      "1.0184640961793183\n"
     ]
    }
   ],
   "source": [
    "# POSTURE 1\n",
    "for c in model.getCoordinateSet():\n",
    "    c.setValue(state, np.random.uniform(-np.pi, np.pi))\n",
    "model.equilibrateMuscles(state)\n",
    "\n",
    "lever_arms = np.array([muscle.computeMomentArm(state, c) for c in model.getCoordinateSet()])\n",
    "print(lever_arms)\n",
    "\n",
    "J = common.station_jacobian(model, state, osim.Vec3(4,0,3), bodyC)\n",
    "Jw = common.frame_jacobian(model, state, bodyC)[:3,:]\n",
    "\n",
    "j = joint1.getParentFrame()\n",
    "# j = bodyC\n",
    "O_in_ground = ground.findStationLocationInGround(state, origin).to_numpy()\n",
    "I_in_ground = bodyC.findStationLocationInGround(state, insertion).to_numpy()\n",
    "\n",
    "O_in_j1 = ground.findStationLocationInAnotherFrame(state, origin, joint1.getParentFrame()).to_numpy()\n",
    "I_in_j1 = bodyC.findStationLocationInAnotherFrame(state, insertion, joint1.getParentFrame()).to_numpy()\n",
    "\n",
    "u_in_ground = I_in_ground - O_in_ground\n",
    "u1 = I_in_j1 - O_in_j1\n",
    "\n",
    "print()\n",
    "print(lever_arms)\n",
    "ground: osim.Ground = model.getGround()\n",
    "\n",
    "W1 = ground.expressVectorInAnotherFrame(state, osim.Vec3(*Jw[:, 3]), joint1.getParentFrame()).to_numpy()\n",
    "g1 = W1 @ (np.cross(I_in_j1, O_in_j1) / np.linalg.norm(u1))\n",
    "print(g1)\n",
    "print(ground.expressVectorInAnotherFrame(state, osim.Vec3(*Jw[:, 3]), joint1.getParentFrame()).to_numpy().dot(np.cross(I_in_j1, O_in_j1) / np.linalg.norm(u1)))"
   ]
  },
  {
   "cell_type": "code",
   "execution_count": 4,
   "metadata": {},
   "outputs": [],
   "source": [
    "# POSTURE k\n",
    "k = 6\n",
    "all_states = []\n",
    "all_lever_arms = []\n",
    "for _ in range(k):\n",
    "    state = osim.State(state)\n",
    "    for c in model.getCoordinateSet():\n",
    "        c.setValue(state, np.random.uniform(-np.pi, np.pi))\n",
    "    model.equilibrateMuscles(state)\n",
    "\n",
    "    lever_arms = muscle.computeMomentArm(state, model.getCoordinateSet().get('joint1_coord_0'))\n",
    "    all_lever_arms.append(lever_arms)\n",
    "\n",
    "    J = common.station_jacobian(model, state, osim.Vec3(4,0,3), bodyC)\n",
    "    Jw = common.frame_jacobian(model, state, bodyC)[:3,:]\n",
    "    all_states.append(state)\n",
    "\n",
    "# for s in all_states:\n",
    "#     print([c.getValue(s) for c in model.getCoordinateSet()])"
   ]
  },
  {
   "cell_type": "code",
   "execution_count": 5,
   "metadata": {},
   "outputs": [
    {
     "name": "stdout",
     "output_type": "stream",
     "text": [
      "[0.6200146326784648, 1.2692587827731925, -0.796188753050032, -0.9082241139758042, -0.5321503725730591, 0.41193317725600925]\n",
      "[0.6200146326784648, 1.269258782773193, -0.7961887530500321, -0.9082241139758046, -0.532150372573059, 0.41193317725600914]\n"
     ]
    }
   ],
   "source": [
    "w = [0, 0, 1]\n",
    "all_w_in_j1 = []\n",
    "all_O_in_j1 = []\n",
    "all_I_in_j1 = []\n",
    "for i in range(k):\n",
    "    state = all_states[i]\n",
    "    Jw = common.frame_jacobian(model, state, bodyC)[:3,:]\n",
    "    w_ = ground.expressVectorInAnotherFrame(state, osim.Vec3(*Jw[:,3]), joint1.getParentFrame()).to_numpy()\n",
    "    all_w_in_j1.append(w_)\n",
    "    \n",
    "    O_in_j1 = ground.findStationLocationInAnotherFrame(state, origin, joint1.getParentFrame()).to_numpy()\n",
    "    I_in_j1 = bodyC.findStationLocationInAnotherFrame(state, insertion, joint1.getParentFrame()).to_numpy()\n",
    "    all_O_in_j1.append(O_in_j1)\n",
    "    all_I_in_j1.append(I_in_j1)\n",
    "\n",
    "all_n = []\n",
    "all_normals = []\n",
    "all_normals_normalized = []\n",
    "for i in range(k):\n",
    "    state = all_states[i]\n",
    "    w_ = all_w_in_j1[i]\n",
    "\n",
    "    O_in_j1 = all_O_in_j1[i]\n",
    "    I_in_j1 = all_I_in_j1[i]\n",
    "\n",
    "    n = w_.dot(np.cross(I_in_j1, O_in_j1) / np.linalg.norm(I_in_j1 - O_in_j1))\n",
    "    normals = np.cross(I_in_j1, O_in_j1)\n",
    "    normals_normalized = np.cross(I_in_j1, O_in_j1) / np.linalg.norm(I_in_j1 - O_in_j1)\n",
    "    all_normals.append(normals)\n",
    "    all_normals_normalized.append(normals_normalized)\n",
    "    # print(n)\n",
    "    all_n.append(n)\n",
    "print(all_lever_arms)\n",
    "print(all_n)"
   ]
  },
  {
   "cell_type": "code",
   "execution_count": 6,
   "metadata": {},
   "outputs": [
    {
     "name": "stdout",
     "output_type": "stream",
     "text": [
      "[-7.85129038e-02  9.96913097e-01 -1.84710187e-16]\n",
      "[-4.62984750e-01  8.86366245e-01  9.57801436e-16]\n",
      "[-0.11028599  0.99389989  0.        ]\n",
      "[-4.68822154e-01  8.83292584e-01  1.95434497e-16]\n",
      "[-6.57895680e-01  7.53109072e-01  1.43386699e-16]\n"
     ]
    }
   ],
   "source": [
    "Base = np.array([e1, e2, e3])\n",
    "O = origin.to_numpy() @ Base\n",
    "I = insertion.to_numpy() @ Base\n",
    "w = e3 # in j1!\n",
    "\n",
    "alphas = []\n",
    "n_by_alpha = []\n",
    "for i in range(k):\n",
    "    n = all_normals_normalized[i]\n",
    "    dual_plane = n @ Base\n",
    "    plane = dual_plane.dual()\n",
    "\n",
    "    # print(((w^ni) | dual_plane))\n",
    "    # print(((w^ni) | dual_plane))\n",
    "\n",
    "    n1 = all_normals_normalized[0]\n",
    "    alpha = all_lever_arms[0] / all_lever_arms[i]\n",
    "    alphas.append(alpha)\n",
    "    ni_adapted = alpha * n\n",
    "    n_by_alpha.append(alpha * all_normals[i])\n",
    "    # print(all_lever_arms[0], alpha*all_lever_arms[i])\n",
    "    \n",
    "    comb = n1 - ni_adapted\n",
    "    # print(comb)\n",
    "    if i != 0:\n",
    "        # print((comb / np.linalg.norm(comb)).round(2))\n",
    "        c = comb / np.linalg.norm(comb)\n",
    "        print(c)\n",
    "    #    print(np.cross(comb, [0,0,1]))\n",
    "    #    print(n1/np.linalg.norm(n1))\n",
    "\n",
    "        pl = (all_normals_normalized[0]@Base) ^ (c@Base) ^ ni\n",
    "        # print((all_normals_normalized[i]@Base) ^ pl) # All ni belong to the same plane (but they are all different)\n",
    "        # confirmed by np.linalg.matrix_rank(np.array(all_normals).T) = 2\n",
    "\n",
    "        # print(e3 ^ pl)\n",
    "        # print( (all_normals_normalized[i-1]@Base) ^ n)"
   ]
  },
  {
   "cell_type": "code",
   "execution_count": 7,
   "metadata": {},
   "outputs": [
    {
     "name": "stdout",
     "output_type": "stream",
     "text": [
      "[-7.85129038e-02  9.96913097e-01 -1.84710187e-16]\n",
      "[-4.62984750e-01  8.86366245e-01  9.57801436e-16]\n",
      "[-0.11028599  0.99389989  0.        ]\n",
      "[-4.68822154e-01  8.83292584e-01  1.95434497e-16]\n",
      "[-6.57895680e-01  7.53109072e-01  1.43386699e-16]\n"
     ]
    }
   ],
   "source": [
    "all_lambdas = []\n",
    "for i in range(6):\n",
    "    n1 = all_normals_normalized[0]\n",
    "    if i > 0:\n",
    "        n = all_normals_normalized[i]\n",
    "        a = alphas[i]\n",
    "        v = n1 - a*n\n",
    "        print(v / np.linalg.norm(v))\n",
    "        lambda_i = np.linalg.norm(v)\n",
    "        all_lambdas.append(lambda_i)\n",
    "        # print(lambda_i)\n",
    "\n",
    "        # so suppose we have n = an/a.\n",
    "        \n",
    "    # print(n*a)\n",
    "    # print(n_by_alpha[i])"
   ]
  },
  {
   "cell_type": "code",
   "execution_count": 8,
   "metadata": {},
   "outputs": [
    {
     "name": "stdout",
     "output_type": "stream",
     "text": [
      "[[-0.03279135  1.159331    0.62001463]\n",
      " [ 0.01439978  0.56012427  0.62001463]\n",
      " [ 0.07454119  0.95384703  0.62001463]\n",
      " [ 0.15085484 -0.49569273  0.62001463]\n",
      " [ 0.7661932  -0.34600983  0.62001463]\n",
      " [ 2.0048061  -1.17315601  0.62001463]]\n"
     ]
    },
    {
     "data": {
      "text/plain": [
       "array([[-0.05632465,  1.9913455 ,  1.06497915],\n",
       "       [ 0.03616404,  1.40671277,  1.5571232 ],\n",
       "       [ 0.13566075,  1.73594767,  1.12839158],\n",
       "       [ 1.64463217, -5.4040839 ,  6.75945173],\n",
       "       [ 2.20975199, -0.99791529,  1.7881633 ],\n",
       "       [ 4.14311804, -2.42443587,  1.28131783]])"
      ]
     },
     "execution_count": 8,
     "metadata": {},
     "output_type": "execute_result"
    }
   ],
   "source": [
    "an = np.array([alphas[i] * all_normals_normalized[i] for i in range(6)])\n",
    "an\n",
    "print(an)\n",
    "barycenter = an.mean(axis=1)\n",
    "barycenter\n",
    "\n",
    "an_adapted = an / barycenter.reshape((-1,1))\n",
    "an_adapted\n"
   ]
  },
  {
   "cell_type": "code",
   "execution_count": 9,
   "metadata": {},
   "outputs": [
    {
     "data": {
      "text/plain": [
       "(-2.0, 2.0)"
      ]
     },
     "execution_count": 9,
     "metadata": {},
     "output_type": "execute_result"
    }
   ],
   "source": [
    "%matplotlib qt5\n",
    "import matplotlib.pyplot as plt\n",
    "\n",
    "fig = plt.figure()\n",
    "ax = fig.add_subplot(111, projection=\"3d\")\n",
    "\n",
    "n1 = all_normals_normalized[0]\n",
    "for i in range(6):\n",
    "    # print(n)\n",
    "    # ax.plot([0, n[0]], [0, n[1]], [0, n[2]])\n",
    "\n",
    "    if i > 0:\n",
    "        n = all_normals_normalized[i]\n",
    "        # n = an_adapted[i]\n",
    "        a = alphas[i]\n",
    "        v = n1 - a*n\n",
    "        v = a*n\n",
    "        # v = n\n",
    "        # v = n1 - n\n",
    "        \n",
    "        # v = v / np.linalg.norm(v)\n",
    "        # print(v / np.linalg.norm(v))\n",
    "        # lambda_i = np.linalg.norm(v)\n",
    "        # all_lambdas.append(lambda_i)\n",
    "        ax.plot([0, v[0]], [0, v[1]], [0, v[2]])\n",
    "        ax.scatter(*v)\n",
    "        # print(lambda_i)\n",
    "\n",
    "ax.set_xlim(-2,2)\n",
    "ax.set_ylim(-2,2)\n",
    "ax.set_zlim(-2,2)\n",
    "# n = n_by_alpha[1]\n",
    "# ax.plot([0, n[0]], [0, n[1]], [0, n[2]], c=\"red\")"
   ]
  },
  {
   "cell_type": "code",
   "execution_count": 10,
   "metadata": {},
   "outputs": [
    {
     "name": "stdout",
     "output_type": "stream",
     "text": [
      "0.6200146326784649\n",
      "0.6200146326784648\n",
      "0.6200146326784647\n"
     ]
    }
   ],
   "source": [
    "print(n1 @ np.array([0,0,1]))\n",
    "print(all_lever_arms[0])\n",
    "# g1\n",
    "print(alphas[2]*all_normals_normalized[2] @ np.array([0,0,1]))"
   ]
  },
  {
   "cell_type": "code",
   "execution_count": 11,
   "metadata": {},
   "outputs": [
    {
     "name": "stdout",
     "output_type": "stream",
     "text": [
      "0.7603866253176814\n"
     ]
    }
   ],
   "source": [
    "print(1/np.linalg.norm(all_normals_normalized[0]))"
   ]
  },
  {
   "cell_type": "code",
   "execution_count": 12,
   "metadata": {},
   "outputs": [
    {
     "name": "stderr",
     "output_type": "stream",
     "text": [
      "c:\\Users\\glaisne\\mambaforge\\envs\\workspace\\Lib\\site-packages\\numba\\core\\decorators.py:262: NumbaDeprecationWarning: \u001b[1mnumba.generated_jit is deprecated. Please see the documentation at: https://numba.readthedocs.io/en/stable/reference/deprecation.html#deprecation-of-generated-jit for more information and advice on a suitable replacement.\u001b[0m\n",
      "  warnings.warn(msg, NumbaDeprecationWarning)\n"
     ]
    }
   ],
   "source": [
    "# Let's displace normal planes to the origin and insertion frame\n",
    "\n",
    "all_planes_in_origin = []\n",
    "all_planes_in_insertion = []\n",
    "for i, n in enumerate(all_normals_normalized):\n",
    "    p0, p1 = [0,0,0], n.tolist()\n",
    "    state = all_states[i]\n",
    "    # print(ni)\n",
    "    \n",
    "    \n",
    "    p0_in_origin = joint1.getParentFrame().findStationLocationInAnotherFrame(state, osim.Vec3(0), ground).to_numpy()\n",
    "    p1_in_origin = joint1.getParentFrame().findStationLocationInAnotherFrame(state, osim.Vec3(*p1), ground).to_numpy()\n",
    "    \n",
    "    p0_in_insertion = joint1.getParentFrame().findStationLocationInAnotherFrame(state, osim.Vec3(0), bodyC).to_numpy()\n",
    "    p1_in_insertion = joint1.getParentFrame().findStationLocationInAnotherFrame(state, osim.Vec3(*p1), bodyC).to_numpy()\n",
    "    \n",
    "    p0_in_origin = p0_in_origin@Base\n",
    "    p1_in_origin = p1_in_origin@Base\n",
    "\n",
    "    p0_in_insertion = p0_in_insertion@Base\n",
    "    p1_in_insertion = p1_in_insertion@Base\n",
    "\n",
    "    normal_origin = p1_in_origin - p0_in_origin\n",
    "    normal_insertion = p1_in_insertion - p0_in_insertion\n",
    "    # print(p1_in_origin | normal_origin)\n",
    "    plane_in_origin = (normal_origin + (p0_in_origin | normal_origin)*ni).dual()\n",
    "    # plane_in_origin = (normal_origin).dual()\n",
    "\n",
    "    plane_in_insertion = (normal_insertion + (p0_in_insertion | normal_insertion)*ni).dual()\n",
    "\n",
    "    all_planes_in_origin.append(plane_in_origin)\n",
    "    all_planes_in_insertion.append(plane_in_insertion)\n",
    "    # ni_ = ni @ Base\n",
    "    # print(ni_)"
   ]
  },
  {
   "cell_type": "code",
   "execution_count": 626,
   "metadata": {},
   "outputs": [
    {
     "name": "stdout",
     "output_type": "stream",
     "text": [
      "0\n",
      "0\n",
      "0\n",
      "0\n",
      "0\n",
      "0\n",
      "0\n",
      "0\n"
     ]
    }
   ],
   "source": [
    "print(up(origin.to_numpy()@Base) ^ all_planes_in_origin[0])\n",
    "print(up(origin.to_numpy()@Base) ^ all_planes_in_origin[1])\n",
    "print(up(origin.to_numpy()@Base) ^ all_planes_in_origin[2])\n",
    "print(up(origin.to_numpy()@Base) ^ all_planes_in_origin[3])\n",
    "\n",
    "print(up(insertion.to_numpy()@Base) ^ all_planes_in_insertion[0])\n",
    "print(up(insertion.to_numpy()@Base) ^ all_planes_in_insertion[1])\n",
    "print(up(insertion.to_numpy()@Base) ^ all_planes_in_insertion[2])\n",
    "print(up(insertion.to_numpy()@Base) ^ all_planes_in_insertion[3])\n",
    "# (origin.to_numpy()@Base) ^ all_inter_origin[1]"
   ]
  },
  {
   "cell_type": "code",
   "execution_count": 639,
   "metadata": {},
   "outputs": [
    {
     "name": "stdout",
     "output_type": "stream",
     "text": [
      "[0.45759499 0.44214872 1.24245095] [ 0.26926895 -2.06672172  0.63630863]\n",
      "[0.04705381 0.01550573 0.08504874] [ 0.57461876 -1.47200083 -0.0495428 ]\n",
      "[0.45226263 0.19319896 0.88041509] [-0.51609665 -1.03301276  0.49180009]\n",
      "[ 0.22544231 -0.6858291  -0.67614428] [-2.19611259 -0.0101578  -0.72193198]\n",
      "[ 1.47775618 -0.67421512  1.01562993] [ 1.53609754  0.92002762 -1.62429349]\n"
     ]
    }
   ],
   "source": [
    "for i, n in enumerate(all_normals_normalized):\n",
    "    if i > 0:\n",
    "        n = all_normals_normalized[i]\n",
    "        # n = an_adapted[i]\n",
    "        a = alphas[i]\n",
    "        v = n1 - a*n\n",
    "        v = a*n\n",
    "        c = v - n1\n",
    "        # print(c)\n",
    "        print(np.cross(c/np.linalg.norm(c), n), n)"
   ]
  },
  {
   "cell_type": "code",
   "execution_count": 671,
   "metadata": {},
   "outputs": [
    {
     "name": "stdout",
     "output_type": "stream",
     "text": [
      "0\n"
     ]
    }
   ],
   "source": [
    "w = e3\n",
    "g1 = all_lever_arms[0]\n",
    "# Pw_at_g1 = up(g1 * w)^e1^e2^ni\n",
    "Pw_at_g1 = (w + (g1*w | w)*ni).dual()\n",
    "print(up(g1*w) ^ Pw_at_g1)\n",
    "\n",
    "# random_line = "
   ]
  },
  {
   "cell_type": "code",
   "execution_count": null,
   "metadata": {},
   "outputs": [],
   "source": []
  }
 ],
 "metadata": {
  "kernelspec": {
   "display_name": "workspace",
   "language": "python",
   "name": "python3"
  },
  "language_info": {
   "codemirror_mode": {
    "name": "ipython",
    "version": 3
   },
   "file_extension": ".py",
   "mimetype": "text/x-python",
   "name": "python",
   "nbconvert_exporter": "python",
   "pygments_lexer": "ipython3",
   "version": "3.11.9"
  }
 },
 "nbformat": 4,
 "nbformat_minor": 2
}
