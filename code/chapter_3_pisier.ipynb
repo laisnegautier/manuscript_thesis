{
 "cells": [
  {
   "cell_type": "code",
   "execution_count": 1,
   "metadata": {},
   "outputs": [],
   "source": [
    "import numpy as np"
   ]
  },
  {
   "cell_type": "code",
   "execution_count": 2,
   "metadata": {},
   "outputs": [
    {
     "name": "stdout",
     "output_type": "stream",
     "text": [
      "1.5\n",
      "2.4914460711655217\n"
     ]
    }
   ],
   "source": [
    "eps = 0.5\n",
    "\n",
    "eta = eps**2*(1/np.log(1/eps))\n",
    "\n",
    "\n",
    "N = 1000\n",
    "n = eta*np.log(N)\n",
    "\n",
    "print(1+eps)\n",
    "print(n)"
   ]
  },
  {
   "cell_type": "code",
   "execution_count": 3,
   "metadata": {},
   "outputs": [
    {
     "name": "stdout",
     "output_type": "stream",
     "text": [
      "67.62006882779829\n"
     ]
    }
   ],
   "source": [
    "c = 2\n",
    "k = 7\n",
    "eps = 0.3\n",
    "n = (1/eps)**(k/c)\n",
    "\n",
    "print(n)\n",
    "\n",
    "# eps = 1/ (n**(c/k))\n",
    "# print(eps)"
   ]
  },
  {
   "cell_type": "code",
   "execution_count": 4,
   "metadata": {},
   "outputs": [
    {
     "data": {
      "text/plain": [
       "3.7925143336266975"
      ]
     },
     "execution_count": 4,
     "metadata": {},
     "output_type": "execute_result"
    }
   ],
   "source": [
    "10 * eps**2 * np.log(n)"
   ]
  },
  {
   "cell_type": "code",
   "execution_count": 5,
   "metadata": {},
   "outputs": [
    {
     "name": "stdout",
     "output_type": "stream",
     "text": [
      "31622776601.683792\n"
     ]
    }
   ],
   "source": [
    "c = 2\n",
    "k = 7\n",
    "eps = 0.001\n",
    "n = (1/eps)**(k/c)\n",
    "\n",
    "print(n)\n",
    "\n",
    "# eps = 1/ (n**(c/k))\n",
    "# print(eps)"
   ]
  },
  {
   "cell_type": "code",
   "execution_count": 6,
   "metadata": {},
   "outputs": [
    {
     "name": "stdout",
     "output_type": "stream",
     "text": [
      "2.5\n"
     ]
    }
   ],
   "source": [
    "c = 2\n",
    "k = 2\n",
    "eps = 0.4\n",
    "n = (1/eps)**(k/c)\n",
    "\n",
    "print(n)"
   ]
  },
  {
   "cell_type": "code",
   "execution_count": 7,
   "metadata": {},
   "outputs": [
    {
     "ename": "TypeError",
     "evalue": "can't multiply sequence by non-int of type 'float'",
     "output_type": "error",
     "traceback": [
      "\u001b[1;31m---------------------------------------------------------------------------\u001b[0m",
      "\u001b[1;31mTypeError\u001b[0m                                 Traceback (most recent call last)",
      "Cell \u001b[1;32mIn[7], line 2\u001b[0m\n\u001b[0;32m      1\u001b[0m n \u001b[38;5;241m=\u001b[39m \u001b[38;5;241m3\u001b[39m\n\u001b[1;32m----> 2\u001b[0m l \u001b[38;5;241m=\u001b[39m \u001b[38;5;241;43m0.4\u001b[39;49m\u001b[43m \u001b[49m\u001b[38;5;241;43m*\u001b[39;49m\u001b[43m \u001b[49m\u001b[43m(\u001b[49m\u001b[43m)\u001b[49m\n",
      "\u001b[1;31mTypeError\u001b[0m: can't multiply sequence by non-int of type 'float'"
     ]
    }
   ],
   "source": [
    "n = 3\n",
    "l = 0.4 * ()"
   ]
  },
  {
   "cell_type": "code",
   "execution_count": null,
   "metadata": {},
   "outputs": [
    {
     "name": "stdout",
     "output_type": "stream",
     "text": [
      "0.7854033973710652\n",
      "39.27016986855326\n"
     ]
    }
   ],
   "source": [
    "n = 50\n",
    "# k = 2\n",
    "d = 100\n",
    "lambda_d = 1 - 1*np.sqrt(np.log(d)/d)\n",
    "# print(lamba_d, (1 - 3*np.sqrt(6) / (np.log(np.log(d)))))\n",
    "k = lambda_d * n\n",
    "print(lambda_d)\n",
    "print(k)"
   ]
  },
  {
   "cell_type": "code",
   "execution_count": null,
   "metadata": {},
   "outputs": [
    {
     "name": "stdout",
     "output_type": "stream",
     "text": [
      "46\n",
      "4\n",
      "5.670174066887252\n",
      "-616.6679865334846\n"
     ]
    }
   ],
   "source": [
    "import hyperobjects as ho\n",
    "p, n, m = 3, 7, 50\n",
    "K_dim = m - (n-p)\n",
    "print(K_dim)\n",
    "\n",
    "K_orth_dim = m - K_dim\n",
    "print(K_orth_dim)\n",
    "l = lambda d: 1 - 3*np.sqrt(6)/np.log(np.log(d))\n",
    "\n",
    "d = ho.radius_grunbaum(m)\n",
    "print(d)\n",
    "# d = 10\n",
    "dim_JT = l(d)*m\n",
    "print(dim_JT)"
   ]
  },
  {
   "cell_type": "code",
   "execution_count": 159,
   "metadata": {},
   "outputs": [
    {
     "name": "stdout",
     "output_type": "stream",
     "text": [
      "0.1875\n",
      "200.0\n"
     ]
    }
   ],
   "source": [
    "e = 150\n",
    "d = 200\n",
    "k = e * m / d**2\n",
    "print(k)\n",
    "d = np.sqrt(e*m/k)\n",
    "print(d)"
   ]
  },
  {
   "cell_type": "code",
   "execution_count": 94,
   "metadata": {},
   "outputs": [
    {
     "name": "stdout",
     "output_type": "stream",
     "text": [
      "0.92\n",
      "91.85586535436923\n",
      "7.807202675967699e+39\n",
      "inf\n"
     ]
    },
    {
     "name": "stderr",
     "output_type": "stream",
     "text": [
      "C:\\Users\\glaisne\\AppData\\Local\\Temp\\ipykernel_14996\\2663951621.py:8: RuntimeWarning: overflow encountered in exp\n",
      "  d = np.exp(np.exp(ln_ln_d))\n"
     ]
    }
   ],
   "source": [
    "p, n, m = 3, 7, 50\n",
    "k = m - (n-p)\n",
    "lambda_d = k/m\n",
    "print(lambda_d)\n",
    "ln_ln_d = (1/(lambda_d - 1))*(-3*np.sqrt(6))\n",
    "print(ln_ln_d)\n",
    "print(np.exp(ln_ln_d))\n",
    "d = np.exp(np.exp(ln_ln_d))\n",
    "print(d)"
   ]
  },
  {
   "cell_type": "code",
   "execution_count": 127,
   "metadata": {},
   "outputs": [
    {
     "name": "stdout",
     "output_type": "stream",
     "text": [
      "14764.781565577294\n",
      "3.912023005428146\n",
      "1.193718599712093\n"
     ]
    }
   ],
   "source": [
    "k = 3\n",
    "eps = 0.5\n",
    "c = 0.8\n",
    "N = np.exp(c * eps**(-2) * k)\n",
    "print(N)\n",
    "\n",
    "# kqn is the largest dimension k <= n for which most of the k-dim subspaces of lqn are 4-Euclidean\n",
    "n = 50\n",
    "kqn = np.log(n)\n",
    "print(kqn)\n",
    "\n",
    "q = 100\n",
    "n = 70\n",
    "kqn = (q*n)**(2/q)\n",
    "print(kqn)"
   ]
  },
  {
   "cell_type": "code",
   "execution_count": 135,
   "metadata": {},
   "outputs": [
    {
     "name": "stdout",
     "output_type": "stream",
     "text": [
      "-0.07942490404307402\n"
     ]
    },
    {
     "name": "stderr",
     "output_type": "stream",
     "text": [
      "C:\\Users\\glaisne\\AppData\\Local\\Temp\\ipykernel_14996\\3166937095.py:3: RuntimeWarning: invalid value encountered in sqrt\n",
      "  return np.min([np.sqrt(n), np.sqrt(np.log(1/(l - 1)) / (l - 1))])\n"
     ]
    },
    {
     "data": {
      "text/plain": [
       "nan"
      ]
     },
     "execution_count": 135,
     "metadata": {},
     "output_type": "execute_result"
    }
   ],
   "source": [
    "def C(l, n):\n",
    "    print(np.log(1 / (l - 1)) / (l - 1))\n",
    "    return np.min([np.sqrt(n), np.sqrt(np.log(1/(l - 1)) / (l - 1))]) \n",
    "\n",
    "C(50,2)"
   ]
  },
  {
   "cell_type": "code",
   "execution_count": 197,
   "metadata": {},
   "outputs": [
    {
     "name": "stdout",
     "output_type": "stream",
     "text": [
      "0.008\n",
      "7.407731076965256\n",
      "inf\n"
     ]
    },
    {
     "name": "stderr",
     "output_type": "stream",
     "text": [
      "C:\\Users\\glaisne\\AppData\\Local\\Temp\\ipykernel_19976\\3898518452.py:8: RuntimeWarning: overflow encountered in exp\n",
      "  print(np.exp(np.exp(d)))\n"
     ]
    }
   ],
   "source": [
    "p, n, m = 3, 7, 500\n",
    "dim_F = n-p\n",
    "lambda_d = dim_F / m # actually it is inferior to that\n",
    "# so\n",
    "print(lambda_d)\n",
    "d =  3*np.sqrt(6) * 1/(-(lambda_d - 1))\n",
    "print(d)\n",
    "print(np.exp(np.exp(d)))"
   ]
  },
  {
   "cell_type": "code",
   "execution_count": 163,
   "metadata": {},
   "outputs": [
    {
     "name": "stdout",
     "output_type": "stream",
     "text": [
      "1.0638297872340425\n",
      "0.06\n",
      "921.0340371976174\n"
     ]
    }
   ],
   "source": [
    "p, n, m = 3, 7, 50\n",
    "\n",
    "k = m - p\n",
    "\n",
    "dim_Y = m-k\n",
    "print(m/k)\n",
    "alpha = p/m\n",
    "print(alpha)\n",
    "alpha = 0.999\n",
    "c = 0.1\n",
    "K = c * (1/(1-alpha)) * np.abs(np.log(c*(1-alpha)))\n",
    "print(K)\n"
   ]
  },
  {
   "cell_type": "code",
   "execution_count": 170,
   "metadata": {},
   "outputs": [
    {
     "name": "stdout",
     "output_type": "stream",
     "text": [
      "3.0\n",
      "0.24256932343174234\n",
      "-0.28501895503229724\n"
     ]
    }
   ],
   "source": [
    "alpha = p/m\n",
    "print(alpha*m)\n",
    "c = 0.8\n",
    "alpha = \n",
    "\n",
    "L = c * (1 - alpha)**(-1) * abs(np.log( c*(1-alpha) ))\n",
    "print(L)\n",
    "print(np.log( c*(1-alpha) ))"
   ]
  },
  {
   "cell_type": "code",
   "execution_count": 202,
   "metadata": {},
   "outputs": [
    {
     "name": "stderr",
     "output_type": "stream",
     "text": [
      "C:\\Users\\glaisne\\AppData\\Local\\Temp\\ipykernel_14996\\2511186298.py:11: RuntimeWarning: divide by zero encountered in log\n",
      "  ax.plot(X, [1 - 3*np.sqrt(6)/np.log(np.log(x)) for x in X], c=\"pink\")\n"
     ]
    },
    {
     "data": {
      "image/png": "[encoded data removed]",
      "text/plain": [
       "<Figure size 500x500 with 1 Axes>"
      ]
     },
     "metadata": {},
     "output_type": "display_data"
    }
   ],
   "source": [
    "%matplotlib inline\n",
    "\n",
    "fig = plt.figure(figsize=(5,5))\n",
    "ax = fig.add_subplot(1,1,1)\n",
    "\n",
    "X = range(1, 50)\n",
    "# ax.plot(D, [np.log(d)/d - c for d in D], c=\"red\")\n",
    "ax.plot(X, [x*(m/k)*np.log(x*m/k) for x in X], c=\"red\")\n",
    "ax.plot(X, [x*np.sqrt(m/k) * np.log(1 + np.sqrt(m/k)) for x in X], c=\"black\")\n",
    "ax.plot(X, [np.sqrt(m-k) for x in X], c=\"green\")\n",
    "ax.plot(X, [1 - 3*np.sqrt(6)/np.log(np.log(x)) for x in X], c=\"pink\")\n",
    "# ax.plot(D, [1 - 3*np.sqrt(6)/np.log(d) for d in D], c=\"green\")\n",
    "\n",
    "plt.tight_layout()"
   ]
  },
  {
   "cell_type": "code",
   "execution_count": 200,
   "metadata": {},
   "outputs": [
    {
     "name": "stdout",
     "output_type": "stream",
     "text": [
      "3.0\n",
      "1.5551064410172153\n",
      "1.7544120657437734\n"
     ]
    }
   ],
   "source": [
    "delta = p/m\n",
    "print(m*delta)\n",
    "ML = 0.7 * (1 - delta)**(-1) * np.log(np.sqrt(m) + 1)\n",
    "print(ML)\n",
    "# print(np.sqrt(3))\n",
    "U = 2.4 * np.sqrt(m/k) * np.log(1 + np.sqrt(m/k))\n",
    "print(U)"
   ]
  },
  {
   "cell_type": "code",
   "execution_count": 11,
   "metadata": {},
   "outputs": [
    {
     "name": "stdout",
     "output_type": "stream",
     "text": [
      "7.0710678118654755\n",
      "46\n",
      "0.92\n",
      "0.47405152388318306\n"
     ]
    }
   ],
   "source": [
    "p, n, m = 3, 7, 50\n",
    "d = np.sqrt(m) # using john\n",
    "print(d)\n",
    "dim_F = m-(n-p)\n",
    "print(dim_F)\n",
    "lambda_d = dim_F / m\n",
    "print(lambda_d)\n",
    "# print(1-3*np.sqrt(6) / np.log(np.log(d)))\n",
    "c = 1\n",
    "lambda_d2 = 1 - c*np.sqrt(np.log(d)/d)\n",
    "print(lambda_d2)"
   ]
  },
  {
   "cell_type": "code",
   "execution_count": 44,
   "metadata": {},
   "outputs": [],
   "source": [
    "import matplotlib.pyplot as plt\n",
    "from pycapacity.visual import plot_polytope\n",
    "from pycapacity.objects import Polytope\n",
    "from pycapacity.algorithms import iterative_convex_hull_method\n",
    "import numpy as np\n",
    "import hyperobjects as ho\n",
    "\n",
    "np.random.seed(42)\n",
    "\n",
    "p, n, m = 2, 7, 10\n",
    "J = np.random.uniform(-1,1, size=(p, n))\n",
    "N = np.random.uniform(-5,5, size=(n,m))\n",
    "\n",
    "K_orth = ho.AffineMap(N).T(~ho.AffineSpace(J.T))\n",
    "# K_orth = ho.AffineMap(N).T(ho.AffineSpace(J.T))\n",
    "\n",
    "R1 = iterative_convex_hull_method(J.T, N, -np.ones(m), np.ones(m), tol=0.1)\n",
    "P1 = Polytope(vertices=R1[0])\n",
    "\n",
    "R2 = iterative_convex_hull_method(np.identity(m), K_orth.orthogonal_projection_matrix, -np.ones(m), np.ones(m), tol=0.1)\n",
    "P2 = Polytope(vertices=np.linalg.pinv(J.T)@N@R2[-2])"
   ]
  },
  {
   "cell_type": "code",
   "execution_count": 47,
   "metadata": {},
   "outputs": [
    {
     "name": "stdout",
     "output_type": "stream",
     "text": [
      "(10, 20)\n",
      "(10, 20)\n",
      "5\n",
      "2\n",
      "(2, 20)\n"
     ]
    }
   ],
   "source": [
    "print(R2[-1].shape)\n",
    "print(R2[-2].shape)\n",
    "print(np.linalg.matrix_rank(N@R2[-2]))\n",
    "print(np.linalg.matrix_rank(np.linalg.pinv(J.T)@N@R2[-2]))\n",
    "print((np.linalg.pinv(J.T)@N@R2[-2]).shape)\n",
    "\n",
    "# from scipy"
   ]
  },
  {
   "cell_type": "code",
   "execution_count": 51,
   "metadata": {},
   "outputs": [
    {
     "data": {
      "image/png": "[encoded data removed]",
      "text/plain": [
       "<Figure size 500x500 with 1 Axes>"
      ]
     },
     "metadata": {},
     "output_type": "display_data"
    }
   ],
   "source": [
    "%matplotlib inline\n",
    "\n",
    "fig = plt.figure(figsize=(5,5))\n",
    "ax = fig.add_subplot(1,1,1)\n",
    "\n",
    "plot_polytope(P1, ax)\n",
    "plot_polytope(P2, ax)\n",
    "\n",
    "plt.tight_layout()"
   ]
  },
  {
   "cell_type": "code",
   "execution_count": 79,
   "metadata": {},
   "outputs": [
    {
     "name": "stdout",
     "output_type": "stream",
     "text": [
      "0.07942490404307401\n",
      "3.335412132748941\n"
     ]
    },
    {
     "data": {
      "image/png": "[encoded data removed]",
      "text/plain": [
       "<Figure size 500x500 with 1 Axes>"
      ]
     },
     "metadata": {},
     "output_type": "display_data"
    }
   ],
   "source": [
    "%matplotlib inline\n",
    "\n",
    "fig = plt.figure(figsize=(5,5))\n",
    "ax = fig.add_subplot(1,1,1)\n",
    "\n",
    "p, n, m = 3, 7, 50\n",
    "D = list(range(3, m))\n",
    "ax.plot(D, [np.log(d)/d for d in D])\n",
    "\n",
    "min_val = np.min([np.log(d)/d for d in D])\n",
    "print(min_val)\n",
    "\n",
    "c = (1-p/m) / np.sqrt(min_val)\n",
    "print(c)\n",
    "\n",
    "# ax.plot(D, [np.log(d)/d - c for d in D], c=\"red\")\n",
    "ax.plot(range(25,100), [1 - c*np.sqrt(np.log(d)/d) for d in range(25, 100)], c=\"red\")\n",
    "# ax.plot(D, [1 - 3*np.sqrt(6)/np.log(d) for d in D], c=\"green\")\n",
    "\n",
    "plt.tight_layout()"
   ]
  },
  {
   "cell_type": "code",
   "execution_count": 92,
   "metadata": {},
   "outputs": [
    {
     "data": {
      "text/plain": [
       "1.5100451685560656"
      ]
     },
     "execution_count": 92,
     "metadata": {},
     "output_type": "execute_result"
    }
   ],
   "source": [
    "C = 2\n",
    "C * np.log(C * m/(m-3))"
   ]
  },
  {
   "cell_type": "code",
   "execution_count": 93,
   "metadata": {},
   "outputs": [
    {
     "data": {
      "text/plain": [
       "0.06"
      ]
     },
     "execution_count": 93,
     "metadata": {},
     "output_type": "execute_result"
    }
   ],
   "source": [
    "3/50"
   ]
  },
  {
   "cell_type": "code",
   "execution_count": 67,
   "metadata": {},
   "outputs": [
    {
     "name": "stdout",
     "output_type": "stream",
     "text": [
      "0.06\n"
     ]
    }
   ],
   "source": [
    "print(p/m)"
   ]
  },
  {
   "cell_type": "code",
   "execution_count": 64,
   "metadata": {},
   "outputs": [
    {
     "name": "stdout",
     "output_type": "stream",
     "text": [
      "0.06000000000000005\n"
     ]
    }
   ],
   "source": [
    "print(np.max([1 - c*np.sqrt(np.log(d)/d) for d in D]))"
   ]
  },
  {
   "cell_type": "code",
   "execution_count": null,
   "metadata": {},
   "outputs": [],
   "source": [
    "import scipy\n",
    "\n",
    "def fun(x):\n",
    "    return np.log(d)/d - "
   ]
  },
  {
   "cell_type": "code",
   "execution_count": null,
   "metadata": {},
   "outputs": [],
   "source": []
  }
 ],
 "metadata": {
  "kernelspec": {
   "display_name": "workspace",
   "language": "python",
   "name": "python3"
  },
  "language_info": {
   "codemirror_mode": {
    "name": "ipython",
    "version": 3
   },
   "file_extension": ".py",
   "mimetype": "text/x-python",
   "name": "python",
   "nbconvert_exporter": "python",
   "pygments_lexer": "ipython3",
   "version": "3.11.9"
  }
 },
 "nbformat": 4,
 "nbformat_minor": 2
}
