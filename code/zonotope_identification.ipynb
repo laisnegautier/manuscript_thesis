{
 "cells": [
  {
   "cell_type": "code",
   "execution_count": 49,
   "metadata": {},
   "outputs": [],
   "source": [
    "import sympy as sy\n",
    "import symengine as se\n",
    "import numpy as np\n",
    "from dataclasses import dataclass\n",
    "import clifford.tools.g3c as g3c_tools\n",
    "import clifford.g3c as g3c\n",
    "from clifford import MultiVector\n",
    "\n",
    "seed = 48\n",
    "np.random.seed(seed)\n",
    "\n",
    "e1, e2, e3 = g3c.blades[\"e1\"], g3c.blades[\"e2\"], g3c.blades[\"e3\"]\n",
    "no, ni, E0, up, down, I_base = g3c.stuff[\"eo\"], g3c.stuff[\"einf\"], g3c.stuff[\"E0\"], g3c.stuff[\"up\"], g3c.stuff[\"down\"], g3c.stuff[\"I_base\"]"
   ]
  },
  {
   "cell_type": "code",
   "execution_count": 167,
   "metadata": {},
   "outputs": [
    {
     "name": "stdout",
     "output_type": "stream",
     "text": [
      "-0.8275 0.35979 -0.11271\n",
      "(0.51015^e1) + (0.23451^e2) - (0.8275^e3)\n"
     ]
    }
   ],
   "source": [
    "R_O1 = g3c_tools.random_translation_rotor(rng=seed)\n",
    "R_O2 = g3c_tools.random_translation_rotor(rng=seed+1)\n",
    "R_O3 = g3c_tools.random_translation_rotor(rng=seed+5)\n",
    "R_I1 = g3c_tools.random_translation_rotor(rng=seed+2)\n",
    "R_I2 = g3c_tools.random_translation_rotor(rng=seed+3)\n",
    "R_I3 = g3c_tools.random_translation_rotor(rng=seed+4)\n",
    "\n",
    "O = g3c_tools.random_conformal_point(rng=seed)\n",
    "I = g3c_tools.random_conformal_point(rng=seed+1)\n",
    "\n",
    "O1 = g3c_tools.apply_rotor(O, R_O1)\n",
    "O2 = g3c_tools.apply_rotor(O, R_O2)\n",
    "O3 = g3c_tools.apply_rotor(O, R_O3)\n",
    "I1 = g3c_tools.apply_rotor(I, R_I1)\n",
    "I2 = g3c_tools.apply_rotor(I, R_I2)\n",
    "I3 = g3c_tools.apply_rotor(I, R_I3)\n",
    "\n",
    "def cross(a, b):\n",
    "    return (a^b) | I_base.inv()\n",
    "\n",
    "g1 = cross(down(O1), down(I1)-down(O1)).normal()\n",
    "g2 = cross(down(O2), down(I2)-down(O2)).normal()\n",
    "g1z = e3 | cross(down(O1), down(I1)-down(O1)).normal()\n",
    "g2z = e3 | cross(down(O2), down(I2)-down(O2)).normal()\n",
    "g3z = e3 | cross(down(O3), down(I3)-down(O3)).normal()\n",
    "\n",
    "print(g1z, g2z, g3z)\n",
    "print(g1)"
   ]
  },
  {
   "cell_type": "code",
   "execution_count": 174,
   "metadata": {},
   "outputs": [
    {
     "name": "stdout",
     "output_type": "stream",
     "text": [
      "(0.51015^e1) + (0.23451^e2) - (0.8275^e3)\n"
     ]
    }
   ],
   "source": [
    "print(cross(down(O1), down(I1)-down(O1)).normal())"
   ]
  },
  {
   "cell_type": "code",
   "execution_count": 175,
   "metadata": {},
   "outputs": [
    {
     "name": "stdout",
     "output_type": "stream",
     "text": [
      "-(341.00716^e124) - (341.00716^e125) - (96.64161^e134) - (96.64161^e135) + (210.22803^e234) + (210.22803^e235)\n",
      "(210.22803^e1) + (96.64161^e2) - (341.00716^e3)\n",
      "(0.51015^e1) + (0.23451^e2) - (0.8275^e3)\n"
     ]
    },
    {
     "data": {
      "text/plain": [
       "1.6549977253570665"
      ]
     },
     "execution_count": 175,
     "metadata": {},
     "output_type": "execute_result"
    }
   ],
   "source": [
    "L1 = O1^I1^ni\n",
    "L2 = O2^I2^ni\n",
    "L3 = O3^I3^ni\n",
    "\n",
    "M1 = (O1^I1^ni) - (no^(I1-O1)^ni)\n",
    "M2 = (O2^I2^ni) - (no^(I2-O2)^ni)\n",
    "M3 = (O3^I3^ni) - (no^(I3-O3)^ni)\n",
    "print(M1)\n",
    "# print(M1.dual())\n",
    "# print(M1.dual(I_base)| (no))\n",
    "print((M1.dual(I_base)| no))\n",
    "print((M1.dual(I_base)| no).normal())\n",
    "L1 = (M1.dual(I_base)| (no)).normal()\n",
    "# L1 = L2.normal()\n",
    "# L1 = L3.normal()\n",
    "abs(e3 * L1 + L1 * e3)"
   ]
  },
  {
   "cell_type": "code",
   "execution_count": 69,
   "metadata": {},
   "outputs": [
    {
     "name": "stdout",
     "output_type": "stream",
     "text": [
      "(0.8275^e12) + (0.23451^e13) - (0.51015^e23)\n",
      "-(0.8275^e1245) - (0.23451^e1345) + (0.51015^e2345)\n",
      "0 0\n",
      "0 0\n",
      "-(0.8275^e1245) - (0.23451^e1345) + (0.51015^e2345)\n",
      "0 0\n",
      "0 0\n"
     ]
    }
   ],
   "source": [
    "P1 = g1/I_base\n",
    "P2 = g2/I_base\n",
    "\n",
    "print(P1)\n",
    "print(no^P1^ni)\n",
    "\n",
    "print(O1 ^ (no^P1^ni), O2 ^ (no^P2^ni)) # check inclusion (= 0 if True)\n",
    "print(I1 ^ (no^P1^ni), I2 ^ (no^P2^ni)) # check inclusion\n",
    "\n",
    "print(g3c_tools.apply_rotor(no^P1^ni, ~R_O1))\n",
    "\n",
    "print(O ^ g3c_tools.apply_rotor(no^P1^ni, ~R_O1), O ^ g3c_tools.apply_rotor(no^P2^ni, ~R_O2))\n",
    "print(I ^ g3c_tools.apply_rotor(no^P1^ni, ~R_I1), I ^ g3c_tools.apply_rotor(no^P2^ni, ~R_I2))\n",
    "# print((g3c_tools.apply_rotor(up(P1), R_O1)))"
   ]
  },
  {
   "cell_type": "code",
   "execution_count": 70,
   "metadata": {},
   "outputs": [
    {
     "name": "stdout",
     "output_type": "stream",
     "text": [
      "0\n",
      "0\n"
     ]
    }
   ],
   "source": [
    "LO = g3c_tools.meet(g3c_tools.apply_rotor(no^P1^ni, ~R_O1), g3c_tools.apply_rotor(no^P2^ni, ~R_O2))\n",
    "LI = g3c_tools.meet(g3c_tools.apply_rotor(no^P1^ni, ~R_I1), g3c_tools.apply_rotor(no^P2^ni, ~R_I2))\n",
    "\n",
    "print(O^LO) # belong to this line\n",
    "print(I^LI) # belong to this line"
   ]
  },
  {
   "cell_type": "code",
   "execution_count": 71,
   "metadata": {},
   "outputs": [
    {
     "name": "stdout",
     "output_type": "stream",
     "text": [
      "-(3.39764^e124) - (3.39764^e125) - (0.96289^e134) - (0.96289^e135) + (0.03608^e145) + (2.09462^e234) + (2.09462^e235) + (0.94618^e245) + (0.29039^e345)\n",
      "-(3.39764^e124) - (3.39764^e125) - (0.96289^e134) - (0.96289^e135) + (0.03608^e145) + (2.09462^e234) + (2.09462^e235) + (0.94618^e245) + (0.29039^e345)\n",
      "(4.90052^e124) + (4.90052^e125) + (1.57095^e134) + (1.57095^e135) + (0.03608^e145) + (1.755^e234) + (1.755^e235) + (0.94618^e245) + (0.29039^e345)\n",
      "(4.90052^e124) + (4.90052^e125) + (1.57095^e134) + (1.57095^e135) + (0.03608^e145) + (1.755^e234) + (1.755^e235) + (0.94618^e245) + (0.29039^e345)\n"
     ]
    }
   ],
   "source": [
    "# A LINE L = p^dir^ni with p a point on the line which can be the orthogonal projection of any point onto the line - except no because if pure rotation it fails\n",
    "def line_direction(L):\n",
    "    return L | -no^ni\n",
    "\n",
    "def line_ortho_proj(x, L):\n",
    "    return (x | L) | L.inv()\n",
    "\n",
    "LO_dir = line_direction(LO) # a vector\n",
    "LO_p = line_ortho_proj(up(LO_dir), LO) # a point\n",
    "print(LO)\n",
    "print(LO_p^LO_dir^ni) # should be equal to LO\n",
    "\n",
    "LI_dir = line_direction(LI) # a vector\n",
    "LI_p = line_ortho_proj(up(LI_dir), LI) # a point\n",
    "print(LI)\n",
    "print(LI_p^LI_dir^ni) # should be equal to LI"
   ]
  },
  {
   "cell_type": "code",
   "execution_count": 72,
   "metadata": {},
   "outputs": [
    {
     "name": "stdout",
     "output_type": "stream",
     "text": [
      "(0.51015^e1) + (0.23451^e2) - (0.8275^e3)\n",
      "(0.51015^e1) + (0.23451^e2) - (0.8275^e3)\n",
      "-(0.92161^e1) + (0.14557^e2) - (0.35979^e3)\n",
      "(0.92161^e1) - (0.14557^e2) + (0.35979^e3)\n"
     ]
    }
   ],
   "source": [
    "# Check the system now with 2 points on these lines\n",
    "\n",
    "LO_p1 = g3c_tools.apply_rotor(LO_p, R_O1)\n",
    "LO_p2 = g3c_tools.apply_rotor(LO_p, R_O2)\n",
    "LI_p1 = g3c_tools.apply_rotor(LI_p, R_I1)\n",
    "LI_p2 = g3c_tools.apply_rotor(LI_p, R_I2)\n",
    "\n",
    "g1_test = cross(down(LO_p1), down(LI_p1)-down(LO_p1)).normal()\n",
    "g2_test = cross(down(LO_p2), down(LI_p2)-down(LO_p2)).normal()\n",
    "\n",
    "print(g1_test)\n",
    "print(g1)\n",
    "\n",
    "print(g2_test)\n",
    "print(g2)"
   ]
  },
  {
   "cell_type": "code",
   "execution_count": 76,
   "metadata": {},
   "outputs": [
    {
     "data": {
      "text/plain": [
       "(150.39361^e123) + (60.84637^e124) + (41.72938^e125) - (2983.97091^e134) - (2959.82817^e135) - (369.53396^e145) + (12077.27514^e234) + (11910.48629^e235) + (1467.69972^e245) + (1370.50066^e345)"
      ]
     },
     "execution_count": 76,
     "metadata": {},
     "output_type": "execute_result"
    }
   ],
   "source": [
    "TA1 = no^down(O1)^down(I1)\n",
    "TA2 = no^down(O2)^down(I2)\n",
    "TA3 = no^down(O3)^down(I3)\n",
    "\n",
    "T1_rinv = g3c_tools.apply_rotor(TA1, ~R_O1)\n",
    "T2_rinv = g3c_tools.apply_rotor(TA2, ~R_O2)\n",
    "T3_rinv = g3c_tools.apply_rotor(TA3, ~R_O3)\n"
   ]
  },
  {
   "cell_type": "code",
   "execution_count": 90,
   "metadata": {},
   "outputs": [
    {
     "name": "stdout",
     "output_type": "stream",
     "text": [
      "0.0\n"
     ]
    }
   ],
   "source": [
    "(e3 | TA1)\n",
    "print(abs(e3 | TA1))"
   ]
  },
  {
   "cell_type": "code",
   "execution_count": 120,
   "metadata": {},
   "outputs": [
    {
     "name": "stdout",
     "output_type": "stream",
     "text": [
      "-(0.0^e1234) - (0.0^e1235) - (0.0^e1245) + (0.0^e1345) - (0.0^e2345)\n",
      "-(0.0^e12345)\n",
      "-(0.0^e12345)\n"
     ]
    }
   ],
   "source": [
    "K = (g3c_tools.apply_rotor(TA1, ~R_O1) ^ g3c_tools.apply_rotor(TA1, ~R_I1))\n",
    "print(K)\n",
    "print(down(O1)^K)\n",
    "print(I^K)"
   ]
  },
  {
   "cell_type": "code",
   "execution_count": 112,
   "metadata": {},
   "outputs": [
    {
     "name": "stdout",
     "output_type": "stream",
     "text": [
      "-(0.0^e123) - (0.0^e124) - (0.0^e125) + (0.0^e134) + (0.0^e135) + (0.0^e145) + (0.0^e234) + (0.0^e235) + (0.0^e245) + (0.0^e345) - (0.0^e12345)\n",
      "(0.0^e124) + (0.0^e125) + (0.0^e134) + (0.0^e135) + (0.0^e12345)\n",
      "(0.0^e123) + (0.0^e124) + (0.0^e125) + (0.0^e134) + (0.0^e135) - (0.0^e234) - (0.0^e235) - (0.0^e12345)\n",
      "(0.0^e234) + (0.0^e235)\n",
      "(3.07625^e1) - (13.49591^e2) - (1.92827^e3) + (0.5^e4) - (0.5^e5)\n"
     ]
    }
   ],
   "source": [
    "print(O^T1_rinv ^ down(I1))\n",
    "print(O^T2_rinv ^ down(I2))\n",
    "print(O^T3_rinv ^ down(I3))\n",
    "\n",
    "K12 = g3c_tools.meet(g3c_tools.meet(T1_rinv ^ down(I1), T2_rinv ^ down(I2)), T3_rinv ^ down(I3)).normal()\n",
    "print(O ^ K12)\n",
    "print(K12 | no)"
   ]
  },
  {
   "cell_type": "code",
   "execution_count": 114,
   "metadata": {},
   "outputs": [
    {
     "data": {
      "text/plain": [
       "(10.57037^e1) + (9.05216^e2) + (9.08193^e3)"
      ]
     },
     "execution_count": 114,
     "metadata": {},
     "output_type": "execute_result"
    }
   ],
   "source": [
    "down(I1)"
   ]
  },
  {
   "cell_type": "code",
   "execution_count": 77,
   "metadata": {},
   "outputs": [
    {
     "data": {
      "text/plain": [
       "-(0.0^e1) - (0.0^e2) - (0.0^e3) - (0.0^e4) - (0.0^e5)"
      ]
     },
     "execution_count": 77,
     "metadata": {},
     "output_type": "execute_result"
    }
   ],
   "source": [
    "g3c_tools.meet(g3c_tools.meet(T1_rinv, T2_rinv), T3_rinv)"
   ]
  },
  {
   "cell_type": "code",
   "execution_count": 64,
   "metadata": {},
   "outputs": [
    {
     "data": {
      "text/plain": [
       "-(6.1525^e1) + (26.99183^e2) + (3.85653^e3) + (390.14239^e4) + (391.14239^e5)"
      ]
     },
     "execution_count": 64,
     "metadata": {},
     "output_type": "execute_result"
    }
   ],
   "source": [
    "O1"
   ]
  },
  {
   "cell_type": "code",
   "execution_count": null,
   "metadata": {},
   "outputs": [],
   "source": []
  }
 ],
 "metadata": {
  "kernelspec": {
   "display_name": "workspace",
   "language": "python",
   "name": "python3"
  },
  "language_info": {
   "codemirror_mode": {
    "name": "ipython",
    "version": 3
   },
   "file_extension": ".py",
   "mimetype": "text/x-python",
   "name": "python",
   "nbconvert_exporter": "python",
   "pygments_lexer": "ipython3",
   "version": "3.11.9"
  }
 },
 "nbformat": 4,
 "nbformat_minor": 2
}
