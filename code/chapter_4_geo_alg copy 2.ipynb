{
 "cells": [
  {
   "cell_type": "code",
   "execution_count": 1,
   "metadata": {},
   "outputs": [
    {
     "name": "stderr",
     "output_type": "stream",
     "text": [
      "c:\\Users\\glaisne\\mambaforge\\envs\\workspace\\Lib\\site-packages\\numba\\core\\decorators.py:262: NumbaDeprecationWarning: \u001b[1mnumba.generated_jit is deprecated. Please see the documentation at: https://numba.readthedocs.io/en/stable/reference/deprecation.html#deprecation-of-generated-jit for more information and advice on a suitable replacement.\u001b[0m\n",
      "  warnings.warn(msg, NumbaDeprecationWarning)\n",
      "c:\\Users\\glaisne\\mambaforge\\envs\\workspace\\Lib\\site-packages\\numba\\core\\decorators.py:262: NumbaDeprecationWarning: \u001b[1mnumba.generated_jit is deprecated. Please see the documentation at: https://numba.readthedocs.io/en/stable/reference/deprecation.html#deprecation-of-generated-jit for more information and advice on a suitable replacement.\u001b[0m\n",
      "  warnings.warn(msg, NumbaDeprecationWarning)\n",
      "c:\\Users\\glaisne\\mambaforge\\envs\\workspace\\Lib\\site-packages\\pyganja\\__init__.py:2: UserWarning: Failed to import cef_gui, cef functions will be unavailable\n",
      "  from .script_api import *\n",
      "c:\\Users\\glaisne\\mambaforge\\envs\\workspace\\Lib\\site-packages\\numba\\core\\decorators.py:262: NumbaDeprecationWarning: \u001b[1mnumba.generated_jit is deprecated. Please see the documentation at: https://numba.readthedocs.io/en/stable/reference/deprecation.html#deprecation-of-generated-jit for more information and advice on a suitable replacement.\u001b[0m\n",
      "  warnings.warn(msg, NumbaDeprecationWarning)\n",
      "c:\\Users\\glaisne\\mambaforge\\envs\\workspace\\Lib\\site-packages\\clifford\\tools\\g3c\\__init__.py:1034: NumbaDeprecationWarning: \u001b[1mThe 'nopython' keyword argument was not supplied to the 'numba.jit' decorator. The implicit default value for this argument is currently False, but it will be changed to True in Numba 0.59.0. See https://numba.readthedocs.io/en/stable/reference/deprecation.html#deprecation-of-object-mode-fall-back-behaviour-when-using-jit for details.\u001b[0m\n",
      "  @numba.jit\n",
      "c:\\Users\\glaisne\\mambaforge\\envs\\workspace\\Lib\\site-packages\\clifford\\tools\\g3c\\__init__.py:1040: NumbaDeprecationWarning: \u001b[1mThe 'nopython' keyword argument was not supplied to the 'numba.jit' decorator. The implicit default value for this argument is currently False, but it will be changed to True in Numba 0.59.0. See https://numba.readthedocs.io/en/stable/reference/deprecation.html#deprecation-of-object-mode-fall-back-behaviour-when-using-jit for details.\u001b[0m\n",
      "  @numba.jit\n",
      "c:\\Users\\glaisne\\mambaforge\\envs\\workspace\\Lib\\site-packages\\numba\\core\\decorators.py:262: NumbaDeprecationWarning: \u001b[1mnumba.generated_jit is deprecated. Please see the documentation at: https://numba.readthedocs.io/en/stable/reference/deprecation.html#deprecation-of-generated-jit for more information and advice on a suitable replacement.\u001b[0m\n",
      "  warnings.warn(msg, NumbaDeprecationWarning)\n"
     ]
    }
   ],
   "source": [
    "import opensim as osim\n",
    "import numpy as np\n",
    "import hyperobjects as ho\n",
    "import common\n",
    "import clifford as cf\n",
    "from clifford import g3c\n",
    "import clifford.tools.g3c as g3c_tools\n",
    "from opensim import Vec3\n",
    "from enum import Enum\n",
    "\n",
    "G3c, blades_g3c, stuff = g3c.layout, g3c.blades, g3c.stuff\n",
    "\n",
    "e1, e2, e3 = g3c.e1, g3c.e2, g3c.e3\n",
    "e12, e13, e23 = g3c.e12, g3c.e13, g3c.e23\n",
    "e31 = -e13\n",
    "Px, Py, Pz = g3c.e23, -g3c.e13, g3c.e12\n",
    "up, down, homo = g3c.up, g3c.down, g3c.homo\n",
    "no, ni = g3c.eo, g3c.einf\n",
    "E0 = g3c.E0\n",
    "I_base = g3c.I_base"
   ]
  },
  {
   "cell_type": "code",
   "execution_count": 2,
   "metadata": {},
   "outputs": [],
   "source": [
    "class MultiVectorType(Enum):\n",
    "    NotBlade = -1\n",
    "    Vector = 0\n",
    "    EuclideanPoint = 1\n",
    "    ConformalPoint = 2\n",
    "    PointPair = 3\n",
    "    Circle = 4\n",
    "    Line = 5\n",
    "    Sphere = 6\n",
    "    Plane = 7\n",
    "\n",
    "def blade_type(mv):\n",
    "    if not isinstance(mv, cf.MultiVector):\n",
    "        return MultiVectorType.NotBlade\n",
    "    \n",
    "    obj = g3c_tools.interpret_multivector_as_object(mv)\n",
    "    if obj == -1:\n",
    "        return MultiVectorType.NotBlade\n",
    "    elif obj == 0:\n",
    "        return MultiVectorType.Vector\n",
    "    elif obj == 1:\n",
    "        return MultiVectorType.EuclideanPoint\n",
    "    elif obj == 2:\n",
    "        return MultiVectorType.ConformalPoint\n",
    "    elif obj == 3:\n",
    "        return MultiVectorType.PointPair\n",
    "    elif obj == 4:\n",
    "        return MultiVectorType.Circle\n",
    "    elif obj == 5:\n",
    "        return MultiVectorType.Line\n",
    "    elif obj == 6:\n",
    "        return MultiVectorType.Sphere\n",
    "    elif obj == 7:\n",
    "        return MultiVectorType.Plane\n",
    "    \n",
    "def to_vector(v):\n",
    "    if isinstance(v, osim.Vec3):\n",
    "        v = v.to_numpy()\n",
    "    return v[0]*e1 + v[1]*e2 + v[2]*e3\n",
    "\n",
    "def to_point(p):\n",
    "    return up(to_vector(p))"
   ]
  },
  {
   "cell_type": "code",
   "execution_count": 9,
   "metadata": {},
   "outputs": [
    {
     "data": {
      "text/plain": [
       "<MultiVectorType.PointPair: 3>"
      ]
     },
     "execution_count": 9,
     "metadata": {},
     "output_type": "execute_result"
    }
   ],
   "source": [
    "n = e1 + e2 + e3\n",
    "p = 4*e1\n",
    "L = g3c_tools.random_line()\n",
    "pla = n + (p | n)*ni\n",
    "blade_type(L)\n",
    "blade_type(L.dual())"
   ]
  },
  {
   "cell_type": "code",
   "execution_count": 3,
   "metadata": {},
   "outputs": [],
   "source": [
    "def to_array(mv):\n",
    "    b_type = blade_type(mv)\n",
    "    if b_type == MultiVectorType.Vector:\n",
    "        return np.array([mv | e1, mv | e2, mv | e3]).astype(float)\n",
    "    elif b_type == MultiVectorType.EuclideanPoint:\n",
    "        return np.array([mv | e1, mv | e2, mv | e3]).astype(float)\n",
    "    elif b_type == MultiVectorType.ConformalPoint:\n",
    "        mv = down(mv)\n",
    "        return np.array([mv | e1, mv | e2, mv | e3]).astype(float)\n",
    "    elif b_type == MultiVectorType.Line:\n",
    "        # return position then direction\n",
    "        P, D = g3c_tools.line_to_point_and_direction(mv)\n",
    "        if P == 0:\n",
    "            return [np.array([0,0,0]), to_array(D)]\n",
    "        return [to_array(P), to_array(D)]\n",
    "    elif b_type == MultiVectorType.Plane:\n",
    "        # return orthogonal proj of origin onto it THEN normal\n",
    "        location = g3c_tools.get_nearest_plane_point(mv)\n",
    "        normal = g3c_tools.get_plane_normal(mv)\n",
    "        if location == 0:\n",
    "            return [np.array([0,0,0]), to_array(normal)]\n",
    "        return [to_array(location), to_array(normal)]\n",
    "    else:\n",
    "        raise TypeError(f\"Can't convert {b_type} as numpy array.\")\n",
    "\n",
    "def rotation_axis_in_joint_frame(model, Q, last_frame):\n",
    "    W_in_ground = common.frame_jacobian(model, Q, last_frame)\n",
    "    W_in_joints = []\n",
    "    all_joints = [j for j in model.getJointSet()]\n",
    "    for i, w_in_ground in enumerate(W_in_ground.T):\n",
    "        Ji = all_joints[i // 3]\n",
    "        w_in_joint = model.getGround().expressVectorInAnotherFrame(Q, Vec3(*w_in_ground), Ji.getParentFrame()).to_numpy()\n",
    "        W_in_joints.append(w_in_joint)\n",
    "    return np.array(W_in_joints).T\n",
    "\n",
    "def lever_arms(model, Q, W, origin, frame_origin, insertion, frame_insertion):\n",
    "    if blade_type(origin) == MultiVectorType.NotBlade:\n",
    "        if not isinstance(origin, osim.Vec3):\n",
    "            origin = osim.Vec3(*origin)\n",
    "    else:\n",
    "        origin = osim.Vec3(*to_array(origin))\n",
    "\n",
    "    if blade_type(insertion) == MultiVectorType.NotBlade:\n",
    "        if not isinstance(insertion, osim.Vec3):\n",
    "            insertion = osim.Vec3(*insertion)\n",
    "    else:\n",
    "        insertion = osim.Vec3(*to_array(insertion))\n",
    "\n",
    "    lever_arms = []\n",
    "    for i, c in enumerate(model.getCoordinateSet()):\n",
    "        # c: osim.Coordinate = c\n",
    "        FJ: osim.Joint = c.getJoint().getParentFrame()\n",
    "        O_in_joint = frame_origin.findStationLocationInAnotherFrame(Q, origin, FJ).to_numpy()\n",
    "        I_in_joint = frame_insertion.findStationLocationInAnotherFrame(Q, insertion, FJ).to_numpy()\n",
    "        moment = np.cross(I_in_joint, O_in_joint) / np.linalg.norm(I_in_joint - O_in_joint)\n",
    "        lever_arm = W[:, i] @ moment\n",
    "        lever_arms.append(lever_arm)\n",
    "    \n",
    "    return np.array(lever_arms)"
   ]
  },
  {
   "cell_type": "code",
   "execution_count": 44,
   "metadata": {},
   "outputs": [
    {
     "name": "stdout",
     "output_type": "stream",
     "text": [
      "0.52186 - (0.20742^e12) - (0.29226^e13) + (0.58905^e14) + (0.58905^e15) + (0.70852^e23) - (16.68462^e24) - (16.68462^e25) - (3.19775^e34) - (3.19775^e35) - (6.53129^e1234) - (6.53129^e1235)\n"
     ]
    }
   ],
   "source": [
    "J1_q1 = g3c_tools.random_rotation_translation_rotor()\n",
    "J2_q1 = g3c_tools.random_rotation_translation_rotor()\n",
    "J3_q1 = g3c_tools.random_rotation_translation_rotor()\n",
    "J4_q1 = g3c_tools.random_rotation_translation_rotor()\n",
    "\n",
    "J1_q2 = g3c_tools.random_rotation_translation_rotor()\n",
    "J2_q2 = g3c_tools.random_rotation_translation_rotor()\n",
    "J3_q2 = g3c_tools.random_rotation_translation_rotor()\n",
    "J4_q2 = g3c_tools.random_rotation_translation_rotor()\n",
    "\n",
    "J1_q3 = g3c_tools.random_rotation_translation_rotor()\n",
    "J2_q3 = g3c_tools.random_rotation_translation_rotor()\n",
    "J3_q3 = g3c_tools.random_rotation_translation_rotor()\n",
    "J4_q3 = g3c_tools.random_rotation_translation_rotor()\n",
    "\n",
    "\n",
    "O = g3c_tools.random_conformal_point() # in J4\n",
    "I = g3c_tools.random_conformal_point() # in J2\n",
    "\n",
    "O_in_ground_q1 = g3c_tools.apply_rotor(O, J4_q1 * J3_q1 * J2_q1 * J1_q1)\n",
    "O_in_ground_q2 = g3c_tools.apply_rotor(O, J4_q2 * J3_q2 * J2_q2 * J1_q2)\n",
    "\n",
    "I_in_ground_q1 = g3c_tools.apply_rotor(I, J1_q1)\n",
    "I_in_ground_q2 = g3c_tools.apply_rotor(I, J1_q2)\n",
    "\n",
    "L_q1 = O_in_ground_q1 ^ (I_in_ground_q1 - O_in_ground_q1) ^ ni\n",
    "L_q2 = O_in_ground_q2 ^ (I_in_ground_q2 - O_in_ground_q2) ^ ni\n",
    "\n",
    "# print(blade_type((J1_q1 * O * ~J1_q1) - (J2_q1 * O * ~J2_q2)))\n",
    "\n",
    "K = J1_q1 - J2_q2\n",
    "print(K)"
   ]
  },
  {
   "cell_type": "code",
   "execution_count": 14,
   "metadata": {},
   "outputs": [
    {
     "data": {
      "text/plain": [
       "(38.59534^e1) + (5.64629^e2) + (54.75283^e3) + (179.69077^e4) + (179.69077^e5) - (0.0^e134) - (0.0^e135)"
      ]
     },
     "execution_count": 14,
     "metadata": {},
     "output_type": "execute_result"
    }
   ],
   "source": [
    "(I_in_ground_q1 - O_in_ground_q1)"
   ]
  },
  {
   "cell_type": "code",
   "execution_count": 60,
   "metadata": {},
   "outputs": [
    {
     "name": "stdout",
     "output_type": "stream",
     "text": [
      "0.37369 - (0.3048^e12) - (0.65296^e13) + (0.58404^e23)\n",
      "-0.79061 - (0.10759^e12) + (0.44064^e13) - (0.41134^e23)\n"
     ]
    }
   ],
   "source": [
    "\n",
    "R1 = g3c_tools.random_rotation_rotor()\n",
    "R2 = g3c_tools.random_rotation_rotor()\n",
    "\n",
    "\n",
    "O = g3c_tools.random_conformal_point()\n",
    "O = down(O)\n",
    "\n",
    "print(((R1*O*~R1) / (R2*O*~R2)))\n",
    "print((R1 / R2))"
   ]
  },
  {
   "cell_type": "code",
   "execution_count": 69,
   "metadata": {},
   "outputs": [
    {
     "name": "stdout",
     "output_type": "stream",
     "text": [
      "MultiVectorType.NotBlade\n"
     ]
    }
   ],
   "source": [
    "print(blade_type(R1 << R2))\n",
    "O = up(O)"
   ]
  },
  {
   "cell_type": "code",
   "execution_count": 73,
   "metadata": {},
   "outputs": [
    {
     "name": "stdout",
     "output_type": "stream",
     "text": [
      "(5.48947^e1) + (6.22079^e2) - (2.03082^e3) + (36.36285^e4) + (37.35256^e5)\n",
      "-46.64901\n"
     ]
    }
   ],
   "source": [
    "print((R1 << R2) * O * ~(R1 << R2))\n",
    "print((R1*O*~R1) << (R2*O* ~R2))"
   ]
  },
  {
   "cell_type": "code",
   "execution_count": null,
   "metadata": {},
   "outputs": [],
   "source": []
  }
 ],
 "metadata": {
  "kernelspec": {
   "display_name": "workspace",
   "language": "python",
   "name": "python3"
  },
  "language_info": {
   "codemirror_mode": {
    "name": "ipython",
    "version": 3
   },
   "file_extension": ".py",
   "mimetype": "text/x-python",
   "name": "python",
   "nbconvert_exporter": "python",
   "pygments_lexer": "ipython3",
   "version": "3.11.9"
  }
 },
 "nbformat": 4,
 "nbformat_minor": 2
}
