{
 "cells": [
  {
   "cell_type": "code",
   "execution_count": 19,
   "metadata": {},
   "outputs": [],
   "source": [
    "import opensim as osim\n",
    "import numpy as np\n",
    "import hyperobjects as ho\n",
    "import common\n",
    "import clifford as cf\n",
    "from clifford import g3c\n",
    "import clifford.tools.g3c as g3c_tools\n",
    "from enum import Enum\n",
    "\n",
    "\n",
    "G3c, blades_g3c, stuff = g3c.layout, g3c.blades, g3c.stuff\n",
    "\n",
    "e1, e2, e3 = g3c.e1, g3c.e2, g3c.e3\n",
    "e12, e13, e23 = g3c.e12, g3c.e13, g3c.e23\n",
    "e31 = -e13\n",
    "Px, Py, Pz = g3c.e23, -g3c.e13, g3c.e12\n",
    "up, down, homo = g3c.up, g3c.down, g3c.homo\n",
    "no, ni = g3c.eo, g3c.einf\n",
    "E0 = g3c.E0\n",
    "I_base = g3c.I_base\n",
    "\n",
    "def vec_to_numpy(p):\n",
    "    return np.array([p | e1, p | e2, p | e3]).astype(float)\n",
    "\n",
    "def osim_rotation_to_numpy(R: osim.Rotation):\n",
    "    M = np.empty((3,3))\n",
    "    for i in range(3):\n",
    "        for j in range(3):\n",
    "            M[i, j] = R.get(i,j)\n",
    "    return M\n",
    "\n",
    "\n",
    "def to_vector(v):\n",
    "    if isinstance(v, osim.Vec3):\n",
    "        v = v.to_numpy()\n",
    "    return v[0]*e1 + v[1]*e2 + v[2]*e3\n",
    "\n",
    "def to_point(p):\n",
    "    return up(to_vector(p))\n",
    "\n",
    "class MultiVectorType(Enum):\n",
    "    NotBlade = -1\n",
    "    Vector = 0\n",
    "    EuclideanPoint = 1\n",
    "    ConformalPoint = 2\n",
    "    PointPair = 3\n",
    "    Circle = 4\n",
    "    Line = 5\n",
    "    Sphere = 6\n",
    "    Plane = 7\n",
    "\n",
    "def blade_type(mv):\n",
    "    if not isinstance(mv, cf.MultiVector):\n",
    "        return MultiVectorType.NotBlade\n",
    "    \n",
    "    obj = g3c_tools.interpret_multivector_as_object(mv)\n",
    "    if obj == -1:\n",
    "        return MultiVectorType.NotBlade\n",
    "    elif obj == 0:\n",
    "        return MultiVectorType.Vector\n",
    "    elif obj == 1:\n",
    "        return MultiVectorType.EuclideanPoint\n",
    "    elif obj == 2:\n",
    "        return MultiVectorType.ConformalPoint\n",
    "    elif obj == 3:\n",
    "        return MultiVectorType.PointPair\n",
    "    elif obj == 4:\n",
    "        return MultiVectorType.Circle\n",
    "    elif obj == 5:\n",
    "        return MultiVectorType.Line\n",
    "    elif obj == 6:\n",
    "        return MultiVectorType.Sphere\n",
    "    elif obj == 7:\n",
    "        return MultiVectorType.Plane\n",
    "    \n",
    "\n",
    "def to_array(mv):\n",
    "    b_type = blade_type(mv)\n",
    "    if b_type == MultiVectorType.Vector:\n",
    "        return np.array([mv | e1, mv | e2, mv | e3]).astype(float)\n",
    "    elif b_type == MultiVectorType.EuclideanPoint:\n",
    "        return np.array([mv | e1, mv | e2, mv | e3]).astype(float)\n",
    "    elif b_type == MultiVectorType.ConformalPoint:\n",
    "        mv = down(mv)\n",
    "        return np.array([mv | e1, mv | e2, mv | e3]).astype(float)\n",
    "    elif b_type == MultiVectorType.Line:\n",
    "        # return position then direction\n",
    "        P, D = g3c_tools.line_to_point_and_direction(mv)\n",
    "        if P == 0:\n",
    "            return [np.array([0,0,0]), to_array(D)]\n",
    "        return [to_array(P), to_array(D)]\n",
    "    elif b_type == MultiVectorType.Plane:\n",
    "        # return orthogonal proj of origin onto it THEN normal\n",
    "        location = g3c_tools.get_nearest_plane_point(mv)\n",
    "        normal = g3c_tools.get_plane_normal(mv)\n",
    "        if location == 0:\n",
    "            return [np.array([0,0,0]), to_array(normal)]\n",
    "        return [to_array(location), to_array(normal)]\n",
    "    else:\n",
    "        raise TypeError(f\"Can't convert {b_type} as numpy array.\")\n"
   ]
  },
  {
   "cell_type": "code",
   "execution_count": 131,
   "metadata": {},
   "outputs": [
    {
     "name": "stdout",
     "output_type": "stream",
     "text": [
      "-(204.19852^e124) - (204.19852^e125) - (11.71649^e134) - (11.71649^e135) + (12.61597^e145) + (74.70903^e234) + (74.70903^e235) - (26.10094^e245) + (3.11812^e345)\n",
      "-(204.19852^e124) - (204.19852^e125) - (11.71649^e134) - (11.71649^e135) + (12.61597^e145) + (74.70903^e234) + (74.70903^e235) - (26.10094^e245) + (3.11812^e345)\n",
      "-(204.19852^e124) - (204.19852^e125) - (11.71649^e134) - (11.71649^e135) + (74.70903^e234) + (74.70903^e235)\n",
      "(53.09634^e124) + (53.09634^e125) + (210.07079^e134) + (210.07079^e135) - (21.60546^e234) - (21.60546^e235)\n",
      "(350.89212^e124) + (350.89212^e125) - (41.23979^e134) - (41.23979^e135) + (23.29866^e145) - (265.83585^e234) - (265.83585^e235) + (2.00558^e245) + (17.41535^e345)\n",
      "j (350.89212^e124) + (350.89212^e125) - (41.23979^e134) - (41.23979^e135) + (23.29866^e145) - (265.83585^e234) - (265.83585^e235) + (2.00558^e245) + (17.41535^e345)\n",
      "h (350.89212^e124) + (350.89212^e125) - (41.23979^e134) - (41.23979^e135) - (265.83585^e234) - (265.83585^e235)\n",
      "h (53.09634^e124) + (53.09634^e125) + (210.07079^e134) + (210.07079^e135) - (21.60546^e234) - (21.60546^e235)\n",
      "(350.89212^e124) + (350.89212^e125) - (41.23979^e134) - (41.23979^e135) - (265.83585^e234) - (265.83585^e235)\n",
      "(350.89212^e124) + (350.89212^e125) - (41.23979^e134) - (41.23979^e135) - (265.83585^e234) - (265.83585^e235)\n"
     ]
    }
   ],
   "source": [
    "p = g3c_tools.random_conformal_point()\n",
    "q = g3c_tools.random_conformal_point()\n",
    "R = g3c_tools.random_rotation_translation_rotor()\n",
    "\n",
    "D = no^(q-p)^ni\n",
    "M = down(p) ^ (q-p) ^ ni\n",
    "L = p^q^ni\n",
    "print(L)\n",
    "print(D + M)\n",
    "print(M)\n",
    "\n",
    "M2 = R * M * ~R\n",
    "D2 = R*D*~R\n",
    "print(M2)\n",
    "# print(D2)\n",
    "print(D2 + M2)\n",
    "print('j', R * L * ~R)\n",
    "\n",
    "L2 = R * L * ~R\n",
    "_, D2 = g3c_tools.line_to_point_and_direction(L2)\n",
    "D2 = no^D2^ni\n",
    "# print(D2)\n",
    "print(\"h\", L2 - D2)\n",
    "print(\"h\", M2)\n",
    "\n",
    "print(down(R * p * ~R) ^ (R * (q - p) * ~R) ^ ni)\n",
    "print((down(R * p * ~R) ^ (R * (q - p) * ~R) ^ ni))"
   ]
  },
  {
   "cell_type": "code",
   "execution_count": 132,
   "metadata": {},
   "outputs": [
    {
     "name": "stdout",
     "output_type": "stream",
     "text": [
      "-(204.19852^e12) - (11.71649^e13) + (1001.06326^e14) + (1001.06326^e15) + (74.70903^e23) + (2177.57579^e24) + (2177.57579^e25) + (491.19856^e34) + (491.19856^e35)\n"
     ]
    }
   ],
   "source": [
    "print(down(p) ^ (q-p))"
   ]
  },
  {
   "cell_type": "code",
   "execution_count": 61,
   "metadata": {},
   "outputs": [
    {
     "name": "stdout",
     "output_type": "stream",
     "text": [
      "(1^e12) - (2^e13) + (1^e23)\n",
      "-(1^e1245) + (2^e1345) - (1^e2345)\n",
      "MultiVectorType.PointPair\n",
      "MultiVectorType.Sphere\n",
      "MultiVectorType.Vector\n",
      "MultiVectorType.Plane\n",
      "(1.0^e1) + (2.0^e2) + (1.0^e3) - (22.4886^e4) - (22.4886^e5)\n"
     ]
    }
   ],
   "source": [
    "print(v2)\n",
    "print(v.dual())\n",
    "print(blade_type(v2))\n",
    "print(blade_type(v.dual()))\n",
    "\n",
    "v3 = v + (g3c_tools.random_euc_mv() | v)*ni\n",
    "print(blade_type(v3))\n",
    "print(blade_type(v3.dual()))\n",
    "print(v3)"
   ]
  },
  {
   "cell_type": "code",
   "execution_count": 72,
   "metadata": {},
   "outputs": [
    {
     "name": "stdout",
     "output_type": "stream",
     "text": [
      "2\n",
      "2\n",
      "(1^e123)\n",
      "(1^e12) - (2^e13) + (1^e23)\n",
      "-(1^e1) - (2^e2) - (1^e3)\n",
      "(1^e145) + (2^e245) + (1^e345)\n",
      "MultiVectorType.Line\n"
     ]
    }
   ],
   "source": [
    "W = (e1^e2^e3)\n",
    "W | v\n",
    "print(e2 | v)\n",
    "print((-e2 ^ v.dual()).dual())\n",
    "print((-(e1^e2) | v.dual()).dual())\n",
    "print((e1^e2^e3) * v)\n",
    "print((e1^e2^e3) * v2)\n",
    "print((e1^e2^e3) * v.dual())\n",
    "print(blade_type(((e1 + e2 + e3) | v.dual())))"
   ]
  },
  {
   "cell_type": "code",
   "execution_count": null,
   "metadata": {},
   "outputs": [],
   "source": []
  },
  {
   "cell_type": "code",
   "execution_count": 15,
   "metadata": {},
   "outputs": [
    {
     "name": "stdout",
     "output_type": "stream",
     "text": [
      "MultiVectorType.Line\n",
      "-(4.88838^e1245) - (4.13645^e1345) + (4.54096^e2345)\n",
      "MultiVectorType.NotBlade\n"
     ]
    }
   ],
   "source": [
    "# A = e1 + e2 + e3\n",
    "# print(A.dual())\n",
    "# blade_type(A.dual())\n",
    "# I = no^e1^e2^e3^ni\n",
    "# print(I)\n",
    "# print((A / ~I))\n",
    "\n",
    "RI1 = g3c_tools.random_rotation_translation_rotor()\n",
    "RI2 = g3c_tools.random_rotation_translation_rotor()\n",
    "O = g3c_tools.random_conformal_point()\n",
    "I = g3c_tools.random_conformal_point()\n",
    "I1 = g3c_tools.apply_rotor(I, RI1)\n",
    "I2 = g3c_tools.apply_rotor(I, RI2)\n",
    "L1 = O ^ I1 ^ ni\n",
    "L2 = O ^ I2 ^ ni\n",
    "\n",
    "print(blade_type(L1))\n",
    "\n",
    "d1 = no ^ (I1 - O).normal() ^ ni\n",
    "m1 = down(O) ^ down(I1) ^ ni\n",
    "\n",
    "d2 = no ^ (I2 - O).normal() ^ ni\n",
    "m2 = down(O) ^ down(I2) ^ ni\n",
    "\n",
    "t1 = g3c_tools.apply_rotor(d1, ~RI1)\n",
    "t2 = g3c_tools.apply_rotor(d2, ~RI2)\n",
    "\n",
    "P1 = no ^ g3c_tools.apply_rotor(down(O), ~RI1) ^ g3c_tools.apply_rotor((I1 - O).normal(), ~RI1) ^ ni\n",
    "P2 = no ^ g3c_tools.apply_rotor(down(O), ~RI2) ^ g3c_tools.apply_rotor((I2 - O).normal(), ~RI2) ^ ni\n",
    "print(P1)\n",
    "\n",
    "print(blade_type(d1 / d2))\n",
    "M = (I1 - O).normal() / (I2 - O).normal()\n",
    "LA = g3c_tools.apply_rotor(no^(I1 - O)^ni, ~RI1)\n",
    "LB = g3c_tools.apply_rotor(no^(I2 - O)^ni, ~RI2)\n",
    "# print(blade_type(LA))\n",
    "# print(blade_type(LA))\n",
    "p =  ~RI1 * no * RI1\n",
    "n =  ~RI1 * (I1 - O).normal() * RI1\n",
    "q =  ~RI2 * no * RI2\n",
    "m =  ~RI2 * (I2 - O).normal() * RI2\n"
   ]
  },
  {
   "cell_type": "code",
   "execution_count": 4,
   "metadata": {},
   "outputs": [],
   "source": []
  },
  {
   "cell_type": "code",
   "execution_count": 17,
   "metadata": {},
   "outputs": [
    {
     "name": "stdout",
     "output_type": "stream",
     "text": [
      "-(0.91271^e12) + (0.38308^e13) + (4.39293^e14) + (4.39293^e15) - (0.14219^e23) - (0.37202^e24) - (0.37202^e25) + (2.81656^e34) + (2.81656^e35)\n",
      "0.37355 - (0.84663^e12) + (0.35535^e13) + (4.07492^e14) + (4.07492^e15) - (0.1319^e23) - (0.34509^e24) - (0.34509^e25) + (2.61266^e34) + (2.61266^e35) - (7.03193^e1234) - (7.03193^e1235)\n",
      "0.37355 - (0.84663^e12) + (0.35535^e13) + (3.86489^e14) + (3.86489^e15) - (0.1319^e23) - (0.91093^e24) - (0.91093^e25) + (1.26453^e34) + (1.26453^e35) - (3.36408^e1234) - (3.36408^e1235)\n",
      "MultiVectorType.NotBlade\n",
      "(164.94404^e1234) + (164.94404^e1235) - (12.29536^e1245) - (30.89503^e1345) - (25.78184^e2345)\n",
      "-(2.96112^e123) - (241.03041^e124) - (241.94312^e125) + (115.17492^e134) + (115.558^e135) + (4.39293^e145) + (18.47497^e234) + (18.33278^e235) - (0.37202^e245) + (2.81656^e345)\n",
      "(4.69876^e1) - (8.86161^e2) + (6.33213^e3) + (33.20875^e4) + (33.20875^e5)\n",
      "(33.20875^e1234) + (33.20875^e1235) - (3.51557^e1245) - (8.48959^e1345) - (0.30583^e2345)\n"
     ]
    }
   ],
   "source": [
    "# print((m*n) + ((n << (down(q) ^ m)) - (m << (down(p) ^ n)) - (down(p) - down(q))^m^n^ni))\n",
    "# print((q ^ m ^ ni) * (ni ^ p ^ n))\n",
    "# print( (-m*n) + ((q^m)*ni*n) - (m*ni*(p^n)))\n",
    "# print( (m*n) + ((q^m^ni)*n) - (m*(ni^p^n)))\n",
    "# print( (m*n) + ((- ((q^m) | n) - (m | (p ^ n))) ^ ni) + (q^m^ni^n) - (m^ni^p^n))\n",
    "# print((m*n) + (((n << (q^m)) - (m << (p ^ n))) ^ ni) + ((q-p)^m^ni^n))\n",
    "\n",
    "rotor = (q ^ m ^ ni) * (ni ^ p ^ n)\n",
    "theta = 2 * np.arccos(float(rotor(0)))\n",
    "bivec = rotor(2).normal()\n",
    "print(bivec)\n",
    "print(rotor)\n",
    "print(np.exp(theta*0.5*bivec))\n",
    "print(blade_type(bivec.dual()))\n",
    "print(I1 ^ bivec.dual())\n",
    "print(I2 ^ bivec)\n",
    "print(O | bivec)\n",
    "print(down(O) ^ bivec.dual())\n",
    "\n"
   ]
  },
  {
   "cell_type": "code",
   "execution_count": 147,
   "metadata": {},
   "outputs": [
    {
     "data": {
      "text/plain": [
       "-0.82212 - (0.1469^e12) - (0.44443^e13) + (2.23633^e14) + (2.23633^e15) - (0.32408^e23) - (6.30806^e24) - (6.30806^e25) - (24.01725^e34) - (24.01725^e35)"
      ]
     },
     "execution_count": 147,
     "metadata": {},
     "output_type": "execute_result"
    }
   ],
   "source": [
    "m*n"
   ]
  },
  {
   "cell_type": "code",
   "execution_count": null,
   "metadata": {},
   "outputs": [
    {
     "data": {
      "text/plain": [
       "-0.82212 - (0.1469^e12) - (0.44443^e13) + (2.23633^e14) + (2.23633^e15) - (0.32408^e23) - (6.30806^e24) - (6.30806^e25) - (24.01725^e34) - (24.01725^e35)"
      ]
     },
     "metadata": {},
     "output_type": "display_data"
    }
   ],
   "source": [
    "m*n"
   ]
  },
  {
   "cell_type": "code",
   "execution_count": 15,
   "metadata": {},
   "outputs": [
    {
     "data": {
      "text/plain": [
       "(98.3089^e124) + (98.3089^e125) + (8.38509^e134) + (8.38509^e135) + (0.78046^e145) + (283.19321^e234) + (283.19321^e235) - (17.49777^e245) - (3.74066^e345)"
      ]
     },
     "execution_count": 15,
     "metadata": {},
     "output_type": "execute_result"
    }
   ],
   "source": [
    "blade_type(LB)\n",
    "LB"
   ]
  },
  {
   "cell_type": "code",
   "execution_count": 47,
   "metadata": {},
   "outputs": [
    {
     "name": "stdout",
     "output_type": "stream",
     "text": [
      "(36507.31383^e14) + (36507.31383^e15) + (20005.40143^e24) + (20005.40143^e25) + (135959.16515^e34) + (135959.16515^e35) + (11338.98738^e45)\n",
      "(36507.31383^e14) + (36507.31383^e15) + (20005.40143^e24) + (20005.40143^e25) + (135959.16515^e34) + (135959.16515^e35)\n",
      "(139184.45651^e14) + (139184.45651^e15) + (92828.16446^e24) + (92828.16446^e25) - (230441.15445^e34) - (230441.15445^e35)\n",
      "-(11338.98738^e4) - (11338.98738^e5)\n",
      "0\n",
      "0\n",
      "0\n",
      "11338.98738 - (0.0^e12) - (0.0^e14) - (0.0^e15) + (0.0^e23) - (0.0^e24) - (0.0^e25) + (0.0^e34) + (0.0^e35) + (0.0^e1234) + (0.0^e1235)\n"
     ]
    }
   ],
   "source": [
    "blade_type(g3c_tools.meet(LA, LB))\n",
    "t = g3c_tools.meet(LA, LB)\n",
    "t = t.clean(1e-8)\n",
    "t\n",
    "print(O ^ t)\n",
    "print(down(O) ^ t)\n",
    "print(down(I) ^ t)\n",
    "print(t)\n",
    "print(down(O) | t)\n",
    "print(down(I) | t)\n",
    "print(down(I1) | t)\n",
    "print(I2 | t)"
   ]
  },
  {
   "cell_type": "code",
   "execution_count": 37,
   "metadata": {},
   "outputs": [
    {
     "data": {
      "text/plain": [
       "0.24742 + (0.95275^e12) - (0.1695^e13) + (2.29796^e14) + (2.29796^e15) + (0.04826^e23) + (0.43314^e24) + (0.43314^e25) - (0.25016^e34) - (0.25016^e35) - (0.2184^e1234) - (0.2184^e1235)"
      ]
     },
     "execution_count": 37,
     "metadata": {},
     "output_type": "execute_result"
    }
   ],
   "source": [
    "theta = 2 * np.arccos(float(Prot(0)))\n",
    "lm = np.exp((theta / 2) * (LA * LB)(2).normal())\n",
    "lm"
   ]
  },
  {
   "cell_type": "code",
   "execution_count": 302,
   "metadata": {},
   "outputs": [],
   "source": [
    "\n",
    "model = osim.Model()\n",
    "\n",
    "ground = model.getGround()\n",
    "bodyA = osim.Body(\"bodyA\", 1.0, osim.Vec3(0), osim.Inertia(0))\n",
    "bodyB = osim.Body(\"bodyB\", 2.0, osim.Vec3(0), osim.Inertia(0))\n",
    "bodyC = osim.Body(\"bodyC\", 1.0, osim.Vec3(0), osim.Inertia(0))\n",
    "bodyC = osim.Body(\"bodyC\", 1.0, osim.Vec3(0), osim.Inertia(0))\n",
    "\n",
    "joint0 = osim.WeldJoint(\"joint0\", ground, osim.Vec3(-1,1,2), osim.Vec3(np.pi/4, np.pi / 3, -np.pi/6), bodyA, osim.Vec3(-1,1,2), osim.Vec3(np.pi/4, np.pi / 3, -np.pi/6))\n",
    "joint1 = osim.FreeJoint(\"joint1\", bodyA, osim.Vec3(-1,0,0), osim.Vec3(0, np.pi / 3, -np.pi/6), bodyB, osim.Vec3(1,0,0), osim.Vec3(0))\n",
    "joint2 = osim.WeldJoint(\"joint2\", bodyB, osim.Vec3(-0.5,0,0), osim.Vec3(0), bodyC, osim.Vec3(0.1,0,0), osim.Vec3(0))\n",
    "# joint2 = osim.PinJoint(\"joint2\", bodyB, osim.Vec3(-0.5,0,0), osim.Vec3(0), bodyC, osim.Vec3(0.1,0,0), osim.Vec3(0), osim.Vec3(1,0.5,0.3))\n",
    "\n",
    "\n",
    "muscle = osim.Millard2012EquilibriumMuscle(\"muscle\",  # Muscle name\n",
    "                                           200.0,  # Max isometric force\n",
    "                                           0.6,  # Optimal fibre length\n",
    "                                           0.55,  # Tendon slack length\n",
    "                                           0.0)  # Pennation angle\n",
    "origin = osim.Vec3(0.9, 0.8, 0.8)\n",
    "muscle.addNewPathPoint(\"origin\", bodyA, origin)\n",
    "\n",
    "insertion = osim.Vec3(0.7, 0.7, 0.1)\n",
    "muscle.addNewPathPoint(\"insertion\", bodyC, insertion)\n",
    "\n",
    "model.addBody(bodyA)\n",
    "model.addBody(bodyB)\n",
    "model.addBody(bodyC)\n",
    "model.addJoint(joint0)\n",
    "model.addJoint(joint1)\n",
    "model.addJoint(joint2)\n",
    "model.addForce(muscle)\n",
    "\n",
    "state = model.initSystem()"
   ]
  },
  {
   "cell_type": "code",
   "execution_count": 307,
   "metadata": {},
   "outputs": [
    {
     "name": "stdout",
     "output_type": "stream",
     "text": [
      "[[-1.54  0.9   0.51  0.43  0.25  0.87]\n",
      " [ 3.5   2.02 -4.12 -0.5   0.87  0.  ]\n",
      " [-3.22  4.56 -0.89 -0.75 -0.43  0.5 ]]\n",
      "[[ 0.43  0.25  0.87  0.    0.    0.  ]\n",
      " [-0.5   0.87  0.    0.    0.    0.  ]\n",
      " [-0.75 -0.43  0.5   0.    0.    0.  ]]\n",
      "[[-1.54  0.9   0.51  0.43  0.25  0.87]\n",
      " [ 3.5   2.02 -4.12 -0.5   0.87  0.  ]\n",
      " [-3.22  4.56 -0.89 -0.75 -0.43  0.5 ]\n",
      " [ 0.43  0.25  0.87  0.    0.    0.  ]\n",
      " [-0.5   0.87  0.    0.    0.    0.  ]\n",
      " [-0.75 -0.43  0.5   0.    0.    0.  ]]\n"
     ]
    }
   ],
   "source": [
    "# POSTURE 1\n",
    "for c in model.getCoordinateSet():\n",
    "    c.setValue(state, np.random.uniform(-np.pi, np.pi))\n",
    "    # c.setValue(state, 0)\n",
    "model.equilibrateMuscles(state)\n",
    "\n",
    "J = common.station_jacobian(model, state, osim.Vec3(1,5,3), bodyC)\n",
    "print(J.round(2))\n",
    "\n",
    "Jw = common.frame_jacobian(model, state, bodyC)\n",
    "print(Jw.round(2))\n",
    "\n",
    "J = np.vstack([J, Jw])\n",
    "print(J.round(2))"
   ]
  },
  {
   "cell_type": "code",
   "execution_count": 308,
   "metadata": {},
   "outputs": [
    {
     "name": "stdout",
     "output_type": "stream",
     "text": [
      "joint1_coord_0\n",
      "joint1_coord_1\n",
      "joint1_coord_2\n",
      "joint1_coord_3\n",
      "joint1_coord_4\n",
      "joint1_coord_5\n"
     ]
    }
   ],
   "source": [
    "for c in model.getCoordinateSet():\n",
    "    print(c.getName())"
   ]
  },
  {
   "cell_type": "code",
   "execution_count": 401,
   "metadata": {},
   "outputs": [
    {
     "name": "stdout",
     "output_type": "stream",
     "text": [
      "[ 0.58737822  0.11656302 -0.84035879  0.49415577  0.74464362  0.44868246]\n",
      "M = -1.1545776820718348\n",
      "-(0.88976^e1) - (0.25223^e2) + (1.39853^e3) + (2.31118^e4) + (3.31118^e5)\n",
      "-(0.88976^e1) - (0.25223^e2) + (1.39853^e3)\n",
      "(0.53791^e124) + (0.53791^e125) + (1.09031^e134) + (1.09031^e135) - (0.49416^e145) + (1.15458^e234) + (1.15458^e235) - (0.74464^e245) - (0.44868^e345)\n",
      "\n",
      "(0.49416^e1)\n",
      "(0.74464^e2)\n",
      "(0.44868^e3)\n"
     ]
    }
   ],
   "source": [
    "\n",
    "lever_arms = np.array([muscle.computeMomentArm(state, c) for c in model.getCoordinateSet()])\n",
    "print(lever_arms)\n",
    "\n",
    "# j = bodyC\n",
    "O_in_ground = bodyA.findStationLocationInGround(state, origin).to_numpy()\n",
    "I_in_ground = bodyC.findStationLocationInGround(state, insertion).to_numpy()\n",
    "\n",
    "J1_frame = osim.PhysicalOffsetFrame.safeDownCast(joint1.getParentFrame())\n",
    "\n",
    "ground: osim.Ground = model.getGround()\n",
    "\n",
    "O_in_joint = bodyA.findStationLocationInAnotherFrame(state, origin, J1_frame).to_numpy()\n",
    "I_in_joint = bodyC.findStationLocationInAnotherFrame(state, insertion, J1_frame).to_numpy()\n",
    "\n",
    "\n",
    "\n",
    "# t1 = np.random.uniform(600,1200) \n",
    "# W1 = np.vstack([ground.expressVectorInAnotherFrame(state, osim.Vec3(*Jw[:, i]), J1_frame).to_numpy() for i in [0,1,2]])\n",
    "# g1 = t1 * W1 @ (np.cross(I_in_joint, O_in_joint) / np.linalg.norm(u_in_joint))\n",
    "\n",
    "# # Rotations\n",
    "# print(ground.expressVectorInAnotherFrame(state, osim.Vec3(*Jw[:, 0]), J1_frame).to_numpy().dot(np.cross(I_in_joint, O_in_joint) / np.linalg.norm(u_in_joint)))\n",
    "# print(ground.expressVectorInAnotherFrame(state, osim.Vec3(*Jw[:, 1]), J1_frame).to_numpy().dot(np.cross(I_in_joint, O_in_joint) / np.linalg.norm(u_in_joint)))\n",
    "# print(ground.expressVectorInAnotherFrame(state, osim.Vec3(*Jw[:, 2]), J1_frame).to_numpy().dot(np.cross(I_in_joint, O_in_joint) / np.linalg.norm(u_in_joint)))\n",
    "# print()\n",
    "\n",
    "# # Translations\n",
    "# print(ground.expressVectorInAnotherFrame(state, osim.Vec3(*J[:, 3]), J1_frame).to_numpy().dot(- u_in_joint / np.linalg.norm(u_in_joint)))\n",
    "# print(ground.expressVectorInAnotherFrame(state, osim.Vec3(*J[:, 4]), J1_frame).to_numpy().dot(- u_in_joint / np.linalg.norm(u_in_joint)))\n",
    "# print(ground.expressVectorInAnotherFrame(state, osim.Vec3(*J[:, 5]), J1_frame).to_numpy().dot(- u_in_joint / np.linalg.norm(u_in_joint)))\n",
    "\n",
    "print(\"M =\",ground.expressVectorInAnotherFrame(state, osim.Vec3(*J[3:, 0]), J1_frame).to_numpy().dot(np.cross(I_in_joint, O_in_joint) / np.linalg.norm(I_in_joint - O_in_joint)))\n",
    "\n",
    "O_in_joint_cf = to_point(O_in_joint)\n",
    "I_in_joint_cf = to_point(I_in_joint)\n",
    "L = (O_in_joint_cf ^ I_in_joint_cf ^ ni)\n",
    "\n",
    "k = (no | L) / L\n",
    "print(k)\n",
    "# print(J1_frame.expressVectorInGround(state, osim.Vec3(*to_array(k))))\n",
    "print(down(k))\n",
    "L =L.normal()\n",
    "\n",
    "print(L)\n",
    "print()\n",
    "print(L(no^e1^ni) | ~E0)\n",
    "print(L(no^e2^ni) | ~E0)\n",
    "print(L(no^e3^ni) | ~E0)"
   ]
  },
  {
   "cell_type": "code",
   "execution_count": 402,
   "metadata": {},
   "outputs": [
    {
     "data": {
      "text/plain": [
       "array([[ 4.33012702e-01,  2.50000000e-01,  8.66025404e-01],\n",
       "       [-5.00000000e-01,  8.66025404e-01,  6.44070374e-18],\n",
       "       [-7.50000000e-01, -4.33012702e-01,  5.00000000e-01]])"
      ]
     },
     "execution_count": 402,
     "metadata": {},
     "output_type": "execute_result"
    }
   ],
   "source": [
    "# // Get the transform of the child frame in the ground frame\n",
    "transform: osim.Transform = J1_frame.getTransformInGround(state)\n",
    "# // Extract the rotation matrix\n",
    "rotationMatrix: osim.Rotation = transform.R()\n",
    "\n",
    "r = np.empty((3,3))\n",
    "for i in [0,1,2]:\n",
    "    for j in [0,1,2]:\n",
    "        r[i,j] = rotationMatrix.toMat33().get(i,j)\n",
    "\n",
    "r"
   ]
  },
  {
   "cell_type": "code",
   "execution_count": 406,
   "metadata": {},
   "outputs": [
    {
     "data": {
      "text/plain": [
       "array([-2.32113328e-16,  4.48682456e-01, -7.44643624e-01])"
      ]
     },
     "execution_count": 406,
     "metadata": {},
     "output_type": "execute_result"
    }
   ],
   "source": [
    "\n",
    "rx = ground.expressVectorInAnotherFrame(state, osim.Vec3(*r[:,0]), J1_frame).to_numpy()\n",
    "# rx = r[:, 0]\n",
    "np.cross(rx, (I_in_joint - O_in_joint)/np.linalg.norm(I_in_joint - O_in_joint))"
   ]
  },
  {
   "cell_type": "code",
   "execution_count": 364,
   "metadata": {},
   "outputs": [
    {
     "ename": "AttributeError",
     "evalue": "'Coordinate' object has no attribute 'getAngularVelocity'",
     "output_type": "error",
     "traceback": [
      "\u001b[1;31m---------------------------------------------------------------------------\u001b[0m",
      "\u001b[1;31mAttributeError\u001b[0m                            Traceback (most recent call last)",
      "Cell \u001b[1;32mIn[364], line 1\u001b[0m\n\u001b[1;32m----> 1\u001b[0m \u001b[43mmodel\u001b[49m\u001b[38;5;241;43m.\u001b[39;49m\u001b[43mgetCoordinateSet\u001b[49m\u001b[43m(\u001b[49m\u001b[43m)\u001b[49m\u001b[38;5;241;43m.\u001b[39;49m\u001b[43mget\u001b[49m\u001b[43m(\u001b[49m\u001b[38;5;241;43m0\u001b[39;49m\u001b[43m)\u001b[49m\u001b[38;5;241;43m.\u001b[39;49m\u001b[43mgetAngularVelocity\u001b[49m()\n",
      "\u001b[1;31mAttributeError\u001b[0m: 'Coordinate' object has no attribute 'getAngularVelocity'"
     ]
    }
   ],
   "source": [
    "model.getCoordinateSet().get(0).getAngularVelocity()"
   ]
  },
  {
   "cell_type": "code",
   "execution_count": 363,
   "metadata": {},
   "outputs": [
    {
     "name": "stdout",
     "output_type": "stream",
     "text": [
      "(0.43301^e14) + (0.43301^e15) - (0.5^e24) - (0.5^e25) - (0.75^e34) - (0.75^e35)\n",
      "-(0.49416^e1) - (0.74464^e2) - (0.44868^e3)\n",
      "-(0.70844^e1) - (0.49721^e2) - (0.07754^e3)\n",
      "0.8689738957861244\n"
     ]
    }
   ],
   "source": [
    "pl = (J[0, 3]*e1*ni) + (J[1, 3]*e2*ni) + (J[2, 3]*e3*ni) \n",
    "print(pl)\n",
    "\n",
    "# print(blade_type(pl))\n",
    "pos, d = g3c_tools.line_to_point_and_direction(L)\n",
    "print(d)\n",
    "n = to_vector(J[:3, 3])\n",
    "print(d - (d|n)*n)\n",
    "print(abs(d - (d|n)*n))"
   ]
  },
  {
   "cell_type": "code",
   "execution_count": 326,
   "metadata": {},
   "outputs": [
    {
     "name": "stdout",
     "output_type": "stream",
     "text": [
      "[ 0.         0.         0.         0.4330127 -0.5       -0.75     ]\n",
      "(1^e1)\n",
      "(1.15458^e234) + (1.15458^e235) - (0.74464^e245) - (0.44868^e345)\n",
      "0.869373379322482\n"
     ]
    }
   ],
   "source": [
    "rotationAxis: osim.Coordinate = osim.Coordinate.safeDownCast(joint1.getCoordinate(0))\n",
    "axis = np.array([0, 0, 0] + J[3:, 0].tolist())\n",
    "print(axis)\n",
    "n = to_vector(J[3:, 0])\n",
    "n = to_vector([1,0,0])\n",
    "print(n)\n",
    "Lp = L - (L | n)*n\n",
    "# Lp = (L | n) / n\n",
    "print(Lp)\n",
    "print(abs(Lp))\n",
    "# a = fd"
   ]
  },
  {
   "cell_type": "code",
   "execution_count": 298,
   "metadata": {},
   "outputs": [
    {
     "data": {
      "text/plain": [
       "array([[-2.91,  3.49,  0.45,  0.43,  0.25,  0.87],\n",
       "       [ 0.83,  0.48, -5.71, -0.5 ,  0.87,  0.  ],\n",
       "       [-2.23,  2.97, -0.77, -0.75, -0.43,  0.5 ],\n",
       "       [ 0.43,  0.25,  0.87,  0.  ,  0.  ,  0.  ],\n",
       "       [-0.5 ,  0.87,  0.  ,  0.  ,  0.  ,  0.  ],\n",
       "       [-0.75, -0.43,  0.5 ,  0.  ,  0.  ,  0.  ]])"
      ]
     },
     "execution_count": 298,
     "metadata": {},
     "output_type": "execute_result"
    }
   ],
   "source": []
  },
  {
   "cell_type": "code",
   "execution_count": 296,
   "metadata": {},
   "outputs": [
    {
     "data": {
      "text/plain": [
       "-0.09738 - (0.95397^e12) - (0.12779^e13) + (1.97233^e14) + (1.97233^e15) - (0.25324^e23) - (8.58553^e24) - (8.58553^e25) - (2.71368^e34) - (2.71368^e35) - (10.18885^e1234) - (10.18885^e1235)"
      ]
     },
     "execution_count": 296,
     "metadata": {},
     "output_type": "execute_result"
    }
   ],
   "source": [
    "g3c_tools.random_line() / g3c_tools.random_line()"
   ]
  },
  {
   "cell_type": "code",
   "execution_count": 233,
   "metadata": {},
   "outputs": [
    {
     "data": {
      "text/plain": [
       "(0.9172^e2) + (0.39843^e3)"
      ]
     },
     "execution_count": 233,
     "metadata": {},
     "output_type": "execute_result"
    }
   ],
   "source": [
    "(((O_in_joint_cf - I_in_joint_cf) | Px) / Px).normal()"
   ]
  },
  {
   "cell_type": "code",
   "execution_count": 212,
   "metadata": {},
   "outputs": [
    {
     "name": "stdout",
     "output_type": "stream",
     "text": [
      "1.45903 0.61976 -0.12243\n"
     ]
    },
    {
     "data": {
      "text/plain": [
       "array([ 0.68069082, -0.19278995, -1.42385074])"
      ]
     },
     "execution_count": 212,
     "metadata": {},
     "output_type": "execute_result"
    }
   ],
   "source": [
    "rx = L | (Px^no)\n",
    "ry = L | (Py^no)\n",
    "rz = L | (Pz^no)\n",
    "\n",
    "print(rx, ry, rz)\n",
    "np.array([rx, ry, rz]).astype(float)\n",
    "(J[3:, :3]) @ np.array([rx, ry, rz]).astype(float)"
   ]
  },
  {
   "cell_type": "code",
   "execution_count": null,
   "metadata": {},
   "outputs": [],
   "source": []
  },
  {
   "cell_type": "code",
   "execution_count": 151,
   "metadata": {},
   "outputs": [
    {
     "name": "stdout",
     "output_type": "stream",
     "text": [
      "[ 1.  0. -0.]\n",
      "[ 0.  1. -0.]\n",
      "[-0. -0.  1.]\n",
      "[ 1.  0. -0.]\n",
      "[ 0.  1. -0.]\n",
      "[-0. -0.  1.]\n"
     ]
    }
   ],
   "source": [
    "w1_in_joint = model.getGround().expressVectorInAnotherFrame(state, osim.Vec3(*J[3:, 0]), J1_frame).to_numpy()\n",
    "print(w1_in_joint.round(4))\n",
    "\n",
    "w2_in_joint = model.getGround().expressVectorInAnotherFrame(state, osim.Vec3(*J[3:, 1]), J1_frame).to_numpy()\n",
    "print(w2_in_joint.round(4))\n",
    "\n",
    "w3_in_joint = model.getGround().expressVectorInAnotherFrame(state, osim.Vec3(*J[3:, 2]), J1_frame).to_numpy()\n",
    "print(w3_in_joint.round(4))\n",
    "\n",
    "w4_in_joint = model.getGround().expressVectorInAnotherFrame(state, osim.Vec3(*J[:3, 3]), J1_frame).to_numpy()\n",
    "print(w4_in_joint.round(4))\n",
    "\n",
    "w5_in_joint = model.getGround().expressVectorInAnotherFrame(state, osim.Vec3(*J[:3, 4]), J1_frame).to_numpy()\n",
    "print(w5_in_joint.round(4))\n",
    "\n",
    "w6_in_joint = model.getGround().expressVectorInAnotherFrame(state, osim.Vec3(*J[:3, 5]), J1_frame).to_numpy()\n",
    "print(w6_in_joint.round(4))"
   ]
  },
  {
   "cell_type": "code",
   "execution_count": 154,
   "metadata": {},
   "outputs": [
    {
     "name": "stdout",
     "output_type": "stream",
     "text": [
      "[ 0.         0.         0.         0.4330127 -0.5       -0.75     ]\n",
      "[ 0.         0.         0.         0.25       0.8660254 -0.4330127]\n"
     ]
    }
   ],
   "source": [
    "L1 = J[:,0]\n",
    "L1[:3] = 0\n",
    "print(L1)\n",
    "L2 = J[:,1]\n",
    "L2[:3] = 0\n",
    "print(L2)"
   ]
  },
  {
   "cell_type": "code",
   "execution_count": 39,
   "metadata": {},
   "outputs": [
    {
     "data": {
      "text/plain": [
       "-(1.0^e45)"
      ]
     },
     "execution_count": 39,
     "metadata": {},
     "output_type": "execute_result"
    }
   ],
   "source": [
    "no^ni"
   ]
  },
  {
   "cell_type": "code",
   "execution_count": 264,
   "metadata": {},
   "outputs": [
    {
     "name": "stdout",
     "output_type": "stream",
     "text": [
      "<opensim.simbody.State; proxy of <Swig Object of type 'SimTK::State *' at 0x000002C5286714D0> >\n",
      "[ 0.65727173 -0.26644266  0.16396265 -0.70016109]\n",
      "\n",
      "[ 0.65727173 -0.26644266  0.16396265 -0.70016109]\n",
      "[ 700.87443647 -284.11818727  174.83976241]\n",
      "[ 0.65727173 -0.26644266  0.16396265]\n",
      "\n",
      "0.6572717306264522\n",
      "-0.266442664945883\n",
      "0.16396265470854365\n",
      "~[0,1,0]\n",
      "(0.65727^e1) - (0.26644^e2) + (0.16396^e3)\n",
      "-(0.26644^e4) - (0.26644^e5)\n",
      "(0.26644^e1234) + (0.26644^e1235)\n",
      "h -0.266442664945883 j -(0.26644^e4) - (0.26644^e5)\n",
      "[ 0.65727173 -0.26644266  0.16396265]\n",
      "0\n",
      "(1.0^e14) + (1.0^e15) + (2.46684^e24) + (2.46684^e25)\n",
      "-(0.16396^e1245) - (0.26644^e1345) - (0.65727^e2345)\n",
      "0\n",
      "-(0.16396^e1245) - (0.26644^e1345) - (0.65727^e2345)\n",
      "(1.0^e124) + (1.0^e125)\n",
      "0\n"
     ]
    }
   ],
   "source": [
    "# POSTURE 2\n",
    "state2 = osim.State(state)\n",
    "print(state2)\n",
    "for c in model.getCoordinateSet():\n",
    "    c.setValue(state2, np.random.uniform(-np.pi, np.pi))\n",
    "model.equilibrateMuscles(state2)\n",
    "\n",
    "lever_arms = np.array([muscle.computeMomentArm(state2, c) for c in model.getCoordinateSet()])\n",
    "print(lever_arms)\n",
    "\n",
    "J = common.station_jacobian(model, state2, osim.Vec3(4,0,3), bodyC)\n",
    "Jw = common.frame_jacobian(model, state2, bodyC)[:3,:]\n",
    "\n",
    "j = joint1.getParentFrame()\n",
    "# j = bodyC\n",
    "O_in_ground = bodyA.findStationLocationInGround(state2, origin).to_numpy()\n",
    "I_in_ground = bodyC.findStationLocationInGround(state2, insertion).to_numpy()\n",
    "\n",
    "O_in_j1 = bodyA.findStationLocationInAnotherFrame(state2, origin, joint1.getParentFrame()).to_numpy()\n",
    "I_in_j1 = bodyC.findStationLocationInAnotherFrame(state2, insertion, joint1.getParentFrame()).to_numpy()\n",
    "\n",
    "O_in_j2 = bodyA.findStationLocationInAnotherFrame(state2, origin, joint2.getParentFrame()).to_numpy()\n",
    "I_in_j2 = bodyC.findStationLocationInAnotherFrame(state2, insertion, joint2.getParentFrame()).to_numpy()\n",
    "\n",
    "\n",
    "# print(O_in_ground)\n",
    "# print(I_in_ground)\n",
    "\n",
    "u_in_ground = I_in_ground - O_in_ground\n",
    "u1 = I_in_j1 - O_in_j1\n",
    "u2 = I_in_j2 - O_in_j2\n",
    "\n",
    "print()\n",
    "print(lever_arms)\n",
    "ground: osim.Ground = model.getGround()\n",
    "\n",
    "t2 = np.random.uniform(600,1200) \n",
    "W2 = np.vstack([ground.expressVectorInAnotherFrame(state2, osim.Vec3(*Jw[:, i]), joint1.getParentFrame()).to_numpy() for i in [0,1,2]])\n",
    "g2 = t2 * W2 @ (np.cross(I_in_j1, O_in_j1) / np.linalg.norm(u1))\n",
    "print(g2)\n",
    "print(g2/t2)\n",
    "print()\n",
    "print(ground.expressVectorInAnotherFrame(state2, osim.Vec3(*Jw[:, 0]), joint1.getParentFrame()).to_numpy().dot(np.cross(I_in_j1, O_in_j1) / np.linalg.norm(u1)))\n",
    "print(ground.expressVectorInAnotherFrame(state2, osim.Vec3(*Jw[:, 1]), joint1.getParentFrame()).to_numpy().dot(np.cross(I_in_j1, O_in_j1) / np.linalg.norm(u1)))\n",
    "print(ground.expressVectorInAnotherFrame(state2, osim.Vec3(*Jw[:, 2]), joint1.getParentFrame()).to_numpy().dot(np.cross(I_in_j1, O_in_j1) / np.linalg.norm(u1)))\n",
    "# print()\n",
    "# print(ground.expressVectorInAnotherFrame(state, osim.Vec3(*Jw[:, 3]), joint2.getParentFrame()).to_numpy().dot(np.cross(u2, O_in_j2) / np.linalg.norm(u2)))\n",
    "# print(ground.expressVectorInAnotherFrame(state, osim.Vec3(*Jw[:, 4]), joint2.getParentFrame()).to_numpy().dot(np.cross(u2, O_in_j2) / np.linalg.norm(u2)))\n",
    "# print(ground.expressVectorInAnotherFrame(state, osim.Vec3(*Jw[:, 5]), joint2.getParentFrame()).to_numpy().dot(np.cross(u2, O_in_j2) / np.linalg.norm(u2)))\n",
    "\n",
    "# If translations\n",
    "# print(ground.expressVectorInAnotherFrame(state, osim.Vec3(*J[:, 3]), joint2.getParentFrame()).to_numpy().dot(- u2 / np.linalg.norm(u2)))\n",
    "# print(ground.expressVectorInAnotherFrame(state, osim.Vec3(*J[:, 4]), joint2.getParentFrame()).to_numpy().dot(- u2 / np.linalg.norm(u2)))\n",
    "# print(ground.expressVectorInAnotherFrame(state, osim.Vec3(*J[:, 5]), joint2.getParentFrame()).to_numpy().dot(- u2 / np.linalg.norm(u2)))\n",
    "\n",
    "print(ground.expressVectorInAnotherFrame(state2, osim.Vec3(*Jw[:, 1]), joint1.getParentFrame()))\n",
    "WW2 = ground.expressVectorInAnotherFrame(state2, osim.Vec3(*Jw[:, 1]), joint1.getParentFrame()).to_numpy()\n",
    "WW2 = WW2 @ np.array([e1, e2, e3])\n",
    "ww2 = WW2\n",
    "WW2 = WW2 ^ ni\n",
    "\n",
    "WW1 = ground.expressVectorInAnotherFrame(state2, osim.Vec3(*Jw[:, 0]), joint1.getParentFrame()).to_numpy()\n",
    "WW1 = WW1 @ np.array([e1, e2, e3])\n",
    "ww1 = WW1\n",
    "WW1 = WW1 ^ ni\n",
    "# print(WW2)\n",
    "# print(I_in_j1)\n",
    "Pdual = (np.cross(I_in_j1, O_in_j1) / np.linalg.norm(u1)) @ np.array([e1, e2, e3])\n",
    "normal = Pdual\n",
    "Ot = O_in_j1 @ np.array([e1, e2, e3])\n",
    "It = I_in_j1 @ np.array([e1, e2, e3])\n",
    "print(Pdual)\n",
    "fw = (g2/t2)[1]\n",
    "print((WW2 | Pdual) | (no^ni).inv())\n",
    "print((WW2 | Pdual).dual())\n",
    "print(\"h\", fw, \"j\", (fw*ni))\n",
    "\n",
    "print((g2/t2))\n",
    "G2 = g2/t2\n",
    "alpha = G2[1]/G2[0]\n",
    "# print(alpha*G2[0], G2[1])\n",
    "equa1_lh = -G2[0]^ni\n",
    "equa1_rh = WW1 | normal\n",
    "equa2_lh = -G2[1]^ni\n",
    "equa2_rh = WW2 | normal\n",
    "\n",
    "equa2_adapted_lh = -(G2[1]/alpha)^ni\n",
    "equa2_adapted_rh = (WW2/alpha) | normal\n",
    "# Now equa1 lh = equa2 lh\n",
    "print(equa1_rh - equa2_adapted_rh)\n",
    "\n",
    "LG = ((WW1-WW2/alpha))\n",
    "print(LG)\n",
    "print(normal.dual())\n",
    "\n",
    "print(LG ^ normal.dual())\n",
    "print(normal.dual())\n",
    "# print(LG)\n",
    "# print(WW2.join(WW1))\n",
    "print(ww1^ww2^ni)\n",
    "# print(G2[1]/alpha)\n",
    "# print(equa1_lh / equa2_lh)\n",
    "# print(-fw^ni)\n",
    "# print(((WW3) | (Ot^It^ni)))\n",
    "\n",
    "# normal = \n",
    "# WW1 = e1 + e2 + e3"
   ]
  },
  {
   "cell_type": "code",
   "execution_count": null,
   "metadata": {},
   "outputs": [],
   "source": []
  },
  {
   "cell_type": "code",
   "execution_count": 126,
   "metadata": {},
   "outputs": [
    {
     "name": "stdout",
     "output_type": "stream",
     "text": [
      "[ 0.00000000e+00 -2.77555756e-17  6.93889390e-18]\n",
      "[ 2.22044605e-16  5.55111512e-17 -6.93889390e-18]\n",
      "h [-0.96946277  1.10768818 -0.26441816]\n",
      "[ 0.28314    -0.10534595 -0.13891745]\n",
      "g [-0.72765675 -0.753431   -0.11585107]\n",
      "g [0.41686    0.80534595 0.23891745]\n",
      "[-0.03365256 -0.06785634 -0.99712738]\n",
      "[ 0.23032412 -0.02731577 -0.97273051]\n",
      "[0.7 0.7 0.1] [0.9 0.8 0.8]\n"
     ]
    }
   ],
   "source": [
    "M1 = np.linalg.inv(W1) @ (g1)\n",
    "M2 = np.linalg.inv(W2) @ (g2)\n",
    "\n",
    "P1 = ho.VectorSpace(M1)\n",
    "P2 = ho.VectorSpace(M2)\n",
    "print(P1.orthogonal_projection_matrix @ bodyC.findStationLocationInAnotherFrame(state, insertion, joint1.getParentFrame()).to_numpy())\n",
    "print(P2.orthogonal_projection_matrix @ bodyC.findStationLocationInAnotherFrame(state2, insertion, joint1.getParentFrame()).to_numpy())\n",
    "\n",
    "zero1_in_C = joint1.getParentFrame().findStationLocationInAnotherFrame(state, osim.Vec3(0), bodyC).to_numpy()\n",
    "zero2_in_C = joint1.getParentFrame().findStationLocationInAnotherFrame(state2, osim.Vec3(0),bodyC).to_numpy()\n",
    "\n",
    "zero1_in_A = joint1.getParentFrame().findStationLocationInAnotherFrame(state, osim.Vec3(0), bodyA).to_numpy()\n",
    "zero2_in_A = joint1.getParentFrame().findStationLocationInAnotherFrame(state2, osim.Vec3(0), bodyA).to_numpy()\n",
    "\n",
    "M1_I = joint1.getParentFrame().findStationLocationInAnotherFrame(state, osim.Vec3(*M1), bodyC).to_numpy()\n",
    "M2_I = joint1.getParentFrame().findStationLocationInAnotherFrame(state2, osim.Vec3(*M2),bodyC).to_numpy()\n",
    "# print(M1_I, M2_I)\n",
    "\n",
    "M1_O = joint1.getParentFrame().findStationLocationInAnotherFrame(state, osim.Vec3(*M1), bodyA).to_numpy()\n",
    "M2_O = joint1.getParentFrame().findStationLocationInAnotherFrame(state2, osim.Vec3(*M2), bodyA).to_numpy()\n",
    "# print(M1_O, M2_O)\n",
    "\n",
    "\n",
    "# # P1_I = ho.Line(M1_I - zero1_in_C)\n",
    "# # P1_I = ho.Plane(P1_I.generators, zero1_in_C)\n",
    "\n",
    "# P2_I = ~ho.VectorSpace(M2_I - zero2_in_C)\n",
    "# P2_I = ho.Plane(P2_I.generators, zero2_in_C)\n",
    "\n",
    "# L = P1_I & P2_I\n",
    "# print(\"gen\", L.generators.ravel(), L.location.ravel())\n",
    "# # print(L.generators.ravel() / np.linalg.norm(L.generators.ravel()))\n",
    "# k = insertion.to_numpy() - zero1_in_C\n",
    "# k = k /np.linalg.norm(k)\n",
    "# print(k)\n",
    "# # L_orth = ~L\n",
    "# # test = L_orth.orthogonal_projection_matrix @ (insertion.to_numpy() - L.location.ravel())\n",
    "# # print(\"test\", test)\n",
    "\n",
    "\n",
    "\n",
    "T1 = ho.AffineSpace(M1_I - zero1_in_C, zero1_in_C)\n",
    "T2 = ho.AffineSpace(M2_I - zero2_in_C, zero2_in_C)\n",
    "print(\"h\", (T1 & T2).location)\n",
    "# point_of_common = (T1 & T2).location.ravel()\n",
    "print(((~T1) & (~T2)).location)\n",
    "P_inter = (~T1) & (~T2)\n",
    "print(\"g\", P_inter.generators.ravel() - P_inter.location.ravel())\n",
    "print(\"g\", insertion.to_numpy() - P_inter.location.ravel())\n",
    "\n",
    "LI = np.cross(M1_I, M2)\n",
    "LI = LI / np.linalg.norm(LI) #we are in joint1 child frame\n",
    "print(LI)\n",
    "\n",
    "LI_ = joint1.getParentFrame().findStationLocationInAnotherFrame(state, osim.Vec3(*LI), bodyC).to_numpy()\n",
    "print(LI_ - zero1_in_C)\n",
    "d = LI_ - zero1_in_C\n",
    "d = d / np.linalg.norm(d)\n",
    "p = zero1_in_C\n",
    "# print(zero1_in_C)\n",
    "\n",
    "\n",
    "# LO = np.cross(M1_O, M2_O)\n",
    "# LI = LI / np.linalg.norm(LI)\n",
    "# LO = LO / np.linalg.norm(LO)\n",
    "# print(LI, LO)\n",
    "print(insertion.to_numpy(), origin.to_numpy())"
   ]
  },
  {
   "cell_type": "code",
   "execution_count": 128,
   "metadata": {},
   "outputs": [
    {
     "name": "stdout",
     "output_type": "stream",
     "text": [
      "[-432.30224739  223.99476799   -0.76914901]\n"
     ]
    },
    {
     "name": "stderr",
     "output_type": "stream",
     "text": [
      "c:\\Users\\glaisne\\mambaforge\\envs\\workspace\\Lib\\site-packages\\numba\\core\\decorators.py:262: NumbaDeprecationWarning: \u001b[1mnumba.generated_jit is deprecated. Please see the documentation at: https://numba.readthedocs.io/en/stable/reference/deprecation.html#deprecation-of-generated-jit for more information and advice on a suitable replacement.\u001b[0m\n",
      "  warnings.warn(msg, NumbaDeprecationWarning)\n"
     ]
    },
    {
     "name": "stdout",
     "output_type": "stream",
     "text": [
      "0\n",
      "0\n",
      "0\n",
      "(18.10365^e124) + (18.10365^e125) + (8.35855^e134) + (8.35855^e135) + (27.75129^e145) + (5.77232^e234) + (5.77232^e235) + (53.61365^e245) + (15.90526^e345)\n"
     ]
    },
    {
     "name": "stderr",
     "output_type": "stream",
     "text": [
      "c:\\Users\\glaisne\\mambaforge\\envs\\workspace\\Lib\\site-packages\\numba\\core\\decorators.py:262: NumbaDeprecationWarning: \u001b[1mnumba.generated_jit is deprecated. Please see the documentation at: https://numba.readthedocs.io/en/stable/reference/deprecation.html#deprecation-of-generated-jit for more information and advice on a suitable replacement.\u001b[0m\n",
      "  warnings.warn(msg, NumbaDeprecationWarning)\n"
     ]
    }
   ],
   "source": [
    "print(M1_I - zero1_in_C)\n",
    "\n",
    "# A = M1_I - zero1_in_C\n",
    "#  = M2_I - zero2_in_C\n",
    "I = insertion.to_numpy() @ np.array([e1, e2, e3])\n",
    "\n",
    "# T1 = up(zero1_in_C @ np.array([e1,e2,e3])) ^ ((M1_I - zero1_in_C) @ np.array([e1, e2, e3])) ^ ni\n",
    "# # T1 = no ^ (M1_I @ np.array([e1, e2, e3])) ^ ni\n",
    "# T2 = (M2_I - zero2_in_C) @ np.array([e1, e2, e3])\n",
    "# print((I - (zero1_in_C @ np.array([e1,e2,e3]))) ^ T1)\n",
    "# # T1 = up(zero1_in_C @ np.array([e1,e2,e3])) ^ T1 ^ ni\n",
    "# # T2 = up(zero2_in_C @ np.array([e1,e2,e3])) ^ T2 ^ ni\n",
    "\n",
    "# # K = T1.dual().meet(T2.dual())\n",
    "# # K\n",
    "# # I^T2\n",
    "# # .meet(T2.dual())\n",
    "\n",
    "M1 = np.linalg.inv(W1) @ (g1)\n",
    "M2 = np.linalg.inv(W2) @ (g2)\n",
    "\n",
    "P1 = ~ho.VectorSpace(M1)\n",
    "P2 = ~ho.VectorSpace(M2)\n",
    "\n",
    "p1, p2, p3 = P1.orthogonal_projection_matrix @ np.random.uniform(size=3), P1.orthogonal_projection_matrix @ np.random.uniform(size=3), P1.orthogonal_projection_matrix @ np.random.uniform(size=3)\n",
    "\n",
    "q1, q2, q3 = P2.orthogonal_projection_matrix @ np.random.uniform(size=3), P2.orthogonal_projection_matrix @ np.random.uniform(size=3), P2.orthogonal_projection_matrix @ np.random.uniform(size=3)\n",
    "\n",
    "M1_I = joint1.getParentFrame().findStationLocationInAnotherFrame(state, osim.Vec3(*M1), bodyC).to_numpy()\n",
    "zero1_I = joint1.getParentFrame().findStationLocationInAnotherFrame(state, osim.Vec3(0), bodyC).to_numpy()\n",
    "p1_I = joint1.getParentFrame().findStationLocationInAnotherFrame(state, osim.Vec3(*p1), bodyC).to_numpy()\n",
    "p2_I = joint1.getParentFrame().findStationLocationInAnotherFrame(state, osim.Vec3(*p2), bodyC).to_numpy()\n",
    "p3_I = joint1.getParentFrame().findStationLocationInAnotherFrame(state, osim.Vec3(*p3), bodyC).to_numpy()\n",
    "q1_I = joint1.getParentFrame().findStationLocationInAnotherFrame(state2, osim.Vec3(*q1), bodyC).to_numpy()\n",
    "q2_I = joint1.getParentFrame().findStationLocationInAnotherFrame(state2, osim.Vec3(*q2), bodyC).to_numpy()\n",
    "q3_I = joint1.getParentFrame().findStationLocationInAnotherFrame(state2, osim.Vec3(*q3), bodyC).to_numpy()\n",
    "\n",
    "p1 = up(p1_I @ np.array([e1, e2, e3]))\n",
    "p2 = up(p2_I @ np.array([e1, e2, e3]))\n",
    "p3 = up(p3_I @ np.array([e1, e2, e3]))\n",
    "\n",
    "q1 = up(q1_I @ np.array([e1, e2, e3]))\n",
    "q2 = up(q2_I @ np.array([e1, e2, e3]))\n",
    "q3 = up(q3_I @ np.array([e1, e2, e3]))\n",
    "\n",
    "u = (M1_I @ np.array([e1,e2,e3])) - (zero1_I @ np.array([e1,e2,e3]))\n",
    "dual_plane1 = (u + ((zero1_I @ np.array([e1,e2,e3])) | u)*ni)\n",
    "plane1 = dual_plane1.dual()\n",
    "# plane1 = p1^p2^p3^ni\n",
    "plane2 = q1^q2^q3^ni\n",
    "\n",
    "# print(I^plane1)\n",
    "# print(I^plane2)\n",
    "inter = plane1.meet(plane2)\n",
    "print(up(I)^inter)\n",
    "print(up(I)^plane1)\n",
    "print(up(I)^plane2)\n",
    "\n",
    "print(inter)"
   ]
  },
  {
   "cell_type": "code",
   "execution_count": 41,
   "metadata": {},
   "outputs": [
    {
     "data": {
      "text/plain": [
       "array([ 1.00000000e+00,  2.77555756e-17, -1.11022302e-16])"
      ]
     },
     "execution_count": 41,
     "metadata": {},
     "output_type": "execute_result"
    }
   ],
   "source": [
    "ground.expressVectorInAnotherFrame(state, osim.Vec3(*J[:, 3]), joint2.getParentFrame()).to_numpy()"
   ]
  },
  {
   "cell_type": "code",
   "execution_count": 158,
   "metadata": {},
   "outputs": [
    {
     "name": "stdout",
     "output_type": "stream",
     "text": [
      "~[0 0 0 0]\n"
     ]
    }
   ],
   "source": [
    "\n",
    "matter: osim.SimbodyMatterSubsystem = model.getMatterSubsystem()\n",
    "Qdot = state.getQDot()\n",
    "print(Qdot)"
   ]
  },
  {
   "cell_type": "code",
   "execution_count": 268,
   "metadata": {},
   "outputs": [
    {
     "data": {
      "text/plain": [
       "array([[0.        , 0.        , 0.33333333],\n",
       "       [0.        , 0.        , 0.33333333],\n",
       "       [0.        , 0.        , 0.33333333]])"
      ]
     },
     "execution_count": 268,
     "metadata": {},
     "output_type": "execute_result"
    }
   ],
   "source": [
    "wm = np.zeros((3,3))\n",
    "wm[2,:] = 1\n",
    "np.linalg.pinv(wm)"
   ]
  },
  {
   "cell_type": "code",
   "execution_count": null,
   "metadata": {},
   "outputs": [],
   "source": []
  }
 ],
 "metadata": {
  "kernelspec": {
   "display_name": "workspace",
   "language": "python",
   "name": "python3"
  },
  "language_info": {
   "codemirror_mode": {
    "name": "ipython",
    "version": 3
   },
   "file_extension": ".py",
   "mimetype": "text/x-python",
   "name": "python",
   "nbconvert_exporter": "python",
   "pygments_lexer": "ipython3",
   "version": "3.11.9"
  }
 },
 "nbformat": 4,
 "nbformat_minor": 2
}
