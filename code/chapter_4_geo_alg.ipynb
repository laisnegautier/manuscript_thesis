{
 "cells": [
  {
   "cell_type": "code",
   "execution_count": 1,
   "metadata": {},
   "outputs": [
    {
     "name": "stderr",
     "output_type": "stream",
     "text": [
      "c:\\Users\\glaisne\\mambaforge\\envs\\workspace\\Lib\\site-packages\\numba\\core\\decorators.py:262: NumbaDeprecationWarning: \u001b[1mnumba.generated_jit is deprecated. Please see the documentation at: https://numba.readthedocs.io/en/stable/reference/deprecation.html#deprecation-of-generated-jit for more information and advice on a suitable replacement.\u001b[0m\n",
      "  warnings.warn(msg, NumbaDeprecationWarning)\n",
      "c:\\Users\\glaisne\\mambaforge\\envs\\workspace\\Lib\\site-packages\\numba\\core\\decorators.py:262: NumbaDeprecationWarning: \u001b[1mnumba.generated_jit is deprecated. Please see the documentation at: https://numba.readthedocs.io/en/stable/reference/deprecation.html#deprecation-of-generated-jit for more information and advice on a suitable replacement.\u001b[0m\n",
      "  warnings.warn(msg, NumbaDeprecationWarning)\n",
      "c:\\Users\\glaisne\\mambaforge\\envs\\workspace\\Lib\\site-packages\\numba\\core\\decorators.py:262: NumbaDeprecationWarning: \u001b[1mnumba.generated_jit is deprecated. Please see the documentation at: https://numba.readthedocs.io/en/stable/reference/deprecation.html#deprecation-of-generated-jit for more information and advice on a suitable replacement.\u001b[0m\n",
      "  warnings.warn(msg, NumbaDeprecationWarning)\n",
      "c:\\Users\\glaisne\\mambaforge\\envs\\workspace\\Lib\\site-packages\\clifford\\tools\\g3c\\__init__.py:1034: NumbaDeprecationWarning: \u001b[1mThe 'nopython' keyword argument was not supplied to the 'numba.jit' decorator. The implicit default value for this argument is currently False, but it will be changed to True in Numba 0.59.0. See https://numba.readthedocs.io/en/stable/reference/deprecation.html#deprecation-of-object-mode-fall-back-behaviour-when-using-jit for details.\u001b[0m\n",
      "  @numba.jit\n",
      "c:\\Users\\glaisne\\mambaforge\\envs\\workspace\\Lib\\site-packages\\clifford\\tools\\g3c\\__init__.py:1040: NumbaDeprecationWarning: \u001b[1mThe 'nopython' keyword argument was not supplied to the 'numba.jit' decorator. The implicit default value for this argument is currently False, but it will be changed to True in Numba 0.59.0. See https://numba.readthedocs.io/en/stable/reference/deprecation.html#deprecation-of-object-mode-fall-back-behaviour-when-using-jit for details.\u001b[0m\n",
      "  @numba.jit\n",
      "c:\\Users\\glaisne\\mambaforge\\envs\\workspace\\Lib\\site-packages\\numba\\core\\decorators.py:262: NumbaDeprecationWarning: \u001b[1mnumba.generated_jit is deprecated. Please see the documentation at: https://numba.readthedocs.io/en/stable/reference/deprecation.html#deprecation-of-generated-jit for more information and advice on a suitable replacement.\u001b[0m\n",
      "  warnings.warn(msg, NumbaDeprecationWarning)\n",
      "c:\\Users\\glaisne\\mambaforge\\envs\\workspace\\Lib\\site-packages\\numba\\core\\decorators.py:262: NumbaDeprecationWarning: \u001b[1mnumba.generated_jit is deprecated. Please see the documentation at: https://numba.readthedocs.io/en/stable/reference/deprecation.html#deprecation-of-generated-jit for more information and advice on a suitable replacement.\u001b[0m\n",
      "  warnings.warn(msg, NumbaDeprecationWarning)\n"
     ]
    }
   ],
   "source": [
    "import opensim as osim\n",
    "import numpy as np\n",
    "import hyperobjects as ho\n",
    "import common\n",
    "import clifford as cf\n",
    "import clifford.tools.g3c as g3c_tools\n",
    "\n",
    "G3, blades_g3 = cf.Cl(3) # instantiate a 3D- GA\n",
    "G3c, blades_g3c, stuff = cf.conformalize(G3)\n",
    "\n",
    "e1, e2, e3 = blades_g3c[\"e1\"], blades_g3c[\"e2\"], blades_g3c[\"e3\"]\n",
    "up, down = stuff[\"up\"], stuff[\"down\"]\n",
    "no, ni = stuff[\"eo\"], stuff[\"einf\"]\n"
   ]
  },
  {
   "cell_type": "code",
   "execution_count": 2,
   "metadata": {},
   "outputs": [],
   "source": [
    "O_in_G = g3c_tools.random_conformal_point()\n",
    "I_in_B4 = g3c_tools.random_conformal_point()\n",
    "\n",
    "G = 1\n",
    "B1 = g3c_tools.random_rotation_translation_rotor()\n",
    "J1_q1 = g3c_tools.random_rotation_translation_rotor()\n",
    "J1_q2 = g3c_tools.random_rotation_translation_rotor()\n",
    "\n",
    "B2 = g3c_tools.random_rotation_translation_rotor()\n",
    "J2_q1 = g3c_tools.random_rotation_translation_rotor()\n",
    "J2_q2 = g3c_tools.random_rotation_translation_rotor()\n",
    "\n",
    "B3 = g3c_tools.random_rotation_translation_rotor()\n",
    "J3_q1 = g3c_tools.random_rotation_translation_rotor()\n",
    "J3_q2 = g3c_tools.random_rotation_translation_rotor()\n",
    "\n",
    "B4 = g3c_tools.random_rotation_translation_rotor()"
   ]
  },
  {
   "cell_type": "code",
   "execution_count": 43,
   "metadata": {},
   "outputs": [
    {
     "name": "stdout",
     "output_type": "stream",
     "text": [
      "42.40499627794621\n",
      "42.40499627794656\n",
      "42.40499627794793\n",
      "42.40499627794638\n",
      "18.567760542054014\n",
      "18.567760542054355\n",
      "18.567760542054064\n",
      "18.567760542053964\n"
     ]
    }
   ],
   "source": [
    "T_42_q1 = J2_q1*B3*J3_q1*B4\n",
    "T_43_q1 = J3_q1*B4\n",
    "T_G2_q1 = ~(B1*J1_q1*B2)\n",
    "T_G3_q1 = ~(B1*J1_q1*B2*J2_q1*B3)\n",
    "\n",
    "T_4G_q1 = B1*J1_q1*B2*J2_q1*B3*J3_q1*B4\n",
    "T_3G_q1 = B1*J1_q1*B2*J2_q1*B3\n",
    "T_2G_q1 = B1*J1_q1*B2\n",
    "T_1G_q1 = B1\n",
    "\n",
    "T_42_q2 = J2_q2*B3*J3_q2*B4\n",
    "T_43_q2 = J3_q2*B4\n",
    "T_G2_q2 = ~(B1*J1_q2*B2)\n",
    "T_G3_q2 = ~(B1*J1_q2*B2*J2_q2*B3)\n",
    "T_4G_q2 = B1*J1_q2*B2*J2_q2*B3*J3_q2*B4\n",
    "T_3G_q2 = B1*J1_q2*B2*J2_q2*B3\n",
    "T_2G_q2 = B1*J1_q2*B2\n",
    "T_1G_q2 = B1\n",
    "\n",
    "I_in_G_q1 = g3c_tools.apply_rotor(I_in_B4, T_4G_q1)\n",
    "I_in_B2_q1 = g3c_tools.apply_rotor(I_in_B4, T_42_q1)\n",
    "I_in_B3_q1 = g3c_tools.apply_rotor(I_in_B4, T_43_q1)\n",
    "O_in_B2_q1 = g3c_tools.apply_rotor(O_in_G, T_G2_q1)\n",
    "O_in_B3_q1 = g3c_tools.apply_rotor(O_in_G, T_G3_q1)\n",
    "O_in_B4_q1 = g3c_tools.apply_rotor(O_in_G, ~T_4G_q1)\n",
    "\n",
    "I_in_G_q2 = g3c_tools.apply_rotor(I_in_B4, T_4G_q2)\n",
    "I_in_B2_q2 = g3c_tools.apply_rotor(I_in_B4, T_42_q2)\n",
    "I_in_B3_q2 = g3c_tools.apply_rotor(I_in_B4, T_43_q2)\n",
    "O_in_B2_q2 = g3c_tools.apply_rotor(O_in_G, T_G2_q2)\n",
    "O_in_B3_q2 = g3c_tools.apply_rotor(O_in_G, T_G3_q2)\n",
    "O_in_B4_q2 = g3c_tools.apply_rotor(O_in_G, ~T_4G_q2)\n",
    "\n",
    "\n",
    "print(abs(I_in_B4 - O_in_B4_q1))\n",
    "print(abs(I_in_B2_q1 - O_in_B2_q1))\n",
    "print(abs(I_in_B3_q1 - O_in_B3_q1))\n",
    "print(abs(I_in_G_q1 - O_in_G))\n",
    "\n",
    "print(abs(I_in_B4 - O_in_B4_q2))\n",
    "print(abs(I_in_B2_q2 - O_in_B2_q2))\n",
    "print(abs(I_in_B3_q2 - O_in_B3_q2))\n",
    "print(abs(I_in_G_q2 - O_in_G))"
   ]
  },
  {
   "cell_type": "code",
   "execution_count": 44,
   "metadata": {},
   "outputs": [],
   "source": [
    "L_in_G_q1 = O_in_G^I_in_G_q1^ni\n",
    "L_in_B2_q1 = g3c_tools.apply_rotor(L_in_G_q1, ~T_2G_q1)\n",
    "L_in_B3_q1 = g3c_tools.apply_rotor(L_in_G_q1, ~T_3G_q1)\n",
    "L_in_B4_q1 = g3c_tools.apply_rotor(L_in_G_q1, ~T_4G_q1)\n",
    "\n",
    "L_in_G_q2 = O_in_G^I_in_G_q2^ni\n",
    "L_in_B2_q2 = g3c_tools.apply_rotor(L_in_G_q2, ~T_2G_q2)\n",
    "L_in_B3_q2 = g3c_tools.apply_rotor(L_in_G_q2, ~T_3G_q2)\n",
    "L_in_B4_q2 = g3c_tools.apply_rotor(L_in_G_q2, ~T_4G_q2)"
   ]
  },
  {
   "cell_type": "code",
   "execution_count": 45,
   "metadata": {},
   "outputs": [
    {
     "name": "stdout",
     "output_type": "stream",
     "text": [
      "(453.32367^e124) + (453.32367^e125) + (107.07193^e134) + (107.07193^e135) + (26.17924^e145) + (189.16392^e234) + (189.16392^e235) + (33.21677^e245) - (3.07856^e345)\n",
      "(453.32367^e124) + (453.32367^e125) + (107.07193^e134) + (107.07193^e135) + (26.17924^e145) + (189.16392^e234) + (189.16392^e235) + (33.21677^e245) - (3.07856^e345)\n"
     ]
    }
   ],
   "source": [
    "print(L_in_G_q1)\n",
    "print(g3c_tools.apply_rotor(L_in_B3_q1, T_3G_q1))"
   ]
  },
  {
   "cell_type": "code",
   "execution_count": 46,
   "metadata": {},
   "outputs": [
    {
     "name": "stdout",
     "output_type": "stream",
     "text": [
      "(550.5123^e124) + (550.5123^e125) - (183.43288^e134) - (183.43288^e135) - (33.47027^e145) + (450.81794^e234) + (450.81794^e235) + (9.47281^e245) + (24.25264^e345)\n",
      "(550.5123^e124) + (550.5123^e125) - (183.43288^e134) - (183.43288^e135) - (33.47027^e145) + (450.81794^e234) + (450.81794^e235) + (9.47281^e245) + (24.25264^e345)\n",
      "(550.5123^e124) + (550.5123^e125) - (183.43288^e134) - (183.43288^e135) - (33.47027^e145) + (450.81794^e234) + (450.81794^e235) + (9.47281^e245) + (24.25264^e345)\n"
     ]
    }
   ],
   "source": [
    "print(L_in_B3_q1)\n",
    "print(O_in_B3_q1^I_in_B3_q1^ni)\n",
    "print(O_in_B3_q1^(I_in_B3_q1 - O_in_B3_q1)^ni)"
   ]
  },
  {
   "cell_type": "code",
   "execution_count": 130,
   "metadata": {},
   "outputs": [
    {
     "name": "stdout",
     "output_type": "stream",
     "text": [
      "(5.98402^e1) + (14.75419^e2) - (9.81651^e3)\n",
      "[ -40.97255987 -452.0063922    71.94726923]\n",
      "(40.97256^e1) + (452.00639^e2) - (71.94727^e3)\n",
      "\n",
      "[73.26634446 90.07599354  5.67519505]\n",
      "-(73.26634^e1) - (90.07599^e2) - (5.6752^e3)\n",
      "\n",
      "LI2 (0.31671^e145) + (0.90971^e245) - (0.26856^e345)\n",
      "(0.28925^e145) - (0.17599^e245) - (0.94094^e345)\n",
      "-(19.71304^e1) - (4.15248^e2) - (37.31403^e3)\n",
      "\n",
      "(0.0^e1245) + (0.0^e1345) - (0.0^e2345)\n",
      "I (0.28925^e1) - (0.17599^e2) - (0.94094^e3)\n",
      "(4.4559^e1) - (2.71111^e2) - (14.49492^e3) + (118.15387^e4) + (119.15387^e5)\n",
      "-(0.0^e34) - (0.0^e35) + (0.0^e1234) + (0.0^e1235) + (0.0^e1245) - (0.0^e1345) - (0.0^e2345)\n",
      "(0.0^e1234) + (0.0^e1235) - (0.0^e1245) - (0.0^e1345) - (0.0^e2345)\n",
      "[3.94589021 4.85120396 0.30564779]\n",
      "-(0.30565^e124) - (0.30565^e125) + (4.8512^e134) + (4.8512^e135) + (0.55711^e145) - (3.94589^e234) - (3.94589^e235) - (0.40756^e245) - (0.72355^e345)\n"
     ]
    }
   ],
   "source": [
    "print(down(O_in_B3_q1))\n",
    "\n",
    "def point_to_np(p):\n",
    "    return np.array([down(p) | e1, down(p) | e2, down(p) | e3]).astype(float)\n",
    "\n",
    "O_in_B4_np_q1 = point_to_np(O_in_B4_q1)\n",
    "O_in_B4_np_q2 = point_to_np(O_in_B4_q2)\n",
    "I_in_B4_np = point_to_np(I_in_B4)\n",
    "\n",
    "M_in_B4_q1 = L_in_B4_q1.dual()\n",
    "M_in_B4_q2 = L_in_B4_q2.dual()\n",
    "\n",
    "M_dir_in_B4_q1 = (M_in_B4_q1 | (-e1*e2))*(e1^e2) + (M_in_B4_q1 | (-e1*e3))*(e1^e3) + (M_in_B4_q1 | (-e2*e3))*(e2^e3)\n",
    "M_dir_in_B4_q1_normal = M_dir_in_B4_q1 | (e1^e2^e3)\n",
    "M_mom_in_B4_q1 = M_in_B4_q1 | no\n",
    "\n",
    "M_dir_in_B4_q2 = (M_in_B4_q2 | (-e1*e2))*(e1^e2) + (M_in_B4_q2 | (-e1*e3))*(e1^e3) + (M_in_B4_q2 | (-e2*e3))*(e2^e3)\n",
    "M_dir_in_B4_q2_normal = M_dir_in_B4_q2 | (e1^e2^e3)\n",
    "M_mom_in_B4_q2 = M_in_B4_q2 | no\n",
    "\n",
    "print(np.cross(I_in_B4_np, O_in_B4_np_q1))\n",
    "print(M_mom_in_B4_q1)\n",
    "print()\n",
    "\n",
    "print(np.cross(I_in_B4_np, O_in_B4_np_q2))\n",
    "print(M_mom_in_B4_q2)\n",
    "\n",
    "Line_I = g3c_tools.meet(M_mom_in_B4_q1.dual(), M_mom_in_B4_q2.dual())\n",
    "Line_I2 = g3c_tools.meet(M_dir_in_B4_q1_normal.dual(), M_dir_in_B4_q2_normal.dual())\n",
    "# print(Line_I)\n",
    "print()\n",
    "print(\"LI2\", Line_I2.normal())\n",
    "print(Line_I.normal())\n",
    "print(M_dir_in_B4_q1_normal)\n",
    "print()\n",
    "\n",
    "print((I_in_B4 ^ Line_I))\n",
    "print(\"I\", (down(I_in_B4).normal()))\n",
    "\n",
    "print(I_in_B4)\n",
    "print(I_in_B4 ^ L_in_B4_q1)\n",
    "print(I_in_B4 ^ L_in_B4_q2)\n",
    "\n",
    "print(np.cross(I_in_B4_np, O_in_B4_np_q2) / np.linalg.norm(I_in_B4_np - O_in_B4_np_q2))\n",
    "print(L_in_B4_q2.normal())\n",
    "\n",
    "# print(L_in_G_q1.dual())\n",
    "# print(print(np.cross(I_in_B3_np_q1, O_in_B3_np_q1)))\n",
    "# M_q1 = L_in_G_q1.dual() | (e1^e2)\n",
    "# M_q1"
   ]
  },
  {
   "cell_type": "code",
   "execution_count": 124,
   "metadata": {},
   "outputs": [
    {
     "name": "stdout",
     "output_type": "stream",
     "text": [
      "(37.31403^e12) - (4.15248^e13) + (19.71304^e23)\n",
      "(4.4559^e1) - (2.71111^e2) - (14.49492^e3) + (118.15387^e4) + (119.15387^e5)\n"
     ]
    },
    {
     "data": {
      "text/plain": [
       "-(464.2822^e123) + (4408.79667^e124) + (4446.11069^e125) - (490.63188^e134) - (494.78436^e135) + (2329.17195^e234) + (2348.88499^e235)"
      ]
     },
     "execution_count": 124,
     "metadata": {},
     "output_type": "execute_result"
    }
   ],
   "source": [
    "print(M_dir_in_B4_q1)\n",
    "print(I_in_B4)\n",
    "I_in_B4 ^ M_dir_in_B4_q1 "
   ]
  },
  {
   "cell_type": "code",
   "execution_count": 34,
   "metadata": {},
   "outputs": [
    {
     "name": "stdout",
     "output_type": "stream",
     "text": [
      "(0.0^e4) + (0.0^e5) - (0.0^e124) - (0.0^e125) - (0.0^e134) - (0.0^e135) - (0.0^e145) + (0.0^e234) + (0.0^e235) - (0.0^e245) - (0.0^e345)\n",
      "(37.31403^e12) - (4.15248^e13) - (40.97256^e14) - (40.97256^e15) + (19.71304^e23) - (452.00639^e24) - (452.00639^e25) + (71.94727^e34) + (71.94727^e35)\n",
      "(13.4347^e12) - (7.56743^e13) + (73.26634^e14) + (73.26634^e15) - (10.34429^e23) + (90.07599^e24) + (90.07599^e25) + (5.6752^e34) + (5.6752^e35)\n",
      "0\n",
      "(3.07856^e12) + (33.21677^e13) - (189.16392^e14) - (189.16392^e15) - (26.17924^e23) + (107.07193^e24) + (107.07193^e25) - (453.32367^e34) - (453.32367^e35)\n",
      "-(9.58812^e12) - (2.55136^e13) + (190.30129^e14) + (190.30129^e15) - (15.69459^e23) + (50.85682^e24) + (50.85682^e25) - (297.96735^e34) - (297.96735^e35)\n"
     ]
    }
   ],
   "source": [
    "L_O = g3c_tools.meet(L_in_G_q1, L_in_G_q2)\n",
    "print(L_O)\n",
    "print(L_in_B4_q1.dual())\n",
    "print(L_in_B4_q2.dual())\n",
    "\n",
    "print(g3c_tools.meet(L_in_G_q1.dual(), L_in_G_q2.dual()))\n",
    "# print(L)\n",
    "print(L_in_G_q1.dual())\n",
    "print(L_in_G_q2.dual())\n"
   ]
  },
  {
   "cell_type": "code",
   "execution_count": 78,
   "metadata": {},
   "outputs": [
    {
     "data": {
      "text/plain": [
       "(1.3^e12) + (3.0^e13)"
      ]
     },
     "execution_count": 78,
     "metadata": {},
     "output_type": "execute_result"
    }
   ],
   "source": [
    "(1.3^e1^e2) + 3*(e1^e3)"
   ]
  },
  {
   "cell_type": "code",
   "execution_count": null,
   "metadata": {},
   "outputs": [],
   "source": []
  }
 ],
 "metadata": {
  "kernelspec": {
   "display_name": "workspace",
   "language": "python",
   "name": "python3"
  },
  "language_info": {
   "codemirror_mode": {
    "name": "ipython",
    "version": 3
   },
   "file_extension": ".py",
   "mimetype": "text/x-python",
   "name": "python",
   "nbconvert_exporter": "python",
   "pygments_lexer": "ipython3",
   "version": "3.11.9"
  }
 },
 "nbformat": 4,
 "nbformat_minor": 2
}
