{
 "cells": [
  {
   "cell_type": "code",
   "execution_count": 6,
   "metadata": {},
   "outputs": [
    {
     "name": "stdout",
     "output_type": "stream",
     "text": [
      "[[-0.01  0.34  0.18  0.38 -0.16  0.61 -0.28]\n",
      " [-0.95  0.37  0.98 -0.32  0.03 -0.67  0.44]\n",
      " [ 1.31 -0.59 -0.98  0.11  0.46  0.2   0.11]]\n",
      "[[ 1. -0. -0.]\n",
      " [ 0.  1.  0.]\n",
      " [-0. -0.  1.]]\n",
      "[[-0.01  0.34  0.18  0.38 -0.16  0.61 -0.28]\n",
      " [-0.95  0.37  0.98 -0.32  0.03 -0.67  0.44]\n",
      " [ 1.31 -0.59 -0.98  0.11  0.46  0.2   0.11]]\n"
     ]
    }
   ],
   "source": [
    "import numpy as np\n",
    "\n",
    "\n",
    "Jt = np.random.uniform(size=(7,3))\n",
    "\n",
    "Jtplus = np.linalg.pinv(Jt)\n",
    "print(Jtplus.round(2))\n",
    "print((Jtplus@Jt).round(2))\n",
    "\n",
    "Jtplus_manual = np.linalg.inv(Jt.T @ Jt) @ Jt.T\n",
    "print(Jtplus_manual.round(2))\n",
    "\n"
   ]
  },
  {
   "cell_type": "code",
   "execution_count": 2,
   "metadata": {},
   "outputs": [],
   "source": [
    "\n",
    "from scipy.special import comb\n",
    "def nb_k_face_zonotope(k, n, m):\n",
    "    \"\"\"Returns the number of k-dimensional faces of a zonotope in R^n with m generators in general position.\"\"\"\n",
    "    return 2 * comb(m, k) * sum([comb(m-k-1, i) for i in range(0, n-k)])\n"
   ]
  },
  {
   "cell_type": "code",
   "execution_count": 5,
   "metadata": {},
   "outputs": [
    {
     "data": {
      "text/plain": [
       "16.0"
      ]
     },
     "execution_count": 5,
     "metadata": {},
     "output_type": "execute_result"
    }
   ],
   "source": [
    "n, m = 2, 2\n",
    "nb_k_face_zonotope(1, m, m) * m * 2"
   ]
  },
  {
   "cell_type": "code",
   "execution_count": null,
   "metadata": {},
   "outputs": [],
   "source": []
  }
 ],
 "metadata": {
  "kernelspec": {
   "display_name": "workspace",
   "language": "python",
   "name": "python3"
  },
  "language_info": {
   "codemirror_mode": {
    "name": "ipython",
    "version": 3
   },
   "file_extension": ".py",
   "mimetype": "text/x-python",
   "name": "python",
   "nbconvert_exporter": "python",
   "pygments_lexer": "ipython3",
   "version": "3.11.9"
  }
 },
 "nbformat": 4,
 "nbformat_minor": 2
}
